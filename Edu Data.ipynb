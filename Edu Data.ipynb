{
 "cells": [
  {
   "cell_type": "markdown",
   "metadata": {},
   "source": [
    "## Objective\n",
    "* Prediction of Why Students Getting Low Grades"
   ]
  },
  {
   "cell_type": "code",
   "execution_count": 1,
   "metadata": {},
   "outputs": [
    {
     "data": {
      "text/html": [
       "        <script type=\"text/javascript\">\n",
       "        window.PlotlyConfig = {MathJaxConfig: 'local'};\n",
       "        if (window.MathJax && window.MathJax.Hub && window.MathJax.Hub.Config) {window.MathJax.Hub.Config({SVG: {font: \"STIX-Web\"}});}\n",
       "        if (typeof require !== 'undefined') {\n",
       "        require.undef(\"plotly\");\n",
       "        requirejs.config({\n",
       "            paths: {\n",
       "                'plotly': ['https://cdn.plot.ly/plotly-2.12.1.min']\n",
       "            }\n",
       "        });\n",
       "        require(['plotly'], function(Plotly) {\n",
       "            window._Plotly = Plotly;\n",
       "        });\n",
       "        }\n",
       "        </script>\n",
       "        "
      ]
     },
     "metadata": {},
     "output_type": "display_data"
    }
   ],
   "source": [
    "#Importing libraries\n",
    "import numpy as np # linear algebra\n",
    "import pandas as pd # data processing, CSV file I/O \n",
    "import os\n",
    "import itertools\n",
    "import warnings\n",
    "warnings.filterwarnings(\"ignore\")\n",
    "import io\n",
    "\n",
    "################# visualization #################\n",
    "import matplotlib.pyplot as plt \n",
    "from PIL import  Image\n",
    "import seaborn as sns \n",
    "import plotly.offline as py\n",
    "py.init_notebook_mode(connected=True)\n",
    "import plotly.graph_objs as go\n",
    "import plotly.tools as tls\n",
    "import plotly.figure_factory as ff"
   ]
  },
  {
   "cell_type": "markdown",
   "metadata": {},
   "source": [
    "## Data Importing"
   ]
  },
  {
   "cell_type": "code",
   "execution_count": 2,
   "metadata": {},
   "outputs": [
    {
     "data": {
      "text/html": [
       "<div>\n",
       "<style scoped>\n",
       "    .dataframe tbody tr th:only-of-type {\n",
       "        vertical-align: middle;\n",
       "    }\n",
       "\n",
       "    .dataframe tbody tr th {\n",
       "        vertical-align: top;\n",
       "    }\n",
       "\n",
       "    .dataframe thead th {\n",
       "        text-align: right;\n",
       "    }\n",
       "</style>\n",
       "<table border=\"1\" class=\"dataframe\">\n",
       "  <thead>\n",
       "    <tr style=\"text-align: right;\">\n",
       "      <th></th>\n",
       "      <th>gender</th>\n",
       "      <th>NationalITy</th>\n",
       "      <th>PlaceofBirth</th>\n",
       "      <th>StageID</th>\n",
       "      <th>GradeID</th>\n",
       "      <th>SectionID</th>\n",
       "      <th>Topic</th>\n",
       "      <th>Semester</th>\n",
       "      <th>Relation</th>\n",
       "      <th>raisedhands</th>\n",
       "      <th>VisITedResources</th>\n",
       "      <th>AnnouncementsView</th>\n",
       "      <th>Discussion</th>\n",
       "      <th>ParentAnsweringSurvey</th>\n",
       "      <th>ParentschoolSatisfaction</th>\n",
       "      <th>StudentAbsenceDays</th>\n",
       "      <th>Class</th>\n",
       "    </tr>\n",
       "  </thead>\n",
       "  <tbody>\n",
       "    <tr>\n",
       "      <th>0</th>\n",
       "      <td>M</td>\n",
       "      <td>KW</td>\n",
       "      <td>KuwaIT</td>\n",
       "      <td>lowerlevel</td>\n",
       "      <td>G-04</td>\n",
       "      <td>A</td>\n",
       "      <td>IT</td>\n",
       "      <td>F</td>\n",
       "      <td>Father</td>\n",
       "      <td>15</td>\n",
       "      <td>16</td>\n",
       "      <td>2</td>\n",
       "      <td>20</td>\n",
       "      <td>Yes</td>\n",
       "      <td>Good</td>\n",
       "      <td>Under-7</td>\n",
       "      <td>M</td>\n",
       "    </tr>\n",
       "    <tr>\n",
       "      <th>1</th>\n",
       "      <td>M</td>\n",
       "      <td>KW</td>\n",
       "      <td>KuwaIT</td>\n",
       "      <td>lowerlevel</td>\n",
       "      <td>G-04</td>\n",
       "      <td>A</td>\n",
       "      <td>IT</td>\n",
       "      <td>F</td>\n",
       "      <td>Father</td>\n",
       "      <td>20</td>\n",
       "      <td>20</td>\n",
       "      <td>3</td>\n",
       "      <td>25</td>\n",
       "      <td>Yes</td>\n",
       "      <td>Good</td>\n",
       "      <td>Under-7</td>\n",
       "      <td>M</td>\n",
       "    </tr>\n",
       "    <tr>\n",
       "      <th>2</th>\n",
       "      <td>M</td>\n",
       "      <td>KW</td>\n",
       "      <td>KuwaIT</td>\n",
       "      <td>lowerlevel</td>\n",
       "      <td>G-04</td>\n",
       "      <td>A</td>\n",
       "      <td>IT</td>\n",
       "      <td>F</td>\n",
       "      <td>Father</td>\n",
       "      <td>10</td>\n",
       "      <td>7</td>\n",
       "      <td>0</td>\n",
       "      <td>30</td>\n",
       "      <td>No</td>\n",
       "      <td>Bad</td>\n",
       "      <td>Above-7</td>\n",
       "      <td>L</td>\n",
       "    </tr>\n",
       "    <tr>\n",
       "      <th>3</th>\n",
       "      <td>M</td>\n",
       "      <td>KW</td>\n",
       "      <td>KuwaIT</td>\n",
       "      <td>lowerlevel</td>\n",
       "      <td>G-04</td>\n",
       "      <td>A</td>\n",
       "      <td>IT</td>\n",
       "      <td>F</td>\n",
       "      <td>Father</td>\n",
       "      <td>30</td>\n",
       "      <td>25</td>\n",
       "      <td>5</td>\n",
       "      <td>35</td>\n",
       "      <td>No</td>\n",
       "      <td>Bad</td>\n",
       "      <td>Above-7</td>\n",
       "      <td>L</td>\n",
       "    </tr>\n",
       "    <tr>\n",
       "      <th>4</th>\n",
       "      <td>M</td>\n",
       "      <td>KW</td>\n",
       "      <td>KuwaIT</td>\n",
       "      <td>lowerlevel</td>\n",
       "      <td>G-04</td>\n",
       "      <td>A</td>\n",
       "      <td>IT</td>\n",
       "      <td>F</td>\n",
       "      <td>Father</td>\n",
       "      <td>40</td>\n",
       "      <td>50</td>\n",
       "      <td>12</td>\n",
       "      <td>50</td>\n",
       "      <td>No</td>\n",
       "      <td>Bad</td>\n",
       "      <td>Above-7</td>\n",
       "      <td>M</td>\n",
       "    </tr>\n",
       "    <tr>\n",
       "      <th>5</th>\n",
       "      <td>F</td>\n",
       "      <td>KW</td>\n",
       "      <td>KuwaIT</td>\n",
       "      <td>lowerlevel</td>\n",
       "      <td>G-04</td>\n",
       "      <td>A</td>\n",
       "      <td>IT</td>\n",
       "      <td>F</td>\n",
       "      <td>Father</td>\n",
       "      <td>42</td>\n",
       "      <td>30</td>\n",
       "      <td>13</td>\n",
       "      <td>70</td>\n",
       "      <td>Yes</td>\n",
       "      <td>Bad</td>\n",
       "      <td>Above-7</td>\n",
       "      <td>M</td>\n",
       "    </tr>\n",
       "    <tr>\n",
       "      <th>6</th>\n",
       "      <td>M</td>\n",
       "      <td>KW</td>\n",
       "      <td>KuwaIT</td>\n",
       "      <td>MiddleSchool</td>\n",
       "      <td>G-07</td>\n",
       "      <td>A</td>\n",
       "      <td>Math</td>\n",
       "      <td>F</td>\n",
       "      <td>Father</td>\n",
       "      <td>35</td>\n",
       "      <td>12</td>\n",
       "      <td>0</td>\n",
       "      <td>17</td>\n",
       "      <td>No</td>\n",
       "      <td>Bad</td>\n",
       "      <td>Above-7</td>\n",
       "      <td>L</td>\n",
       "    </tr>\n",
       "    <tr>\n",
       "      <th>7</th>\n",
       "      <td>M</td>\n",
       "      <td>KW</td>\n",
       "      <td>KuwaIT</td>\n",
       "      <td>MiddleSchool</td>\n",
       "      <td>G-07</td>\n",
       "      <td>A</td>\n",
       "      <td>Math</td>\n",
       "      <td>F</td>\n",
       "      <td>Father</td>\n",
       "      <td>50</td>\n",
       "      <td>10</td>\n",
       "      <td>15</td>\n",
       "      <td>22</td>\n",
       "      <td>Yes</td>\n",
       "      <td>Good</td>\n",
       "      <td>Under-7</td>\n",
       "      <td>M</td>\n",
       "    </tr>\n",
       "    <tr>\n",
       "      <th>8</th>\n",
       "      <td>F</td>\n",
       "      <td>KW</td>\n",
       "      <td>KuwaIT</td>\n",
       "      <td>MiddleSchool</td>\n",
       "      <td>G-07</td>\n",
       "      <td>A</td>\n",
       "      <td>Math</td>\n",
       "      <td>F</td>\n",
       "      <td>Father</td>\n",
       "      <td>12</td>\n",
       "      <td>21</td>\n",
       "      <td>16</td>\n",
       "      <td>50</td>\n",
       "      <td>Yes</td>\n",
       "      <td>Good</td>\n",
       "      <td>Under-7</td>\n",
       "      <td>M</td>\n",
       "    </tr>\n",
       "    <tr>\n",
       "      <th>9</th>\n",
       "      <td>F</td>\n",
       "      <td>KW</td>\n",
       "      <td>KuwaIT</td>\n",
       "      <td>MiddleSchool</td>\n",
       "      <td>G-07</td>\n",
       "      <td>B</td>\n",
       "      <td>IT</td>\n",
       "      <td>F</td>\n",
       "      <td>Father</td>\n",
       "      <td>70</td>\n",
       "      <td>80</td>\n",
       "      <td>25</td>\n",
       "      <td>70</td>\n",
       "      <td>Yes</td>\n",
       "      <td>Good</td>\n",
       "      <td>Under-7</td>\n",
       "      <td>M</td>\n",
       "    </tr>\n",
       "  </tbody>\n",
       "</table>\n",
       "</div>"
      ],
      "text/plain": [
       "  gender NationalITy PlaceofBirth       StageID GradeID SectionID Topic  \\\n",
       "0      M          KW       KuwaIT    lowerlevel    G-04         A    IT   \n",
       "1      M          KW       KuwaIT    lowerlevel    G-04         A    IT   \n",
       "2      M          KW       KuwaIT    lowerlevel    G-04         A    IT   \n",
       "3      M          KW       KuwaIT    lowerlevel    G-04         A    IT   \n",
       "4      M          KW       KuwaIT    lowerlevel    G-04         A    IT   \n",
       "5      F          KW       KuwaIT    lowerlevel    G-04         A    IT   \n",
       "6      M          KW       KuwaIT  MiddleSchool    G-07         A  Math   \n",
       "7      M          KW       KuwaIT  MiddleSchool    G-07         A  Math   \n",
       "8      F          KW       KuwaIT  MiddleSchool    G-07         A  Math   \n",
       "9      F          KW       KuwaIT  MiddleSchool    G-07         B    IT   \n",
       "\n",
       "  Semester Relation  raisedhands  VisITedResources  AnnouncementsView  \\\n",
       "0        F   Father           15                16                  2   \n",
       "1        F   Father           20                20                  3   \n",
       "2        F   Father           10                 7                  0   \n",
       "3        F   Father           30                25                  5   \n",
       "4        F   Father           40                50                 12   \n",
       "5        F   Father           42                30                 13   \n",
       "6        F   Father           35                12                  0   \n",
       "7        F   Father           50                10                 15   \n",
       "8        F   Father           12                21                 16   \n",
       "9        F   Father           70                80                 25   \n",
       "\n",
       "   Discussion ParentAnsweringSurvey ParentschoolSatisfaction  \\\n",
       "0          20                   Yes                     Good   \n",
       "1          25                   Yes                     Good   \n",
       "2          30                    No                      Bad   \n",
       "3          35                    No                      Bad   \n",
       "4          50                    No                      Bad   \n",
       "5          70                   Yes                      Bad   \n",
       "6          17                    No                      Bad   \n",
       "7          22                   Yes                     Good   \n",
       "8          50                   Yes                     Good   \n",
       "9          70                   Yes                     Good   \n",
       "\n",
       "  StudentAbsenceDays Class  \n",
       "0            Under-7     M  \n",
       "1            Under-7     M  \n",
       "2            Above-7     L  \n",
       "3            Above-7     L  \n",
       "4            Above-7     M  \n",
       "5            Above-7     M  \n",
       "6            Above-7     L  \n",
       "7            Under-7     M  \n",
       "8            Under-7     M  \n",
       "9            Under-7     M  "
      ]
     },
     "execution_count": 2,
     "metadata": {},
     "output_type": "execute_result"
    }
   ],
   "source": [
    "import pandas as pd\n",
    "Edu = pd.read_csv (r\"C:\\Users\\omc\\Desktop\\Python\\Machine Learning\\Class Assessment\\Logistic Regression using Python\\xAPI-Edu-Data.csv\")\n",
    "\n",
    "#first few rows\n",
    "Edu.head(10)"
   ]
  },
  {
   "cell_type": "markdown",
   "metadata": {},
   "source": [
    "## Data Pre-Processing"
   ]
  },
  {
   "cell_type": "code",
   "execution_count": 3,
   "metadata": {},
   "outputs": [
    {
     "name": "stdout",
     "output_type": "stream",
     "text": [
      "<class 'pandas.core.frame.DataFrame'>\n",
      "RangeIndex: 480 entries, 0 to 479\n",
      "Data columns (total 17 columns):\n",
      " #   Column                    Non-Null Count  Dtype \n",
      "---  ------                    --------------  ----- \n",
      " 0   gender                    480 non-null    object\n",
      " 1   NationalITy               480 non-null    object\n",
      " 2   PlaceofBirth              480 non-null    object\n",
      " 3   StageID                   480 non-null    object\n",
      " 4   GradeID                   480 non-null    object\n",
      " 5   SectionID                 480 non-null    object\n",
      " 6   Topic                     480 non-null    object\n",
      " 7   Semester                  480 non-null    object\n",
      " 8   Relation                  480 non-null    object\n",
      " 9   raisedhands               480 non-null    int64 \n",
      " 10  VisITedResources          480 non-null    int64 \n",
      " 11  AnnouncementsView         480 non-null    int64 \n",
      " 12  Discussion                480 non-null    int64 \n",
      " 13  ParentAnsweringSurvey     480 non-null    object\n",
      " 14  ParentschoolSatisfaction  480 non-null    object\n",
      " 15  StudentAbsenceDays        480 non-null    object\n",
      " 16  Class                     480 non-null    object\n",
      "dtypes: int64(4), object(13)\n",
      "memory usage: 63.9+ KB\n"
     ]
    }
   ],
   "source": [
    "Edu.info()"
   ]
  },
  {
   "cell_type": "code",
   "execution_count": 4,
   "metadata": {},
   "outputs": [
    {
     "data": {
      "text/html": [
       "<div>\n",
       "<style scoped>\n",
       "    .dataframe tbody tr th:only-of-type {\n",
       "        vertical-align: middle;\n",
       "    }\n",
       "\n",
       "    .dataframe tbody tr th {\n",
       "        vertical-align: top;\n",
       "    }\n",
       "\n",
       "    .dataframe thead th {\n",
       "        text-align: right;\n",
       "    }\n",
       "</style>\n",
       "<table border=\"1\" class=\"dataframe\">\n",
       "  <thead>\n",
       "    <tr style=\"text-align: right;\">\n",
       "      <th></th>\n",
       "      <th>raisedhands</th>\n",
       "      <th>VisITedResources</th>\n",
       "      <th>AnnouncementsView</th>\n",
       "      <th>Discussion</th>\n",
       "    </tr>\n",
       "  </thead>\n",
       "  <tbody>\n",
       "    <tr>\n",
       "      <th>count</th>\n",
       "      <td>480.000000</td>\n",
       "      <td>480.000000</td>\n",
       "      <td>480.000000</td>\n",
       "      <td>480.000000</td>\n",
       "    </tr>\n",
       "    <tr>\n",
       "      <th>mean</th>\n",
       "      <td>46.775000</td>\n",
       "      <td>54.797917</td>\n",
       "      <td>37.918750</td>\n",
       "      <td>43.283333</td>\n",
       "    </tr>\n",
       "    <tr>\n",
       "      <th>std</th>\n",
       "      <td>30.779223</td>\n",
       "      <td>33.080007</td>\n",
       "      <td>26.611244</td>\n",
       "      <td>27.637735</td>\n",
       "    </tr>\n",
       "    <tr>\n",
       "      <th>min</th>\n",
       "      <td>0.000000</td>\n",
       "      <td>0.000000</td>\n",
       "      <td>0.000000</td>\n",
       "      <td>1.000000</td>\n",
       "    </tr>\n",
       "    <tr>\n",
       "      <th>25%</th>\n",
       "      <td>15.750000</td>\n",
       "      <td>20.000000</td>\n",
       "      <td>14.000000</td>\n",
       "      <td>20.000000</td>\n",
       "    </tr>\n",
       "    <tr>\n",
       "      <th>50%</th>\n",
       "      <td>50.000000</td>\n",
       "      <td>65.000000</td>\n",
       "      <td>33.000000</td>\n",
       "      <td>39.000000</td>\n",
       "    </tr>\n",
       "    <tr>\n",
       "      <th>75%</th>\n",
       "      <td>75.000000</td>\n",
       "      <td>84.000000</td>\n",
       "      <td>58.000000</td>\n",
       "      <td>70.000000</td>\n",
       "    </tr>\n",
       "    <tr>\n",
       "      <th>max</th>\n",
       "      <td>100.000000</td>\n",
       "      <td>99.000000</td>\n",
       "      <td>98.000000</td>\n",
       "      <td>99.000000</td>\n",
       "    </tr>\n",
       "  </tbody>\n",
       "</table>\n",
       "</div>"
      ],
      "text/plain": [
       "       raisedhands  VisITedResources  AnnouncementsView  Discussion\n",
       "count   480.000000        480.000000         480.000000  480.000000\n",
       "mean     46.775000         54.797917          37.918750   43.283333\n",
       "std      30.779223         33.080007          26.611244   27.637735\n",
       "min       0.000000          0.000000           0.000000    1.000000\n",
       "25%      15.750000         20.000000          14.000000   20.000000\n",
       "50%      50.000000         65.000000          33.000000   39.000000\n",
       "75%      75.000000         84.000000          58.000000   70.000000\n",
       "max     100.000000         99.000000          98.000000   99.000000"
      ]
     },
     "execution_count": 4,
     "metadata": {},
     "output_type": "execute_result"
    }
   ],
   "source": [
    "Edu.describe()"
   ]
  },
  {
   "cell_type": "markdown",
   "metadata": {},
   "source": [
    "#### Identifying and Treatment of Missing Values"
   ]
  },
  {
   "cell_type": "code",
   "execution_count": 5,
   "metadata": {},
   "outputs": [
    {
     "data": {
      "text/plain": [
       "gender                      0\n",
       "NationalITy                 0\n",
       "PlaceofBirth                0\n",
       "StageID                     0\n",
       "GradeID                     0\n",
       "SectionID                   0\n",
       "Topic                       0\n",
       "Semester                    0\n",
       "Relation                    0\n",
       "raisedhands                 0\n",
       "VisITedResources            0\n",
       "AnnouncementsView           0\n",
       "Discussion                  0\n",
       "ParentAnsweringSurvey       0\n",
       "ParentschoolSatisfaction    0\n",
       "StudentAbsenceDays          0\n",
       "Class                       0\n",
       "dtype: int64"
      ]
     },
     "execution_count": 5,
     "metadata": {},
     "output_type": "execute_result"
    }
   ],
   "source": [
    "Edu.isnull().sum()"
   ]
  },
  {
   "cell_type": "markdown",
   "metadata": {},
   "source": [
    "#### No Missing Data"
   ]
  },
  {
   "cell_type": "code",
   "execution_count": 6,
   "metadata": {},
   "outputs": [
    {
     "data": {
      "text/plain": [
       "Index(['gender', 'NationalITy', 'PlaceofBirth', 'StageID', 'GradeID',\n",
       "       'SectionID', 'Topic', 'Semester', 'Relation', 'raisedhands',\n",
       "       'VisITedResources', 'AnnouncementsView', 'Discussion',\n",
       "       'ParentAnsweringSurvey', 'ParentschoolSatisfaction',\n",
       "       'StudentAbsenceDays', 'Class'],\n",
       "      dtype='object')"
      ]
     },
     "execution_count": 6,
     "metadata": {},
     "output_type": "execute_result"
    }
   ],
   "source": [
    "Edu.columns"
   ]
  },
  {
   "cell_type": "code",
   "execution_count": 7,
   "metadata": {},
   "outputs": [
    {
     "name": "stdout",
     "output_type": "stream",
     "text": [
      "M    305\n",
      "F    175\n",
      "Name: gender, dtype: int64\n",
      "KW             179\n",
      "Jordan         172\n",
      "Palestine       28\n",
      "Iraq            22\n",
      "lebanon         17\n",
      "Tunis           12\n",
      "SaudiArabia     11\n",
      "Egypt            9\n",
      "Syria            7\n",
      "Lybia            6\n",
      "Iran             6\n",
      "USA              6\n",
      "Morocco          4\n",
      "venzuela         1\n",
      "Name: NationalITy, dtype: int64\n",
      "KuwaIT         180\n",
      "Jordan         176\n",
      "Iraq            22\n",
      "lebanon         19\n",
      "USA             16\n",
      "SaudiArabia     16\n",
      "Palestine       10\n",
      "Tunis            9\n",
      "Egypt            9\n",
      "Syria            6\n",
      "Lybia            6\n",
      "Iran             6\n",
      "Morocco          4\n",
      "venzuela         1\n",
      "Name: PlaceofBirth, dtype: int64\n",
      "MiddleSchool    248\n",
      "lowerlevel      199\n",
      "HighSchool       33\n",
      "Name: StageID, dtype: int64\n",
      "G-02    147\n",
      "G-08    116\n",
      "G-07    101\n",
      "G-04     48\n",
      "G-06     32\n",
      "G-11     13\n",
      "G-12     11\n",
      "G-09      5\n",
      "G-10      4\n",
      "G-05      3\n",
      "Name: GradeID, dtype: int64\n",
      "A    283\n",
      "B    167\n",
      "C     30\n",
      "Name: SectionID, dtype: int64\n",
      "IT           95\n",
      "French       65\n",
      "Arabic       59\n",
      "Science      51\n",
      "English      45\n",
      "Biology      30\n",
      "Spanish      25\n",
      "Geology      24\n",
      "Chemistry    24\n",
      "Quran        22\n",
      "Math         21\n",
      "History      19\n",
      "Name: Topic, dtype: int64\n",
      "F    245\n",
      "S    235\n",
      "Name: Semester, dtype: int64\n",
      "Father    283\n",
      "Mum       197\n",
      "Name: Relation, dtype: int64\n",
      "Yes    270\n",
      "No     210\n",
      "Name: ParentAnsweringSurvey, dtype: int64\n",
      "Good    292\n",
      "Bad     188\n",
      "Name: ParentschoolSatisfaction, dtype: int64\n",
      "Under-7    289\n",
      "Above-7    191\n",
      "Name: StudentAbsenceDays, dtype: int64\n",
      "M    211\n",
      "H    142\n",
      "L    127\n",
      "Name: Class, dtype: int64\n"
     ]
    }
   ],
   "source": [
    "for i in ['gender','NationalITy','PlaceofBirth','StageID','GradeID','SectionID','Topic','Semester','Relation','ParentAnsweringSurvey','ParentschoolSatisfaction','StudentAbsenceDays','Class']:\n",
    "            print(Edu[i].value_counts())"
   ]
  },
  {
   "cell_type": "markdown",
   "metadata": {},
   "source": [
    "## Q.1 Visualize just the categorical features individually to see what options are included and how each option fares when it comes to count(how many times it appears) and see what can be deduce from that?"
   ]
  },
  {
   "cell_type": "markdown",
   "metadata": {},
   "source": [
    "## Bar Plot for Category Variable"
   ]
  },
  {
   "cell_type": "code",
   "execution_count": 8,
   "metadata": {},
   "outputs": [
    {
     "data": {
      "image/png": "[encoded data removed]",
      "text/plain": [
       "<Figure size 432x288 with 1 Axes>"
      ]
     },
     "metadata": {
      "needs_background": "light"
     },
     "output_type": "display_data"
    },
    {
     "data": {
      "image/png": "[encoded data removed]",
      "text/plain": [
       "<Figure size 432x288 with 1 Axes>"
      ]
     },
     "metadata": {
      "needs_background": "light"
     },
     "output_type": "display_data"
    },
    {
     "data": {
      "image/png": "[encoded data removed]",
      "text/plain": [
       "<Figure size 432x288 with 1 Axes>"
      ]
     },
     "metadata": {
      "needs_background": "light"
     },
     "output_type": "display_data"
    },
    {
     "data": {
      "image/png": "[encoded data removed]",
      "text/plain": [
       "<Figure size 432x288 with 1 Axes>"
      ]
     },
     "metadata": {
      "needs_background": "light"
     },
     "output_type": "display_data"
    },
    {
     "data": {
      "image/png": "[encoded data removed]",
      "text/plain": [
       "<Figure size 432x288 with 1 Axes>"
      ]
     },
     "metadata": {
      "needs_background": "light"
     },
     "output_type": "display_data"
    },
    {
     "data": {
      "image/png": "[encoded data removed]",
      "text/plain": [
       "<Figure size 432x288 with 1 Axes>"
      ]
     },
     "metadata": {
      "needs_background": "light"
     },
     "output_type": "display_data"
    },
    {
     "data": {
      "image/png": "[encoded data removed]",
      "text/plain": [
       "<Figure size 432x288 with 1 Axes>"
      ]
     },
     "metadata": {
      "needs_background": "light"
     },
     "output_type": "display_data"
    },
    {
     "data": {
      "image/png": "[encoded data removed]",
      "text/plain": [
       "<Figure size 432x288 with 1 Axes>"
      ]
     },
     "metadata": {
      "needs_background": "light"
     },
     "output_type": "display_data"
    },
    {
     "data": {
      "image/png": "[encoded data removed]",
      "text/plain": [
       "<Figure size 432x288 with 1 Axes>"
      ]
     },
     "metadata": {
      "needs_background": "light"
     },
     "output_type": "display_data"
    },
    {
     "data": {
      "image/png": "[encoded data removed]",
      "text/plain": [
       "<Figure size 432x288 with 1 Axes>"
      ]
     },
     "metadata": {
      "needs_background": "light"
     },
     "output_type": "display_data"
    },
    {
     "data": {
      "image/png": "[encoded data removed]",
      "text/plain": [
       "<Figure size 432x288 with 1 Axes>"
      ]
     },
     "metadata": {
      "needs_background": "light"
     },
     "output_type": "display_data"
    },
    {
     "data": {
      "image/png": "[encoded data removed]",
      "text/plain": [
       "<Figure size 432x288 with 1 Axes>"
      ]
     },
     "metadata": {
      "needs_background": "light"
     },
     "output_type": "display_data"
    },
    {
     "data": {
      "image/png": "[encoded data removed]",
      "text/plain": [
       "<Figure size 432x288 with 1 Axes>"
      ]
     },
     "metadata": {
      "needs_background": "light"
     },
     "output_type": "display_data"
    }
   ],
   "source": [
    "i=Edu.select_dtypes(include=['object']).columns\n",
    "for j in i:\n",
    "    plt.figure()\n",
    "    sns.countplot(x=j,data=Edu)\n",
    "    plt.show()"
   ]
  },
  {
   "cell_type": "markdown",
   "metadata": {},
   "source": [
    "#### Insights:\n",
    "* There are more numbers of Male than Female\n",
    "* More Students are from Kuwait and Jordan and Middle school students are more\n",
    "* Most of the students are from Topic IT and French "
   ]
  },
  {
   "cell_type": "markdown",
   "metadata": {},
   "source": [
    "## Q.2 Look at some categorical features in relation to each other, to see what insights could be possibly read?"
   ]
  },
  {
   "cell_type": "code",
   "execution_count": 9,
   "metadata": {},
   "outputs": [
    {
     "data": {
      "text/plain": [
       "<AxesSubplot:xlabel='StageID', ylabel='count'>"
      ]
     },
     "execution_count": 9,
     "metadata": {},
     "output_type": "execute_result"
    },
    {
     "data": {
      "image/png": "[encoded data removed]",
      "text/plain": [
       "<Figure size 864x864 with 4 Axes>"
      ]
     },
     "metadata": {
      "needs_background": "light"
     },
     "output_type": "display_data"
    }
   ],
   "source": [
    "f , axes = plt.subplots(2,2,figsize=(12,12))\n",
    "\n",
    "sns.countplot(x='ParentschoolSatisfaction',hue='Class',data=Edu,ax=axes[0,0])\n",
    "sns.countplot(x='gender',hue='Class',data=Edu,ax=axes[0,1])\n",
    "sns.countplot(x='Relation',hue='Class',data=Edu,ax=axes[1,0])\n",
    "sns.countplot(x='StageID',hue='Class',data=Edu,ax=axes[1,1])"
   ]
  },
  {
   "cell_type": "code",
   "execution_count": 10,
   "metadata": {},
   "outputs": [
    {
     "data": {
      "text/plain": [
       "<AxesSubplot:xlabel='NationalITy', ylabel='count'>"
      ]
     },
     "execution_count": 10,
     "metadata": {},
     "output_type": "execute_result"
    },
    {
     "data": {
      "image/png": "[encoded data removed]",
      "text/plain": [
       "<Figure size 864x864 with 2 Axes>"
      ]
     },
     "metadata": {
      "needs_background": "light"
     },
     "output_type": "display_data"
    }
   ],
   "source": [
    "fig,(axis1,axis2) =plt.subplots (2,1, figsize=(12,12))\n",
    "sns.countplot(x='Topic',hue='Class',data=Edu,ax=axis1)\n",
    "sns.countplot(x='NationalITy',hue='Class',data=Edu, ax=axis2)"
   ]
  },
  {
   "cell_type": "markdown",
   "metadata": {},
   "source": [
    "### Insights from Above Visualization\n",
    "* Students who are Female having higher grades than Male\n",
    "* Mothers are more focused than Fathers about students studies, having higher grades\n",
    "* Lower the grades, parents satisfaction is bad"
   ]
  },
  {
   "cell_type": "markdown",
   "metadata": {},
   "source": [
    "## Q.3 Visualize categorical variables with numerical variables and give conclusions?"
   ]
  },
  {
   "cell_type": "code",
   "execution_count": 11,
   "metadata": {},
   "outputs": [
    {
     "data": {
      "text/plain": [
       "<AxesSubplot:xlabel='Class', ylabel='Discussion'>"
      ]
     },
     "execution_count": 11,
     "metadata": {},
     "output_type": "execute_result"
    },
    {
     "data": {
      "image/png": "[encoded data removed]",
      "text/plain": [
       "<Figure size 864x720 with 4 Axes>"
      ]
     },
     "metadata": {
      "needs_background": "light"
     },
     "output_type": "display_data"
    }
   ],
   "source": [
    "f ,axes =plt.subplots(2,2,figsize=(12,10))\n",
    "\n",
    "sns.barplot(x='Class',y='raisedhands',data=Edu,ax=axes[0,0])\n",
    "sns.barplot(x='Class',y='VisITedResources',data=Edu,ax=axes[0,1])\n",
    "sns.barplot(x='Class',y='AnnouncementsView',data=Edu,ax=axes[1,0])\n",
    "sns.barplot(x='Class',y='Discussion',data=Edu,ax=axes[1,1])"
   ]
  },
  {
   "cell_type": "code",
   "execution_count": 12,
   "metadata": {},
   "outputs": [
    {
     "data": {
      "text/plain": [
       "<AxesSubplot:xlabel='gender', ylabel='Discussion'>"
      ]
     },
     "execution_count": 12,
     "metadata": {},
     "output_type": "execute_result"
    },
    {
     "data": {
      "image/png": "[encoded data removed]",
      "text/plain": [
       "<Figure size 864x720 with 4 Axes>"
      ]
     },
     "metadata": {
      "needs_background": "light"
     },
     "output_type": "display_data"
    }
   ],
   "source": [
    "f ,axes =plt.subplots(2,2,figsize=(12,10))\n",
    "\n",
    "sns.barplot(x='gender',y='raisedhands',data=Edu,ax=axes[0,0])\n",
    "sns.barplot(x='gender',y='VisITedResources',data=Edu,ax=axes[0,1])\n",
    "sns.barplot(x='gender',y='AnnouncementsView',data=Edu,ax=axes[1,0])\n",
    "sns.barplot(x='gender',y='Discussion',data=Edu,ax=axes[1,1])"
   ]
  },
  {
   "cell_type": "markdown",
   "metadata": {},
   "source": [
    "### Insights from Above Visualization\n",
    "* Students who raised hands in class and asked doubts, who visited resources and checks announcements and had discussion , they are scoring a higher grades\n",
    "* Most of students having higher grades are Females, Males are lagging behind in grades"
   ]
  },
  {
   "cell_type": "markdown",
   "metadata": {},
   "source": [
    "## Q.4 From the above result, what are the factors that leads to get low grades of the students?"
   ]
  },
  {
   "cell_type": "code",
   "execution_count": 13,
   "metadata": {},
   "outputs": [
    {
     "name": "stdout",
     "output_type": "stream",
     "text": [
      "gender         F         M\n",
      "Class                     \n",
      "H       0.428571  0.219672\n",
      "L       0.137143  0.337705\n",
      "M       0.434286  0.442623\n",
      "Topic    Arabic   Biology  Chemistry   English    French  Geology   History  \\\n",
      "Class                                                                         \n",
      "H      0.322034  0.533333   0.416667  0.377778  0.307692     0.25  0.210526   \n",
      "L      0.288136  0.133333   0.333333  0.222222  0.246154     0.00  0.157895   \n",
      "M      0.389831  0.333333   0.250000  0.400000  0.446154     0.75  0.631579   \n",
      "\n",
      "Topic        IT      Math     Quran   Science  Spanish  \n",
      "Class                                                   \n",
      "H      0.157895  0.285714  0.363636  0.313725     0.20  \n",
      "L      0.400000  0.333333  0.272727  0.196078     0.32  \n",
      "M      0.442105  0.380952  0.363636  0.490196     0.48  \n",
      "NationalITy     Egypt      Iran      Iraq    Jordan        KW  Lybia  Morocco  \\\n",
      "Class                                                                           \n",
      "H            0.222222  0.000000  0.636364  0.308140  0.201117    0.0     0.25   \n",
      "L            0.333333  0.333333  0.000000  0.215116  0.379888    1.0     0.25   \n",
      "M            0.444444  0.666667  0.363636  0.476744  0.418994    0.0     0.50   \n",
      "\n",
      "NationalITy  Palestine  SaudiArabia     Syria     Tunis       USA   lebanon  \\\n",
      "Class                                                                         \n",
      "H             0.428571     0.545455  0.285714  0.250000  0.500000  0.529412   \n",
      "L             0.000000     0.090909  0.285714  0.333333  0.166667  0.117647   \n",
      "M             0.571429     0.363636  0.428571  0.416667  0.333333  0.352941   \n",
      "\n",
      "NationalITy  venzuela  \n",
      "Class                  \n",
      "H                 1.0  \n",
      "L                 0.0  \n",
      "M                 0.0  \n",
      "StudentAbsenceDays   Above-7   Under-7\n",
      "Class                                 \n",
      "H                   0.020942  0.477509\n",
      "L                   0.607330  0.038062\n",
      "M                   0.371728  0.484429\n"
     ]
    }
   ],
   "source": [
    "Result = pd.crosstab(Edu['Class'], Edu['gender'], normalize = 'columns')\n",
    "Result1 = pd.crosstab(Edu['Class'], Edu['Topic'], normalize = 'columns')\n",
    "Result2 = pd.crosstab(Edu['Class'], Edu['NationalITy'], normalize = 'columns')\n",
    "Result3 = pd.crosstab(Edu['Class'], Edu['StudentAbsenceDays'], normalize = 'columns')\n",
    "print(Result)\n",
    "print(Result1)\n",
    "print(Result2)\n",
    "print(Result3)"
   ]
  },
  {
   "cell_type": "markdown",
   "metadata": {},
   "source": [
    "* Students who are getting low grades, 33% of them are male students and Females are stonger in studies\n",
    "* Students who are getting low grades, their grades are low in Topic IT which is 40% followed by Math & Chemistry 33%, they need to focus on that\n",
    "* Students who are from Kuwait, Egypt, Tunis they are having low grades like 38% and 33% as compared to other Nations\n",
    "* Students who are getting low grades, their absenty for school is more than 7 days which is 60% "
   ]
  },
  {
   "cell_type": "markdown",
   "metadata": {},
   "source": [
    "## Q.5 Build classification model and present it's classification report?"
   ]
  },
  {
   "cell_type": "markdown",
   "metadata": {},
   "source": [
    "## Checking for Outlier"
   ]
  },
  {
   "cell_type": "code",
   "execution_count": 14,
   "metadata": {},
   "outputs": [
    {
     "data": {
      "text/plain": [
       "<AxesSubplot:xlabel='raisedhands'>"
      ]
     },
     "execution_count": 14,
     "metadata": {},
     "output_type": "execute_result"
    },
    {
     "data": {
      "image/png": "[encoded data removed]",
      "text/plain": [
       "<Figure size 432x288 with 1 Axes>"
      ]
     },
     "metadata": {
      "needs_background": "light"
     },
     "output_type": "display_data"
    }
   ],
   "source": [
    "sns.boxplot(Edu.raisedhands)"
   ]
  },
  {
   "cell_type": "code",
   "execution_count": 15,
   "metadata": {},
   "outputs": [
    {
     "data": {
      "text/plain": [
       "<AxesSubplot:xlabel='VisITedResources'>"
      ]
     },
     "execution_count": 15,
     "metadata": {},
     "output_type": "execute_result"
    },
    {
     "data": {
      "image/png": "[encoded data removed]",
      "text/plain": [
       "<Figure size 432x288 with 1 Axes>"
      ]
     },
     "metadata": {
      "needs_background": "light"
     },
     "output_type": "display_data"
    }
   ],
   "source": [
    "sns.boxplot(Edu.VisITedResources)"
   ]
  },
  {
   "cell_type": "code",
   "execution_count": 16,
   "metadata": {},
   "outputs": [
    {
     "data": {
      "text/plain": [
       "<AxesSubplot:xlabel='Discussion'>"
      ]
     },
     "execution_count": 16,
     "metadata": {},
     "output_type": "execute_result"
    },
    {
     "data": {
      "image/png": "[encoded data removed]",
      "text/plain": [
       "<Figure size 432x288 with 1 Axes>"
      ]
     },
     "metadata": {
      "needs_background": "light"
     },
     "output_type": "display_data"
    }
   ],
   "source": [
    "sns.boxplot(Edu.Discussion)"
   ]
  },
  {
   "cell_type": "code",
   "execution_count": 17,
   "metadata": {},
   "outputs": [
    {
     "data": {
      "text/plain": [
       "<AxesSubplot:xlabel='AnnouncementsView'>"
      ]
     },
     "execution_count": 17,
     "metadata": {},
     "output_type": "execute_result"
    },
    {
     "data": {
      "image/png": "[encoded data removed]",
      "text/plain": [
       "<Figure size 432x288 with 1 Axes>"
      ]
     },
     "metadata": {
      "needs_background": "light"
     },
     "output_type": "display_data"
    }
   ],
   "source": [
    "sns.boxplot(Edu.AnnouncementsView)"
   ]
  },
  {
   "cell_type": "markdown",
   "metadata": {},
   "source": [
    "#### No outliers found"
   ]
  },
  {
   "cell_type": "markdown",
   "metadata": {},
   "source": [
    "## Data Visualisation"
   ]
  },
  {
   "cell_type": "markdown",
   "metadata": {},
   "source": [
    "### Bad Rate Analysis"
   ]
  },
  {
   "cell_type": "code",
   "execution_count": 18,
   "metadata": {},
   "outputs": [
    {
     "data": {
      "application/vnd.plotly.v1+json": {
       "config": {
        "plotlyServerURL": "https://plot.ly"
       },
       "data": [
        {
         "customdata": [
          [
           "M"
          ],
          [
           "M"
          ],
          [
           "L"
          ],
          [
           "L"
          ],
          [
           "M"
          ],
          [
           "M"
          ],
          [
           "L"
          ],
          [
           "M"
          ],
          [
           "M"
          ],
          [
           "M"
          ],
          [
           "H"
          ],
          [
           "M"
          ],
          [
           "L"
          ],
          [
           "L"
          ],
          [
           "H"
          ],
          [
           "M"
          ],
          [
           "M"
          ],
          [
           "M"
          ],
          [
           "M"
          ],
          [
           "H"
          ],
          [
           "M"
          ],
          [
           "M"
          ],
          [
           "M"
          ],
          [
           "L"
          ],
          [
           "L"
          ],
          [
           "L"
          ],
          [
           "M"
          ],
          [
           "L"
          ],
          [
           "M"
          ],
          [
           "M"
          ],
          [
           "H"
          ],
          [
           "L"
          ],
          [
           "L"
          ],
          [
           "L"
          ],
          [
           "L"
          ],
          [
           "L"
          ],
          [
           "L"
          ],
          [
           "M"
          ],
          [
           "L"
          ],
          [
           "M"
          ],
          [
           "L"
          ],
          [
           "M"
          ],
          [
           "L"
          ],
          [
           "M"
          ],
          [
           "M"
          ],
          [
           "L"
          ],
          [
           "L"
          ],
          [
           "H"
          ],
          [
           "H"
          ],
          [
           "M"
          ],
          [
           "L"
          ],
          [
           "L"
          ],
          [
           "M"
          ],
          [
           "H"
          ],
          [
           "L"
          ],
          [
           "L"
          ],
          [
           "L"
          ],
          [
           "L"
          ],
          [
           "M"
          ],
          [
           "M"
          ],
          [
           "L"
          ],
          [
           "M"
          ],
          [
           "H"
          ],
          [
           "M"
          ],
          [
           "L"
          ],
          [
           "L"
          ],
          [
           "M"
          ],
          [
           "H"
          ],
          [
           "H"
          ],
          [
           "M"
          ],
          [
           "L"
          ],
          [
           "M"
          ],
          [
           "L"
          ],
          [
           "M"
          ],
          [
           "L"
          ],
          [
           "M"
          ],
          [
           "M"
          ],
          [
           "M"
          ],
          [
           "L"
          ],
          [
           "H"
          ],
          [
           "L"
          ],
          [
           "L"
          ],
          [
           "L"
          ],
          [
           "M"
          ],
          [
           "H"
          ],
          [
           "L"
          ],
          [
           "H"
          ],
          [
           "L"
          ],
          [
           "L"
          ],
          [
           "L"
          ],
          [
           "L"
          ],
          [
           "H"
          ],
          [
           "H"
          ],
          [
           "H"
          ],
          [
           "L"
          ],
          [
           "H"
          ],
          [
           "H"
          ],
          [
           "M"
          ],
          [
           "M"
          ],
          [
           "M"
          ],
          [
           "M"
          ],
          [
           "H"
          ],
          [
           "L"
          ],
          [
           "L"
          ],
          [
           "M"
          ],
          [
           "L"
          ],
          [
           "M"
          ],
          [
           "H"
          ],
          [
           "M"
          ],
          [
           "M"
          ],
          [
           "H"
          ],
          [
           "M"
          ],
          [
           "L"
          ],
          [
           "L"
          ],
          [
           "L"
          ],
          [
           "L"
          ],
          [
           "M"
          ],
          [
           "H"
          ],
          [
           "M"
          ],
          [
           "M"
          ],
          [
           "M"
          ],
          [
           "L"
          ],
          [
           "M"
          ],
          [
           "M"
          ],
          [
           "L"
          ],
          [
           "L"
          ],
          [
           "M"
          ],
          [
           "L"
          ],
          [
           "L"
          ],
          [
           "L"
          ],
          [
           "L"
          ],
          [
           "M"
          ],
          [
           "L"
          ],
          [
           "L"
          ],
          [
           "H"
          ],
          [
           "H"
          ],
          [
           "H"
          ],
          [
           "M"
          ],
          [
           "H"
          ],
          [
           "M"
          ],
          [
           "L"
          ],
          [
           "L"
          ],
          [
           "M"
          ],
          [
           "H"
          ],
          [
           "L"
          ],
          [
           "M"
          ],
          [
           "H"
          ],
          [
           "M"
          ],
          [
           "M"
          ],
          [
           "H"
          ],
          [
           "H"
          ],
          [
           "M"
          ],
          [
           "H"
          ],
          [
           "L"
          ],
          [
           "M"
          ],
          [
           "H"
          ],
          [
           "M"
          ],
          [
           "M"
          ],
          [
           "L"
          ],
          [
           "M"
          ],
          [
           "H"
          ],
          [
           "M"
          ],
          [
           "H"
          ],
          [
           "M"
          ],
          [
           "M"
          ],
          [
           "H"
          ],
          [
           "M"
          ],
          [
           "H"
          ],
          [
           "H"
          ],
          [
           "M"
          ],
          [
           "H"
          ],
          [
           "M"
          ],
          [
           "L"
          ],
          [
           "L"
          ],
          [
           "M"
          ],
          [
           "L"
          ],
          [
           "H"
          ],
          [
           "M"
          ],
          [
           "H"
          ],
          [
           "M"
          ],
          [
           "H"
          ],
          [
           "L"
          ],
          [
           "H"
          ],
          [
           "M"
          ],
          [
           "L"
          ],
          [
           "H"
          ],
          [
           "M"
          ],
          [
           "M"
          ],
          [
           "H"
          ],
          [
           "M"
          ],
          [
           "L"
          ],
          [
           "L"
          ],
          [
           "M"
          ],
          [
           "M"
          ],
          [
           "M"
          ],
          [
           "M"
          ],
          [
           "H"
          ],
          [
           "H"
          ],
          [
           "L"
          ],
          [
           "M"
          ],
          [
           "H"
          ],
          [
           "H"
          ],
          [
           "M"
          ],
          [
           "M"
          ],
          [
           "L"
          ],
          [
           "H"
          ],
          [
           "M"
          ],
          [
           "M"
          ],
          [
           "M"
          ],
          [
           "M"
          ],
          [
           "H"
          ],
          [
           "M"
          ],
          [
           "H"
          ],
          [
           "L"
          ],
          [
           "L"
          ],
          [
           "L"
          ],
          [
           "M"
          ],
          [
           "M"
          ],
          [
           "H"
          ],
          [
           "M"
          ],
          [
           "M"
          ],
          [
           "M"
          ],
          [
           "M"
          ],
          [
           "H"
          ],
          [
           "H"
          ],
          [
           "M"
          ],
          [
           "L"
          ],
          [
           "L"
          ],
          [
           "H"
          ],
          [
           "L"
          ],
          [
           "M"
          ],
          [
           "L"
          ],
          [
           "M"
          ],
          [
           "M"
          ],
          [
           "M"
          ],
          [
           "L"
          ],
          [
           "L"
          ],
          [
           "M"
          ],
          [
           "M"
          ],
          [
           "H"
          ],
          [
           "H"
          ],
          [
           "M"
          ],
          [
           "L"
          ],
          [
           "M"
          ],
          [
           "H"
          ],
          [
           "M"
          ],
          [
           "H"
          ],
          [
           "M"
          ],
          [
           "L"
          ],
          [
           "M"
          ],
          [
           "H"
          ],
          [
           "L"
          ],
          [
           "M"
          ],
          [
           "L"
          ],
          [
           "H"
          ],
          [
           "H"
          ],
          [
           "H"
          ],
          [
           "M"
          ],
          [
           "M"
          ],
          [
           "L"
          ],
          [
           "L"
          ],
          [
           "M"
          ],
          [
           "M"
          ],
          [
           "M"
          ],
          [
           "M"
          ],
          [
           "H"
          ],
          [
           "M"
          ],
          [
           "M"
          ],
          [
           "M"
          ],
          [
           "M"
          ],
          [
           "H"
          ],
          [
           "M"
          ],
          [
           "M"
          ],
          [
           "H"
          ],
          [
           "H"
          ],
          [
           "H"
          ],
          [
           "H"
          ],
          [
           "H"
          ],
          [
           "M"
          ],
          [
           "M"
          ],
          [
           "H"
          ],
          [
           "H"
          ],
          [
           "H"
          ],
          [
           "H"
          ],
          [
           "M"
          ],
          [
           "M"
          ],
          [
           "H"
          ],
          [
           "H"
          ],
          [
           "M"
          ],
          [
           "M"
          ],
          [
           "L"
          ],
          [
           "L"
          ],
          [
           "H"
          ],
          [
           "H"
          ],
          [
           "M"
          ],
          [
           "M"
          ],
          [
           "H"
          ],
          [
           "H"
          ],
          [
           "M"
          ],
          [
           "M"
          ],
          [
           "L"
          ],
          [
           "L"
          ],
          [
           "M"
          ],
          [
           "M"
          ],
          [
           "M"
          ],
          [
           "M"
          ],
          [
           "H"
          ],
          [
           "H"
          ],
          [
           "M"
          ],
          [
           "M"
          ],
          [
           "M"
          ],
          [
           "M"
          ],
          [
           "H"
          ],
          [
           "H"
          ],
          [
           "H"
          ],
          [
           "H"
          ],
          [
           "H"
          ],
          [
           "H"
          ],
          [
           "H"
          ],
          [
           "H"
          ],
          [
           "M"
          ],
          [
           "M"
          ],
          [
           "L"
          ],
          [
           "L"
          ],
          [
           "M"
          ],
          [
           "M"
          ],
          [
           "L"
          ],
          [
           "L"
          ],
          [
           "M"
          ],
          [
           "M"
          ],
          [
           "L"
          ],
          [
           "L"
          ],
          [
           "M"
          ],
          [
           "M"
          ],
          [
           "L"
          ],
          [
           "L"
          ],
          [
           "M"
          ],
          [
           "M"
          ],
          [
           "M"
          ],
          [
           "M"
          ],
          [
           "M"
          ],
          [
           "M"
          ],
          [
           "M"
          ],
          [
           "M"
          ],
          [
           "H"
          ],
          [
           "H"
          ],
          [
           "H"
          ],
          [
           "H"
          ],
          [
           "L"
          ],
          [
           "L"
          ],
          [
           "L"
          ],
          [
           "L"
          ],
          [
           "M"
          ],
          [
           "M"
          ],
          [
           "H"
          ],
          [
           "H"
          ],
          [
           "M"
          ],
          [
           "M"
          ],
          [
           "H"
          ],
          [
           "H"
          ],
          [
           "M"
          ],
          [
           "M"
          ],
          [
           "H"
          ],
          [
           "H"
          ],
          [
           "H"
          ],
          [
           "H"
          ],
          [
           "M"
          ],
          [
           "M"
          ],
          [
           "H"
          ],
          [
           "H"
          ],
          [
           "M"
          ],
          [
           "M"
          ],
          [
           "L"
          ],
          [
           "L"
          ],
          [
           "L"
          ],
          [
           "L"
          ],
          [
           "M"
          ],
          [
           "M"
          ],
          [
           "L"
          ],
          [
           "L"
          ],
          [
           "L"
          ],
          [
           "L"
          ],
          [
           "H"
          ],
          [
           "H"
          ],
          [
           "H"
          ],
          [
           "H"
          ],
          [
           "M"
          ],
          [
           "M"
          ],
          [
           "L"
          ],
          [
           "L"
          ],
          [
           "M"
          ],
          [
           "M"
          ],
          [
           "H"
          ],
          [
           "H"
          ],
          [
           "H"
          ],
          [
           "H"
          ],
          [
           "M"
          ],
          [
           "M"
          ],
          [
           "H"
          ],
          [
           "H"
          ],
          [
           "M"
          ],
          [
           "M"
          ],
          [
           "H"
          ],
          [
           "H"
          ],
          [
           "H"
          ],
          [
           "H"
          ],
          [
           "L"
          ],
          [
           "L"
          ],
          [
           "M"
          ],
          [
           "M"
          ],
          [
           "H"
          ],
          [
           "H"
          ],
          [
           "M"
          ],
          [
           "M"
          ],
          [
           "L"
          ],
          [
           "L"
          ],
          [
           "H"
          ],
          [
           "H"
          ],
          [
           "H"
          ],
          [
           "H"
          ],
          [
           "H"
          ],
          [
           "H"
          ],
          [
           "M"
          ],
          [
           "M"
          ],
          [
           "H"
          ],
          [
           "H"
          ],
          [
           "M"
          ],
          [
           "M"
          ],
          [
           "L"
          ],
          [
           "L"
          ],
          [
           "H"
          ],
          [
           "H"
          ],
          [
           "M"
          ],
          [
           "M"
          ],
          [
           "M"
          ],
          [
           "M"
          ],
          [
           "M"
          ],
          [
           "M"
          ],
          [
           "M"
          ],
          [
           "M"
          ],
          [
           "M"
          ],
          [
           "M"
          ],
          [
           "M"
          ],
          [
           "M"
          ],
          [
           "L"
          ],
          [
           "L"
          ],
          [
           "M"
          ],
          [
           "M"
          ],
          [
           "H"
          ],
          [
           "H"
          ],
          [
           "H"
          ],
          [
           "H"
          ],
          [
           "M"
          ],
          [
           "M"
          ],
          [
           "M"
          ],
          [
           "M"
          ],
          [
           "H"
          ],
          [
           "H"
          ],
          [
           "H"
          ],
          [
           "H"
          ],
          [
           "M"
          ],
          [
           "M"
          ],
          [
           "M"
          ],
          [
           "M"
          ],
          [
           "H"
          ],
          [
           "H"
          ],
          [
           "H"
          ],
          [
           "H"
          ],
          [
           "L"
          ],
          [
           "L"
          ],
          [
           "M"
          ],
          [
           "M"
          ],
          [
           "M"
          ],
          [
           "M"
          ],
          [
           "L"
          ],
          [
           "L"
          ],
          [
           "M"
          ],
          [
           "M"
          ],
          [
           "L"
          ],
          [
           "L"
          ]
         ],
         "domain": {
          "x": [
           0,
           1
          ],
          "y": [
           0,
           1
          ]
         },
         "hovertemplate": "Class=%{customdata[0]}<extra></extra>",
         "labels": [
          "M",
          "M",
          "L",
          "L",
          "M",
          "M",
          "L",
          "M",
          "M",
          "M",
          "H",
          "M",
          "L",
          "L",
          "H",
          "M",
          "M",
          "M",
          "M",
          "H",
          "M",
          "M",
          "M",
          "L",
          "L",
          "L",
          "M",
          "L",
          "M",
          "M",
          "H",
          "L",
          "L",
          "L",
          "L",
          "L",
          "L",
          "M",
          "L",
          "M",
          "L",
          "M",
          "L",
          "M",
          "M",
          "L",
          "L",
          "H",
          "H",
          "M",
          "L",
          "L",
          "M",
          "H",
          "L",
          "L",
          "L",
          "L",
          "M",
          "M",
          "L",
          "M",
          "H",
          "M",
          "L",
          "L",
          "M",
          "H",
          "H",
          "M",
          "L",
          "M",
          "L",
          "M",
          "L",
          "M",
          "M",
          "M",
          "L",
          "H",
          "L",
          "L",
          "L",
          "M",
          "H",
          "L",
          "H",
          "L",
          "L",
          "L",
          "L",
          "H",
          "H",
          "H",
          "L",
          "H",
          "H",
          "M",
          "M",
          "M",
          "M",
          "H",
          "L",
          "L",
          "M",
          "L",
          "M",
          "H",
          "M",
          "M",
          "H",
          "M",
          "L",
          "L",
          "L",
          "L",
          "M",
          "H",
          "M",
          "M",
          "M",
          "L",
          "M",
          "M",
          "L",
          "L",
          "M",
          "L",
          "L",
          "L",
          "L",
          "M",
          "L",
          "L",
          "H",
          "H",
          "H",
          "M",
          "H",
          "M",
          "L",
          "L",
          "M",
          "H",
          "L",
          "M",
          "H",
          "M",
          "M",
          "H",
          "H",
          "M",
          "H",
          "L",
          "M",
          "H",
          "M",
          "M",
          "L",
          "M",
          "H",
          "M",
          "H",
          "M",
          "M",
          "H",
          "M",
          "H",
          "H",
          "M",
          "H",
          "M",
          "L",
          "L",
          "M",
          "L",
          "H",
          "M",
          "H",
          "M",
          "H",
          "L",
          "H",
          "M",
          "L",
          "H",
          "M",
          "M",
          "H",
          "M",
          "L",
          "L",
          "M",
          "M",
          "M",
          "M",
          "H",
          "H",
          "L",
          "M",
          "H",
          "H",
          "M",
          "M",
          "L",
          "H",
          "M",
          "M",
          "M",
          "M",
          "H",
          "M",
          "H",
          "L",
          "L",
          "L",
          "M",
          "M",
          "H",
          "M",
          "M",
          "M",
          "M",
          "H",
          "H",
          "M",
          "L",
          "L",
          "H",
          "L",
          "M",
          "L",
          "M",
          "M",
          "M",
          "L",
          "L",
          "M",
          "M",
          "H",
          "H",
          "M",
          "L",
          "M",
          "H",
          "M",
          "H",
          "M",
          "L",
          "M",
          "H",
          "L",
          "M",
          "L",
          "H",
          "H",
          "H",
          "M",
          "M",
          "L",
          "L",
          "M",
          "M",
          "M",
          "M",
          "H",
          "M",
          "M",
          "M",
          "M",
          "H",
          "M",
          "M",
          "H",
          "H",
          "H",
          "H",
          "H",
          "M",
          "M",
          "H",
          "H",
          "H",
          "H",
          "M",
          "M",
          "H",
          "H",
          "M",
          "M",
          "L",
          "L",
          "H",
          "H",
          "M",
          "M",
          "H",
          "H",
          "M",
          "M",
          "L",
          "L",
          "M",
          "M",
          "M",
          "M",
          "H",
          "H",
          "M",
          "M",
          "M",
          "M",
          "H",
          "H",
          "H",
          "H",
          "H",
          "H",
          "H",
          "H",
          "M",
          "M",
          "L",
          "L",
          "M",
          "M",
          "L",
          "L",
          "M",
          "M",
          "L",
          "L",
          "M",
          "M",
          "L",
          "L",
          "M",
          "M",
          "M",
          "M",
          "M",
          "M",
          "M",
          "M",
          "H",
          "H",
          "H",
          "H",
          "L",
          "L",
          "L",
          "L",
          "M",
          "M",
          "H",
          "H",
          "M",
          "M",
          "H",
          "H",
          "M",
          "M",
          "H",
          "H",
          "H",
          "H",
          "M",
          "M",
          "H",
          "H",
          "M",
          "M",
          "L",
          "L",
          "L",
          "L",
          "M",
          "M",
          "L",
          "L",
          "L",
          "L",
          "H",
          "H",
          "H",
          "H",
          "M",
          "M",
          "L",
          "L",
          "M",
          "M",
          "H",
          "H",
          "H",
          "H",
          "M",
          "M",
          "H",
          "H",
          "M",
          "M",
          "H",
          "H",
          "H",
          "H",
          "L",
          "L",
          "M",
          "M",
          "H",
          "H",
          "M",
          "M",
          "L",
          "L",
          "H",
          "H",
          "H",
          "H",
          "H",
          "H",
          "M",
          "M",
          "H",
          "H",
          "M",
          "M",
          "L",
          "L",
          "H",
          "H",
          "M",
          "M",
          "M",
          "M",
          "M",
          "M",
          "M",
          "M",
          "M",
          "M",
          "M",
          "M",
          "L",
          "L",
          "M",
          "M",
          "H",
          "H",
          "H",
          "H",
          "M",
          "M",
          "M",
          "M",
          "H",
          "H",
          "H",
          "H",
          "M",
          "M",
          "M",
          "M",
          "H",
          "H",
          "H",
          "H",
          "L",
          "L",
          "M",
          "M",
          "M",
          "M",
          "L",
          "L",
          "M",
          "M",
          "L",
          "L"
         ],
         "legendgroup": "",
         "marker": {
          "colors": [
           "Yellow",
           "Yellow",
           "Red",
           "Red",
           "Yellow",
           "Yellow",
           "Red",
           "Yellow",
           "Yellow",
           "Yellow",
           "Green",
           "Yellow",
           "Red",
           "Red",
           "Green",
           "Yellow",
           "Yellow",
           "Yellow",
           "Yellow",
           "Green",
           "Yellow",
           "Yellow",
           "Yellow",
           "Red",
           "Red",
           "Red",
           "Yellow",
           "Red",
           "Yellow",
           "Yellow",
           "Green",
           "Red",
           "Red",
           "Red",
           "Red",
           "Red",
           "Red",
           "Yellow",
           "Red",
           "Yellow",
           "Red",
           "Yellow",
           "Red",
           "Yellow",
           "Yellow",
           "Red",
           "Red",
           "Green",
           "Green",
           "Yellow",
           "Red",
           "Red",
           "Yellow",
           "Green",
           "Red",
           "Red",
           "Red",
           "Red",
           "Yellow",
           "Yellow",
           "Red",
           "Yellow",
           "Green",
           "Yellow",
           "Red",
           "Red",
           "Yellow",
           "Green",
           "Green",
           "Yellow",
           "Red",
           "Yellow",
           "Red",
           "Yellow",
           "Red",
           "Yellow",
           "Yellow",
           "Yellow",
           "Red",
           "Green",
           "Red",
           "Red",
           "Red",
           "Yellow",
           "Green",
           "Red",
           "Green",
           "Red",
           "Red",
           "Red",
           "Red",
           "Green",
           "Green",
           "Green",
           "Red",
           "Green",
           "Green",
           "Yellow",
           "Yellow",
           "Yellow",
           "Yellow",
           "Green",
           "Red",
           "Red",
           "Yellow",
           "Red",
           "Yellow",
           "Green",
           "Yellow",
           "Yellow",
           "Green",
           "Yellow",
           "Red",
           "Red",
           "Red",
           "Red",
           "Yellow",
           "Green",
           "Yellow",
           "Yellow",
           "Yellow",
           "Red",
           "Yellow",
           "Yellow",
           "Red",
           "Red",
           "Yellow",
           "Red",
           "Red",
           "Red",
           "Red",
           "Yellow",
           "Red",
           "Red",
           "Green",
           "Green",
           "Green",
           "Yellow",
           "Green",
           "Yellow",
           "Red",
           "Red",
           "Yellow",
           "Green",
           "Red",
           "Yellow",
           "Green",
           "Yellow",
           "Yellow",
           "Green",
           "Green",
           "Yellow",
           "Green",
           "Red",
           "Yellow",
           "Green",
           "Yellow",
           "Yellow",
           "Red",
           "Yellow",
           "Green",
           "Yellow",
           "Green",
           "Yellow",
           "Yellow",
           "Green",
           "Yellow",
           "Green",
           "Green",
           "Yellow",
           "Green",
           "Yellow",
           "Red",
           "Red",
           "Yellow",
           "Red",
           "Green",
           "Yellow",
           "Green",
           "Yellow",
           "Green",
           "Red",
           "Green",
           "Yellow",
           "Red",
           "Green",
           "Yellow",
           "Yellow",
           "Green",
           "Yellow",
           "Red",
           "Red",
           "Yellow",
           "Yellow",
           "Yellow",
           "Yellow",
           "Green",
           "Green",
           "Red",
           "Yellow",
           "Green",
           "Green",
           "Yellow",
           "Yellow",
           "Red",
           "Green",
           "Yellow",
           "Yellow",
           "Yellow",
           "Yellow",
           "Green",
           "Yellow",
           "Green",
           "Red",
           "Red",
           "Red",
           "Yellow",
           "Yellow",
           "Green",
           "Yellow",
           "Yellow",
           "Yellow",
           "Yellow",
           "Green",
           "Green",
           "Yellow",
           "Red",
           "Red",
           "Green",
           "Red",
           "Yellow",
           "Red",
           "Yellow",
           "Yellow",
           "Yellow",
           "Red",
           "Red",
           "Yellow",
           "Yellow",
           "Green",
           "Green",
           "Yellow",
           "Red",
           "Yellow",
           "Green",
           "Yellow",
           "Green",
           "Yellow",
           "Red",
           "Yellow",
           "Green",
           "Red",
           "Yellow",
           "Red",
           "Green",
           "Green",
           "Green",
           "Yellow",
           "Yellow",
           "Red",
           "Red",
           "Yellow",
           "Yellow",
           "Yellow",
           "Yellow",
           "Green",
           "Yellow",
           "Yellow",
           "Yellow",
           "Yellow",
           "Green",
           "Yellow",
           "Yellow",
           "Green",
           "Green",
           "Green",
           "Green",
           "Green",
           "Yellow",
           "Yellow",
           "Green",
           "Green",
           "Green",
           "Green",
           "Yellow",
           "Yellow",
           "Green",
           "Green",
           "Yellow",
           "Yellow",
           "Red",
           "Red",
           "Green",
           "Green",
           "Yellow",
           "Yellow",
           "Green",
           "Green",
           "Yellow",
           "Yellow",
           "Red",
           "Red",
           "Yellow",
           "Yellow",
           "Yellow",
           "Yellow",
           "Green",
           "Green",
           "Yellow",
           "Yellow",
           "Yellow",
           "Yellow",
           "Green",
           "Green",
           "Green",
           "Green",
           "Green",
           "Green",
           "Green",
           "Green",
           "Yellow",
           "Yellow",
           "Red",
           "Red",
           "Yellow",
           "Yellow",
           "Red",
           "Red",
           "Yellow",
           "Yellow",
           "Red",
           "Red",
           "Yellow",
           "Yellow",
           "Red",
           "Red",
           "Yellow",
           "Yellow",
           "Yellow",
           "Yellow",
           "Yellow",
           "Yellow",
           "Yellow",
           "Yellow",
           "Green",
           "Green",
           "Green",
           "Green",
           "Red",
           "Red",
           "Red",
           "Red",
           "Yellow",
           "Yellow",
           "Green",
           "Green",
           "Yellow",
           "Yellow",
           "Green",
           "Green",
           "Yellow",
           "Yellow",
           "Green",
           "Green",
           "Green",
           "Green",
           "Yellow",
           "Yellow",
           "Green",
           "Green",
           "Yellow",
           "Yellow",
           "Red",
           "Red",
           "Red",
           "Red",
           "Yellow",
           "Yellow",
           "Red",
           "Red",
           "Red",
           "Red",
           "Green",
           "Green",
           "Green",
           "Green",
           "Yellow",
           "Yellow",
           "Red",
           "Red",
           "Yellow",
           "Yellow",
           "Green",
           "Green",
           "Green",
           "Green",
           "Yellow",
           "Yellow",
           "Green",
           "Green",
           "Yellow",
           "Yellow",
           "Green",
           "Green",
           "Green",
           "Green",
           "Red",
           "Red",
           "Yellow",
           "Yellow",
           "Green",
           "Green",
           "Yellow",
           "Yellow",
           "Red",
           "Red",
           "Green",
           "Green",
           "Green",
           "Green",
           "Green",
           "Green",
           "Yellow",
           "Yellow",
           "Green",
           "Green",
           "Yellow",
           "Yellow",
           "Red",
           "Red",
           "Green",
           "Green",
           "Yellow",
           "Yellow",
           "Yellow",
           "Yellow",
           "Yellow",
           "Yellow",
           "Yellow",
           "Yellow",
           "Yellow",
           "Yellow",
           "Yellow",
           "Yellow",
           "Red",
           "Red",
           "Yellow",
           "Yellow",
           "Green",
           "Green",
           "Green",
           "Green",
           "Yellow",
           "Yellow",
           "Yellow",
           "Yellow",
           "Green",
           "Green",
           "Green",
           "Green",
           "Yellow",
           "Yellow",
           "Yellow",
           "Yellow",
           "Green",
           "Green",
           "Green",
           "Green",
           "Red",
           "Red",
           "Yellow",
           "Yellow",
           "Yellow",
           "Yellow",
           "Red",
           "Red",
           "Yellow",
           "Yellow",
           "Red",
           "Red"
          ]
         },
         "name": "",
         "showlegend": true,
         "type": "pie"
        }
       ],
       "layout": {
        "legend": {
         "tracegroupgap": 0
        },
        "margin": {
         "t": 60
        },
        "template": {
         "data": {
          "bar": [
           {
            "error_x": {
             "color": "#2a3f5f"
            },
            "error_y": {
             "color": "#2a3f5f"
            },
            "marker": {
             "line": {
              "color": "#E5ECF6",
              "width": 0.5
             },
             "pattern": {
              "fillmode": "overlay",
              "size": 10,
              "solidity": 0.2
             }
            },
            "type": "bar"
           }
          ],
          "barpolar": [
           {
            "marker": {
             "line": {
              "color": "#E5ECF6",
              "width": 0.5
             },
             "pattern": {
              "fillmode": "overlay",
              "size": 10,
              "solidity": 0.2
             }
            },
            "type": "barpolar"
           }
          ],
          "carpet": [
           {
            "aaxis": {
             "endlinecolor": "#2a3f5f",
             "gridcolor": "white",
             "linecolor": "white",
             "minorgridcolor": "white",
             "startlinecolor": "#2a3f5f"
            },
            "baxis": {
             "endlinecolor": "#2a3f5f",
             "gridcolor": "white",
             "linecolor": "white",
             "minorgridcolor": "white",
             "startlinecolor": "#2a3f5f"
            },
            "type": "carpet"
           }
          ],
          "choropleth": [
           {
            "colorbar": {
             "outlinewidth": 0,
             "ticks": ""
            },
            "type": "choropleth"
           }
          ],
          "contour": [
           {
            "colorbar": {
             "outlinewidth": 0,
             "ticks": ""
            },
            "colorscale": [
             [
              0,
              "#0d0887"
             ],
             [
              0.1111111111111111,
              "#46039f"
             ],
             [
              0.2222222222222222,
              "#7201a8"
             ],
             [
              0.3333333333333333,
              "#9c179e"
             ],
             [
              0.4444444444444444,
              "#bd3786"
             ],
             [
              0.5555555555555556,
              "#d8576b"
             ],
             [
              0.6666666666666666,
              "#ed7953"
             ],
             [
              0.7777777777777778,
              "#fb9f3a"
             ],
             [
              0.8888888888888888,
              "#fdca26"
             ],
             [
              1,
              "#f0f921"
             ]
            ],
            "type": "contour"
           }
          ],
          "contourcarpet": [
           {
            "colorbar": {
             "outlinewidth": 0,
             "ticks": ""
            },
            "type": "contourcarpet"
           }
          ],
          "heatmap": [
           {
            "colorbar": {
             "outlinewidth": 0,
             "ticks": ""
            },
            "colorscale": [
             [
              0,
              "#0d0887"
             ],
             [
              0.1111111111111111,
              "#46039f"
             ],
             [
              0.2222222222222222,
              "#7201a8"
             ],
             [
              0.3333333333333333,
              "#9c179e"
             ],
             [
              0.4444444444444444,
              "#bd3786"
             ],
             [
              0.5555555555555556,
              "#d8576b"
             ],
             [
              0.6666666666666666,
              "#ed7953"
             ],
             [
              0.7777777777777778,
              "#fb9f3a"
             ],
             [
              0.8888888888888888,
              "#fdca26"
             ],
             [
              1,
              "#f0f921"
             ]
            ],
            "type": "heatmap"
           }
          ],
          "heatmapgl": [
           {
            "colorbar": {
             "outlinewidth": 0,
             "ticks": ""
            },
            "colorscale": [
             [
              0,
              "#0d0887"
             ],
             [
              0.1111111111111111,
              "#46039f"
             ],
             [
              0.2222222222222222,
              "#7201a8"
             ],
             [
              0.3333333333333333,
              "#9c179e"
             ],
             [
              0.4444444444444444,
              "#bd3786"
             ],
             [
              0.5555555555555556,
              "#d8576b"
             ],
             [
              0.6666666666666666,
              "#ed7953"
             ],
             [
              0.7777777777777778,
              "#fb9f3a"
             ],
             [
              0.8888888888888888,
              "#fdca26"
             ],
             [
              1,
              "#f0f921"
             ]
            ],
            "type": "heatmapgl"
           }
          ],
          "histogram": [
           {
            "marker": {
             "pattern": {
              "fillmode": "overlay",
              "size": 10,
              "solidity": 0.2
             }
            },
            "type": "histogram"
           }
          ],
          "histogram2d": [
           {
            "colorbar": {
             "outlinewidth": 0,
             "ticks": ""
            },
            "colorscale": [
             [
              0,
              "#0d0887"
             ],
             [
              0.1111111111111111,
              "#46039f"
             ],
             [
              0.2222222222222222,
              "#7201a8"
             ],
             [
              0.3333333333333333,
              "#9c179e"
             ],
             [
              0.4444444444444444,
              "#bd3786"
             ],
             [
              0.5555555555555556,
              "#d8576b"
             ],
             [
              0.6666666666666666,
              "#ed7953"
             ],
             [
              0.7777777777777778,
              "#fb9f3a"
             ],
             [
              0.8888888888888888,
              "#fdca26"
             ],
             [
              1,
              "#f0f921"
             ]
            ],
            "type": "histogram2d"
           }
          ],
          "histogram2dcontour": [
           {
            "colorbar": {
             "outlinewidth": 0,
             "ticks": ""
            },
            "colorscale": [
             [
              0,
              "#0d0887"
             ],
             [
              0.1111111111111111,
              "#46039f"
             ],
             [
              0.2222222222222222,
              "#7201a8"
             ],
             [
              0.3333333333333333,
              "#9c179e"
             ],
             [
              0.4444444444444444,
              "#bd3786"
             ],
             [
              0.5555555555555556,
              "#d8576b"
             ],
             [
              0.6666666666666666,
              "#ed7953"
             ],
             [
              0.7777777777777778,
              "#fb9f3a"
             ],
             [
              0.8888888888888888,
              "#fdca26"
             ],
             [
              1,
              "#f0f921"
             ]
            ],
            "type": "histogram2dcontour"
           }
          ],
          "mesh3d": [
           {
            "colorbar": {
             "outlinewidth": 0,
             "ticks": ""
            },
            "type": "mesh3d"
           }
          ],
          "parcoords": [
           {
            "line": {
             "colorbar": {
              "outlinewidth": 0,
              "ticks": ""
             }
            },
            "type": "parcoords"
           }
          ],
          "pie": [
           {
            "automargin": true,
            "type": "pie"
           }
          ],
          "scatter": [
           {
            "fillpattern": {
             "fillmode": "overlay",
             "size": 10,
             "solidity": 0.2
            },
            "type": "scatter"
           }
          ],
          "scatter3d": [
           {
            "line": {
             "colorbar": {
              "outlinewidth": 0,
              "ticks": ""
             }
            },
            "marker": {
             "colorbar": {
              "outlinewidth": 0,
              "ticks": ""
             }
            },
            "type": "scatter3d"
           }
          ],
          "scattercarpet": [
           {
            "marker": {
             "colorbar": {
              "outlinewidth": 0,
              "ticks": ""
             }
            },
            "type": "scattercarpet"
           }
          ],
          "scattergeo": [
           {
            "marker": {
             "colorbar": {
              "outlinewidth": 0,
              "ticks": ""
             }
            },
            "type": "scattergeo"
           }
          ],
          "scattergl": [
           {
            "marker": {
             "colorbar": {
              "outlinewidth": 0,
              "ticks": ""
             }
            },
            "type": "scattergl"
           }
          ],
          "scattermapbox": [
           {
            "marker": {
             "colorbar": {
              "outlinewidth": 0,
              "ticks": ""
             }
            },
            "type": "scattermapbox"
           }
          ],
          "scatterpolar": [
           {
            "marker": {
             "colorbar": {
              "outlinewidth": 0,
              "ticks": ""
             }
            },
            "type": "scatterpolar"
           }
          ],
          "scatterpolargl": [
           {
            "marker": {
             "colorbar": {
              "outlinewidth": 0,
              "ticks": ""
             }
            },
            "type": "scatterpolargl"
           }
          ],
          "scatterternary": [
           {
            "marker": {
             "colorbar": {
              "outlinewidth": 0,
              "ticks": ""
             }
            },
            "type": "scatterternary"
           }
          ],
          "surface": [
           {
            "colorbar": {
             "outlinewidth": 0,
             "ticks": ""
            },
            "colorscale": [
             [
              0,
              "#0d0887"
             ],
             [
              0.1111111111111111,
              "#46039f"
             ],
             [
              0.2222222222222222,
              "#7201a8"
             ],
             [
              0.3333333333333333,
              "#9c179e"
             ],
             [
              0.4444444444444444,
              "#bd3786"
             ],
             [
              0.5555555555555556,
              "#d8576b"
             ],
             [
              0.6666666666666666,
              "#ed7953"
             ],
             [
              0.7777777777777778,
              "#fb9f3a"
             ],
             [
              0.8888888888888888,
              "#fdca26"
             ],
             [
              1,
              "#f0f921"
             ]
            ],
            "type": "surface"
           }
          ],
          "table": [
           {
            "cells": {
             "fill": {
              "color": "#EBF0F8"
             },
             "line": {
              "color": "white"
             }
            },
            "header": {
             "fill": {
              "color": "#C8D4E3"
             },
             "line": {
              "color": "white"
             }
            },
            "type": "table"
           }
          ]
         },
         "layout": {
          "annotationdefaults": {
           "arrowcolor": "#2a3f5f",
           "arrowhead": 0,
           "arrowwidth": 1
          },
          "autotypenumbers": "strict",
          "coloraxis": {
           "colorbar": {
            "outlinewidth": 0,
            "ticks": ""
           }
          },
          "colorscale": {
           "diverging": [
            [
             0,
             "#8e0152"
            ],
            [
             0.1,
             "#c51b7d"
            ],
            [
             0.2,
             "#de77ae"
            ],
            [
             0.3,
             "#f1b6da"
            ],
            [
             0.4,
             "#fde0ef"
            ],
            [
             0.5,
             "#f7f7f7"
            ],
            [
             0.6,
             "#e6f5d0"
            ],
            [
             0.7,
             "#b8e186"
            ],
            [
             0.8,
             "#7fbc41"
            ],
            [
             0.9,
             "#4d9221"
            ],
            [
             1,
             "#276419"
            ]
           ],
           "sequential": [
            [
             0,
             "#0d0887"
            ],
            [
             0.1111111111111111,
             "#46039f"
            ],
            [
             0.2222222222222222,
             "#7201a8"
            ],
            [
             0.3333333333333333,
             "#9c179e"
            ],
            [
             0.4444444444444444,
             "#bd3786"
            ],
            [
             0.5555555555555556,
             "#d8576b"
            ],
            [
             0.6666666666666666,
             "#ed7953"
            ],
            [
             0.7777777777777778,
             "#fb9f3a"
            ],
            [
             0.8888888888888888,
             "#fdca26"
            ],
            [
             1,
             "#f0f921"
            ]
           ],
           "sequentialminus": [
            [
             0,
             "#0d0887"
            ],
            [
             0.1111111111111111,
             "#46039f"
            ],
            [
             0.2222222222222222,
             "#7201a8"
            ],
            [
             0.3333333333333333,
             "#9c179e"
            ],
            [
             0.4444444444444444,
             "#bd3786"
            ],
            [
             0.5555555555555556,
             "#d8576b"
            ],
            [
             0.6666666666666666,
             "#ed7953"
            ],
            [
             0.7777777777777778,
             "#fb9f3a"
            ],
            [
             0.8888888888888888,
             "#fdca26"
            ],
            [
             1,
             "#f0f921"
            ]
           ]
          },
          "colorway": [
           "#636efa",
           "#EF553B",
           "#00cc96",
           "#ab63fa",
           "#FFA15A",
           "#19d3f3",
           "#FF6692",
           "#B6E880",
           "#FF97FF",
           "#FECB52"
          ],
          "font": {
           "color": "#2a3f5f"
          },
          "geo": {
           "bgcolor": "white",
           "lakecolor": "white",
           "landcolor": "#E5ECF6",
           "showlakes": true,
           "showland": true,
           "subunitcolor": "white"
          },
          "hoverlabel": {
           "align": "left"
          },
          "hovermode": "closest",
          "mapbox": {
           "style": "light"
          },
          "paper_bgcolor": "white",
          "plot_bgcolor": "#E5ECF6",
          "polar": {
           "angularaxis": {
            "gridcolor": "white",
            "linecolor": "white",
            "ticks": ""
           },
           "bgcolor": "#E5ECF6",
           "radialaxis": {
            "gridcolor": "white",
            "linecolor": "white",
            "ticks": ""
           }
          },
          "scene": {
           "xaxis": {
            "backgroundcolor": "#E5ECF6",
            "gridcolor": "white",
            "gridwidth": 2,
            "linecolor": "white",
            "showbackground": true,
            "ticks": "",
            "zerolinecolor": "white"
           },
           "yaxis": {
            "backgroundcolor": "#E5ECF6",
            "gridcolor": "white",
            "gridwidth": 2,
            "linecolor": "white",
            "showbackground": true,
            "ticks": "",
            "zerolinecolor": "white"
           },
           "zaxis": {
            "backgroundcolor": "#E5ECF6",
            "gridcolor": "white",
            "gridwidth": 2,
            "linecolor": "white",
            "showbackground": true,
            "ticks": "",
            "zerolinecolor": "white"
           }
          },
          "shapedefaults": {
           "line": {
            "color": "#2a3f5f"
           }
          },
          "ternary": {
           "aaxis": {
            "gridcolor": "white",
            "linecolor": "white",
            "ticks": ""
           },
           "baxis": {
            "gridcolor": "white",
            "linecolor": "white",
            "ticks": ""
           },
           "bgcolor": "#E5ECF6",
           "caxis": {
            "gridcolor": "white",
            "linecolor": "white",
            "ticks": ""
           }
          },
          "title": {
           "x": 0.05
          },
          "xaxis": {
           "automargin": true,
           "gridcolor": "white",
           "linecolor": "white",
           "ticks": "",
           "title": {
            "standoff": 15
           },
           "zerolinecolor": "white",
           "zerolinewidth": 2
          },
          "yaxis": {
           "automargin": true,
           "gridcolor": "white",
           "linecolor": "white",
           "ticks": "",
           "title": {
            "standoff": 15
           },
           "zerolinecolor": "white",
           "zerolinewidth": 2
          }
         }
        }
       }
      },
      "text/html": [
       "<div>                            <div id=\"94475d6c-0eb7-4248-b605-2fbe5028c3c5\" class=\"plotly-graph-div\" style=\"height:525px; width:100%;\"></div>            <script type=\"text/javascript\">                require([\"plotly\"], function(Plotly) {                    window.PLOTLYENV=window.PLOTLYENV || {};                                    if (document.getElementById(\"94475d6c-0eb7-4248-b605-2fbe5028c3c5\")) {                    Plotly.newPlot(                        \"94475d6c-0eb7-4248-b605-2fbe5028c3c5\",                        [{\"customdata\":[[\"M\"],[\"M\"],[\"L\"],[\"L\"],[\"M\"],[\"M\"],[\"L\"],[\"M\"],[\"M\"],[\"M\"],[\"H\"],[\"M\"],[\"L\"],[\"L\"],[\"H\"],[\"M\"],[\"M\"],[\"M\"],[\"M\"],[\"H\"],[\"M\"],[\"M\"],[\"M\"],[\"L\"],[\"L\"],[\"L\"],[\"M\"],[\"L\"],[\"M\"],[\"M\"],[\"H\"],[\"L\"],[\"L\"],[\"L\"],[\"L\"],[\"L\"],[\"L\"],[\"M\"],[\"L\"],[\"M\"],[\"L\"],[\"M\"],[\"L\"],[\"M\"],[\"M\"],[\"L\"],[\"L\"],[\"H\"],[\"H\"],[\"M\"],[\"L\"],[\"L\"],[\"M\"],[\"H\"],[\"L\"],[\"L\"],[\"L\"],[\"L\"],[\"M\"],[\"M\"],[\"L\"],[\"M\"],[\"H\"],[\"M\"],[\"L\"],[\"L\"],[\"M\"],[\"H\"],[\"H\"],[\"M\"],[\"L\"],[\"M\"],[\"L\"],[\"M\"],[\"L\"],[\"M\"],[\"M\"],[\"M\"],[\"L\"],[\"H\"],[\"L\"],[\"L\"],[\"L\"],[\"M\"],[\"H\"],[\"L\"],[\"H\"],[\"L\"],[\"L\"],[\"L\"],[\"L\"],[\"H\"],[\"H\"],[\"H\"],[\"L\"],[\"H\"],[\"H\"],[\"M\"],[\"M\"],[\"M\"],[\"M\"],[\"H\"],[\"L\"],[\"L\"],[\"M\"],[\"L\"],[\"M\"],[\"H\"],[\"M\"],[\"M\"],[\"H\"],[\"M\"],[\"L\"],[\"L\"],[\"L\"],[\"L\"],[\"M\"],[\"H\"],[\"M\"],[\"M\"],[\"M\"],[\"L\"],[\"M\"],[\"M\"],[\"L\"],[\"L\"],[\"M\"],[\"L\"],[\"L\"],[\"L\"],[\"L\"],[\"M\"],[\"L\"],[\"L\"],[\"H\"],[\"H\"],[\"H\"],[\"M\"],[\"H\"],[\"M\"],[\"L\"],[\"L\"],[\"M\"],[\"H\"],[\"L\"],[\"M\"],[\"H\"],[\"M\"],[\"M\"],[\"H\"],[\"H\"],[\"M\"],[\"H\"],[\"L\"],[\"M\"],[\"H\"],[\"M\"],[\"M\"],[\"L\"],[\"M\"],[\"H\"],[\"M\"],[\"H\"],[\"M\"],[\"M\"],[\"H\"],[\"M\"],[\"H\"],[\"H\"],[\"M\"],[\"H\"],[\"M\"],[\"L\"],[\"L\"],[\"M\"],[\"L\"],[\"H\"],[\"M\"],[\"H\"],[\"M\"],[\"H\"],[\"L\"],[\"H\"],[\"M\"],[\"L\"],[\"H\"],[\"M\"],[\"M\"],[\"H\"],[\"M\"],[\"L\"],[\"L\"],[\"M\"],[\"M\"],[\"M\"],[\"M\"],[\"H\"],[\"H\"],[\"L\"],[\"M\"],[\"H\"],[\"H\"],[\"M\"],[\"M\"],[\"L\"],[\"H\"],[\"M\"],[\"M\"],[\"M\"],[\"M\"],[\"H\"],[\"M\"],[\"H\"],[\"L\"],[\"L\"],[\"L\"],[\"M\"],[\"M\"],[\"H\"],[\"M\"],[\"M\"],[\"M\"],[\"M\"],[\"H\"],[\"H\"],[\"M\"],[\"L\"],[\"L\"],[\"H\"],[\"L\"],[\"M\"],[\"L\"],[\"M\"],[\"M\"],[\"M\"],[\"L\"],[\"L\"],[\"M\"],[\"M\"],[\"H\"],[\"H\"],[\"M\"],[\"L\"],[\"M\"],[\"H\"],[\"M\"],[\"H\"],[\"M\"],[\"L\"],[\"M\"],[\"H\"],[\"L\"],[\"M\"],[\"L\"],[\"H\"],[\"H\"],[\"H\"],[\"M\"],[\"M\"],[\"L\"],[\"L\"],[\"M\"],[\"M\"],[\"M\"],[\"M\"],[\"H\"],[\"M\"],[\"M\"],[\"M\"],[\"M\"],[\"H\"],[\"M\"],[\"M\"],[\"H\"],[\"H\"],[\"H\"],[\"H\"],[\"H\"],[\"M\"],[\"M\"],[\"H\"],[\"H\"],[\"H\"],[\"H\"],[\"M\"],[\"M\"],[\"H\"],[\"H\"],[\"M\"],[\"M\"],[\"L\"],[\"L\"],[\"H\"],[\"H\"],[\"M\"],[\"M\"],[\"H\"],[\"H\"],[\"M\"],[\"M\"],[\"L\"],[\"L\"],[\"M\"],[\"M\"],[\"M\"],[\"M\"],[\"H\"],[\"H\"],[\"M\"],[\"M\"],[\"M\"],[\"M\"],[\"H\"],[\"H\"],[\"H\"],[\"H\"],[\"H\"],[\"H\"],[\"H\"],[\"H\"],[\"M\"],[\"M\"],[\"L\"],[\"L\"],[\"M\"],[\"M\"],[\"L\"],[\"L\"],[\"M\"],[\"M\"],[\"L\"],[\"L\"],[\"M\"],[\"M\"],[\"L\"],[\"L\"],[\"M\"],[\"M\"],[\"M\"],[\"M\"],[\"M\"],[\"M\"],[\"M\"],[\"M\"],[\"H\"],[\"H\"],[\"H\"],[\"H\"],[\"L\"],[\"L\"],[\"L\"],[\"L\"],[\"M\"],[\"M\"],[\"H\"],[\"H\"],[\"M\"],[\"M\"],[\"H\"],[\"H\"],[\"M\"],[\"M\"],[\"H\"],[\"H\"],[\"H\"],[\"H\"],[\"M\"],[\"M\"],[\"H\"],[\"H\"],[\"M\"],[\"M\"],[\"L\"],[\"L\"],[\"L\"],[\"L\"],[\"M\"],[\"M\"],[\"L\"],[\"L\"],[\"L\"],[\"L\"],[\"H\"],[\"H\"],[\"H\"],[\"H\"],[\"M\"],[\"M\"],[\"L\"],[\"L\"],[\"M\"],[\"M\"],[\"H\"],[\"H\"],[\"H\"],[\"H\"],[\"M\"],[\"M\"],[\"H\"],[\"H\"],[\"M\"],[\"M\"],[\"H\"],[\"H\"],[\"H\"],[\"H\"],[\"L\"],[\"L\"],[\"M\"],[\"M\"],[\"H\"],[\"H\"],[\"M\"],[\"M\"],[\"L\"],[\"L\"],[\"H\"],[\"H\"],[\"H\"],[\"H\"],[\"H\"],[\"H\"],[\"M\"],[\"M\"],[\"H\"],[\"H\"],[\"M\"],[\"M\"],[\"L\"],[\"L\"],[\"H\"],[\"H\"],[\"M\"],[\"M\"],[\"M\"],[\"M\"],[\"M\"],[\"M\"],[\"M\"],[\"M\"],[\"M\"],[\"M\"],[\"M\"],[\"M\"],[\"L\"],[\"L\"],[\"M\"],[\"M\"],[\"H\"],[\"H\"],[\"H\"],[\"H\"],[\"M\"],[\"M\"],[\"M\"],[\"M\"],[\"H\"],[\"H\"],[\"H\"],[\"H\"],[\"M\"],[\"M\"],[\"M\"],[\"M\"],[\"H\"],[\"H\"],[\"H\"],[\"H\"],[\"L\"],[\"L\"],[\"M\"],[\"M\"],[\"M\"],[\"M\"],[\"L\"],[\"L\"],[\"M\"],[\"M\"],[\"L\"],[\"L\"]],\"domain\":{\"x\":[0.0,1.0],\"y\":[0.0,1.0]},\"hovertemplate\":\"Class=%{customdata[0]}<extra></extra>\",\"labels\":[\"M\",\"M\",\"L\",\"L\",\"M\",\"M\",\"L\",\"M\",\"M\",\"M\",\"H\",\"M\",\"L\",\"L\",\"H\",\"M\",\"M\",\"M\",\"M\",\"H\",\"M\",\"M\",\"M\",\"L\",\"L\",\"L\",\"M\",\"L\",\"M\",\"M\",\"H\",\"L\",\"L\",\"L\",\"L\",\"L\",\"L\",\"M\",\"L\",\"M\",\"L\",\"M\",\"L\",\"M\",\"M\",\"L\",\"L\",\"H\",\"H\",\"M\",\"L\",\"L\",\"M\",\"H\",\"L\",\"L\",\"L\",\"L\",\"M\",\"M\",\"L\",\"M\",\"H\",\"M\",\"L\",\"L\",\"M\",\"H\",\"H\",\"M\",\"L\",\"M\",\"L\",\"M\",\"L\",\"M\",\"M\",\"M\",\"L\",\"H\",\"L\",\"L\",\"L\",\"M\",\"H\",\"L\",\"H\",\"L\",\"L\",\"L\",\"L\",\"H\",\"H\",\"H\",\"L\",\"H\",\"H\",\"M\",\"M\",\"M\",\"M\",\"H\",\"L\",\"L\",\"M\",\"L\",\"M\",\"H\",\"M\",\"M\",\"H\",\"M\",\"L\",\"L\",\"L\",\"L\",\"M\",\"H\",\"M\",\"M\",\"M\",\"L\",\"M\",\"M\",\"L\",\"L\",\"M\",\"L\",\"L\",\"L\",\"L\",\"M\",\"L\",\"L\",\"H\",\"H\",\"H\",\"M\",\"H\",\"M\",\"L\",\"L\",\"M\",\"H\",\"L\",\"M\",\"H\",\"M\",\"M\",\"H\",\"H\",\"M\",\"H\",\"L\",\"M\",\"H\",\"M\",\"M\",\"L\",\"M\",\"H\",\"M\",\"H\",\"M\",\"M\",\"H\",\"M\",\"H\",\"H\",\"M\",\"H\",\"M\",\"L\",\"L\",\"M\",\"L\",\"H\",\"M\",\"H\",\"M\",\"H\",\"L\",\"H\",\"M\",\"L\",\"H\",\"M\",\"M\",\"H\",\"M\",\"L\",\"L\",\"M\",\"M\",\"M\",\"M\",\"H\",\"H\",\"L\",\"M\",\"H\",\"H\",\"M\",\"M\",\"L\",\"H\",\"M\",\"M\",\"M\",\"M\",\"H\",\"M\",\"H\",\"L\",\"L\",\"L\",\"M\",\"M\",\"H\",\"M\",\"M\",\"M\",\"M\",\"H\",\"H\",\"M\",\"L\",\"L\",\"H\",\"L\",\"M\",\"L\",\"M\",\"M\",\"M\",\"L\",\"L\",\"M\",\"M\",\"H\",\"H\",\"M\",\"L\",\"M\",\"H\",\"M\",\"H\",\"M\",\"L\",\"M\",\"H\",\"L\",\"M\",\"L\",\"H\",\"H\",\"H\",\"M\",\"M\",\"L\",\"L\",\"M\",\"M\",\"M\",\"M\",\"H\",\"M\",\"M\",\"M\",\"M\",\"H\",\"M\",\"M\",\"H\",\"H\",\"H\",\"H\",\"H\",\"M\",\"M\",\"H\",\"H\",\"H\",\"H\",\"M\",\"M\",\"H\",\"H\",\"M\",\"M\",\"L\",\"L\",\"H\",\"H\",\"M\",\"M\",\"H\",\"H\",\"M\",\"M\",\"L\",\"L\",\"M\",\"M\",\"M\",\"M\",\"H\",\"H\",\"M\",\"M\",\"M\",\"M\",\"H\",\"H\",\"H\",\"H\",\"H\",\"H\",\"H\",\"H\",\"M\",\"M\",\"L\",\"L\",\"M\",\"M\",\"L\",\"L\",\"M\",\"M\",\"L\",\"L\",\"M\",\"M\",\"L\",\"L\",\"M\",\"M\",\"M\",\"M\",\"M\",\"M\",\"M\",\"M\",\"H\",\"H\",\"H\",\"H\",\"L\",\"L\",\"L\",\"L\",\"M\",\"M\",\"H\",\"H\",\"M\",\"M\",\"H\",\"H\",\"M\",\"M\",\"H\",\"H\",\"H\",\"H\",\"M\",\"M\",\"H\",\"H\",\"M\",\"M\",\"L\",\"L\",\"L\",\"L\",\"M\",\"M\",\"L\",\"L\",\"L\",\"L\",\"H\",\"H\",\"H\",\"H\",\"M\",\"M\",\"L\",\"L\",\"M\",\"M\",\"H\",\"H\",\"H\",\"H\",\"M\",\"M\",\"H\",\"H\",\"M\",\"M\",\"H\",\"H\",\"H\",\"H\",\"L\",\"L\",\"M\",\"M\",\"H\",\"H\",\"M\",\"M\",\"L\",\"L\",\"H\",\"H\",\"H\",\"H\",\"H\",\"H\",\"M\",\"M\",\"H\",\"H\",\"M\",\"M\",\"L\",\"L\",\"H\",\"H\",\"M\",\"M\",\"M\",\"M\",\"M\",\"M\",\"M\",\"M\",\"M\",\"M\",\"M\",\"M\",\"L\",\"L\",\"M\",\"M\",\"H\",\"H\",\"H\",\"H\",\"M\",\"M\",\"M\",\"M\",\"H\",\"H\",\"H\",\"H\",\"M\",\"M\",\"M\",\"M\",\"H\",\"H\",\"H\",\"H\",\"L\",\"L\",\"M\",\"M\",\"M\",\"M\",\"L\",\"L\",\"M\",\"M\",\"L\",\"L\"],\"legendgroup\":\"\",\"marker\":{\"colors\":[\"Yellow\",\"Yellow\",\"Red\",\"Red\",\"Yellow\",\"Yellow\",\"Red\",\"Yellow\",\"Yellow\",\"Yellow\",\"Green\",\"Yellow\",\"Red\",\"Red\",\"Green\",\"Yellow\",\"Yellow\",\"Yellow\",\"Yellow\",\"Green\",\"Yellow\",\"Yellow\",\"Yellow\",\"Red\",\"Red\",\"Red\",\"Yellow\",\"Red\",\"Yellow\",\"Yellow\",\"Green\",\"Red\",\"Red\",\"Red\",\"Red\",\"Red\",\"Red\",\"Yellow\",\"Red\",\"Yellow\",\"Red\",\"Yellow\",\"Red\",\"Yellow\",\"Yellow\",\"Red\",\"Red\",\"Green\",\"Green\",\"Yellow\",\"Red\",\"Red\",\"Yellow\",\"Green\",\"Red\",\"Red\",\"Red\",\"Red\",\"Yellow\",\"Yellow\",\"Red\",\"Yellow\",\"Green\",\"Yellow\",\"Red\",\"Red\",\"Yellow\",\"Green\",\"Green\",\"Yellow\",\"Red\",\"Yellow\",\"Red\",\"Yellow\",\"Red\",\"Yellow\",\"Yellow\",\"Yellow\",\"Red\",\"Green\",\"Red\",\"Red\",\"Red\",\"Yellow\",\"Green\",\"Red\",\"Green\",\"Red\",\"Red\",\"Red\",\"Red\",\"Green\",\"Green\",\"Green\",\"Red\",\"Green\",\"Green\",\"Yellow\",\"Yellow\",\"Yellow\",\"Yellow\",\"Green\",\"Red\",\"Red\",\"Yellow\",\"Red\",\"Yellow\",\"Green\",\"Yellow\",\"Yellow\",\"Green\",\"Yellow\",\"Red\",\"Red\",\"Red\",\"Red\",\"Yellow\",\"Green\",\"Yellow\",\"Yellow\",\"Yellow\",\"Red\",\"Yellow\",\"Yellow\",\"Red\",\"Red\",\"Yellow\",\"Red\",\"Red\",\"Red\",\"Red\",\"Yellow\",\"Red\",\"Red\",\"Green\",\"Green\",\"Green\",\"Yellow\",\"Green\",\"Yellow\",\"Red\",\"Red\",\"Yellow\",\"Green\",\"Red\",\"Yellow\",\"Green\",\"Yellow\",\"Yellow\",\"Green\",\"Green\",\"Yellow\",\"Green\",\"Red\",\"Yellow\",\"Green\",\"Yellow\",\"Yellow\",\"Red\",\"Yellow\",\"Green\",\"Yellow\",\"Green\",\"Yellow\",\"Yellow\",\"Green\",\"Yellow\",\"Green\",\"Green\",\"Yellow\",\"Green\",\"Yellow\",\"Red\",\"Red\",\"Yellow\",\"Red\",\"Green\",\"Yellow\",\"Green\",\"Yellow\",\"Green\",\"Red\",\"Green\",\"Yellow\",\"Red\",\"Green\",\"Yellow\",\"Yellow\",\"Green\",\"Yellow\",\"Red\",\"Red\",\"Yellow\",\"Yellow\",\"Yellow\",\"Yellow\",\"Green\",\"Green\",\"Red\",\"Yellow\",\"Green\",\"Green\",\"Yellow\",\"Yellow\",\"Red\",\"Green\",\"Yellow\",\"Yellow\",\"Yellow\",\"Yellow\",\"Green\",\"Yellow\",\"Green\",\"Red\",\"Red\",\"Red\",\"Yellow\",\"Yellow\",\"Green\",\"Yellow\",\"Yellow\",\"Yellow\",\"Yellow\",\"Green\",\"Green\",\"Yellow\",\"Red\",\"Red\",\"Green\",\"Red\",\"Yellow\",\"Red\",\"Yellow\",\"Yellow\",\"Yellow\",\"Red\",\"Red\",\"Yellow\",\"Yellow\",\"Green\",\"Green\",\"Yellow\",\"Red\",\"Yellow\",\"Green\",\"Yellow\",\"Green\",\"Yellow\",\"Red\",\"Yellow\",\"Green\",\"Red\",\"Yellow\",\"Red\",\"Green\",\"Green\",\"Green\",\"Yellow\",\"Yellow\",\"Red\",\"Red\",\"Yellow\",\"Yellow\",\"Yellow\",\"Yellow\",\"Green\",\"Yellow\",\"Yellow\",\"Yellow\",\"Yellow\",\"Green\",\"Yellow\",\"Yellow\",\"Green\",\"Green\",\"Green\",\"Green\",\"Green\",\"Yellow\",\"Yellow\",\"Green\",\"Green\",\"Green\",\"Green\",\"Yellow\",\"Yellow\",\"Green\",\"Green\",\"Yellow\",\"Yellow\",\"Red\",\"Red\",\"Green\",\"Green\",\"Yellow\",\"Yellow\",\"Green\",\"Green\",\"Yellow\",\"Yellow\",\"Red\",\"Red\",\"Yellow\",\"Yellow\",\"Yellow\",\"Yellow\",\"Green\",\"Green\",\"Yellow\",\"Yellow\",\"Yellow\",\"Yellow\",\"Green\",\"Green\",\"Green\",\"Green\",\"Green\",\"Green\",\"Green\",\"Green\",\"Yellow\",\"Yellow\",\"Red\",\"Red\",\"Yellow\",\"Yellow\",\"Red\",\"Red\",\"Yellow\",\"Yellow\",\"Red\",\"Red\",\"Yellow\",\"Yellow\",\"Red\",\"Red\",\"Yellow\",\"Yellow\",\"Yellow\",\"Yellow\",\"Yellow\",\"Yellow\",\"Yellow\",\"Yellow\",\"Green\",\"Green\",\"Green\",\"Green\",\"Red\",\"Red\",\"Red\",\"Red\",\"Yellow\",\"Yellow\",\"Green\",\"Green\",\"Yellow\",\"Yellow\",\"Green\",\"Green\",\"Yellow\",\"Yellow\",\"Green\",\"Green\",\"Green\",\"Green\",\"Yellow\",\"Yellow\",\"Green\",\"Green\",\"Yellow\",\"Yellow\",\"Red\",\"Red\",\"Red\",\"Red\",\"Yellow\",\"Yellow\",\"Red\",\"Red\",\"Red\",\"Red\",\"Green\",\"Green\",\"Green\",\"Green\",\"Yellow\",\"Yellow\",\"Red\",\"Red\",\"Yellow\",\"Yellow\",\"Green\",\"Green\",\"Green\",\"Green\",\"Yellow\",\"Yellow\",\"Green\",\"Green\",\"Yellow\",\"Yellow\",\"Green\",\"Green\",\"Green\",\"Green\",\"Red\",\"Red\",\"Yellow\",\"Yellow\",\"Green\",\"Green\",\"Yellow\",\"Yellow\",\"Red\",\"Red\",\"Green\",\"Green\",\"Green\",\"Green\",\"Green\",\"Green\",\"Yellow\",\"Yellow\",\"Green\",\"Green\",\"Yellow\",\"Yellow\",\"Red\",\"Red\",\"Green\",\"Green\",\"Yellow\",\"Yellow\",\"Yellow\",\"Yellow\",\"Yellow\",\"Yellow\",\"Yellow\",\"Yellow\",\"Yellow\",\"Yellow\",\"Yellow\",\"Yellow\",\"Red\",\"Red\",\"Yellow\",\"Yellow\",\"Green\",\"Green\",\"Green\",\"Green\",\"Yellow\",\"Yellow\",\"Yellow\",\"Yellow\",\"Green\",\"Green\",\"Green\",\"Green\",\"Yellow\",\"Yellow\",\"Yellow\",\"Yellow\",\"Green\",\"Green\",\"Green\",\"Green\",\"Red\",\"Red\",\"Yellow\",\"Yellow\",\"Yellow\",\"Yellow\",\"Red\",\"Red\",\"Yellow\",\"Yellow\",\"Red\",\"Red\"]},\"name\":\"\",\"showlegend\":true,\"type\":\"pie\"}],                        {\"template\":{\"data\":{\"histogram2dcontour\":[{\"type\":\"histogram2dcontour\",\"colorbar\":{\"outlinewidth\":0,\"ticks\":\"\"},\"colorscale\":[[0.0,\"#0d0887\"],[0.1111111111111111,\"#46039f\"],[0.2222222222222222,\"#7201a8\"],[0.3333333333333333,\"#9c179e\"],[0.4444444444444444,\"#bd3786\"],[0.5555555555555556,\"#d8576b\"],[0.6666666666666666,\"#ed7953\"],[0.7777777777777778,\"#fb9f3a\"],[0.8888888888888888,\"#fdca26\"],[1.0,\"#f0f921\"]]}],\"choropleth\":[{\"type\":\"choropleth\",\"colorbar\":{\"outlinewidth\":0,\"ticks\":\"\"}}],\"histogram2d\":[{\"type\":\"histogram2d\",\"colorbar\":{\"outlinewidth\":0,\"ticks\":\"\"},\"colorscale\":[[0.0,\"#0d0887\"],[0.1111111111111111,\"#46039f\"],[0.2222222222222222,\"#7201a8\"],[0.3333333333333333,\"#9c179e\"],[0.4444444444444444,\"#bd3786\"],[0.5555555555555556,\"#d8576b\"],[0.6666666666666666,\"#ed7953\"],[0.7777777777777778,\"#fb9f3a\"],[0.8888888888888888,\"#fdca26\"],[1.0,\"#f0f921\"]]}],\"heatmap\":[{\"type\":\"heatmap\",\"colorbar\":{\"outlinewidth\":0,\"ticks\":\"\"},\"colorscale\":[[0.0,\"#0d0887\"],[0.1111111111111111,\"#46039f\"],[0.2222222222222222,\"#7201a8\"],[0.3333333333333333,\"#9c179e\"],[0.4444444444444444,\"#bd3786\"],[0.5555555555555556,\"#d8576b\"],[0.6666666666666666,\"#ed7953\"],[0.7777777777777778,\"#fb9f3a\"],[0.8888888888888888,\"#fdca26\"],[1.0,\"#f0f921\"]]}],\"heatmapgl\":[{\"type\":\"heatmapgl\",\"colorbar\":{\"outlinewidth\":0,\"ticks\":\"\"},\"colorscale\":[[0.0,\"#0d0887\"],[0.1111111111111111,\"#46039f\"],[0.2222222222222222,\"#7201a8\"],[0.3333333333333333,\"#9c179e\"],[0.4444444444444444,\"#bd3786\"],[0.5555555555555556,\"#d8576b\"],[0.6666666666666666,\"#ed7953\"],[0.7777777777777778,\"#fb9f3a\"],[0.8888888888888888,\"#fdca26\"],[1.0,\"#f0f921\"]]}],\"contourcarpet\":[{\"type\":\"contourcarpet\",\"colorbar\":{\"outlinewidth\":0,\"ticks\":\"\"}}],\"contour\":[{\"type\":\"contour\",\"colorbar\":{\"outlinewidth\":0,\"ticks\":\"\"},\"colorscale\":[[0.0,\"#0d0887\"],[0.1111111111111111,\"#46039f\"],[0.2222222222222222,\"#7201a8\"],[0.3333333333333333,\"#9c179e\"],[0.4444444444444444,\"#bd3786\"],[0.5555555555555556,\"#d8576b\"],[0.6666666666666666,\"#ed7953\"],[0.7777777777777778,\"#fb9f3a\"],[0.8888888888888888,\"#fdca26\"],[1.0,\"#f0f921\"]]}],\"surface\":[{\"type\":\"surface\",\"colorbar\":{\"outlinewidth\":0,\"ticks\":\"\"},\"colorscale\":[[0.0,\"#0d0887\"],[0.1111111111111111,\"#46039f\"],[0.2222222222222222,\"#7201a8\"],[0.3333333333333333,\"#9c179e\"],[0.4444444444444444,\"#bd3786\"],[0.5555555555555556,\"#d8576b\"],[0.6666666666666666,\"#ed7953\"],[0.7777777777777778,\"#fb9f3a\"],[0.8888888888888888,\"#fdca26\"],[1.0,\"#f0f921\"]]}],\"mesh3d\":[{\"type\":\"mesh3d\",\"colorbar\":{\"outlinewidth\":0,\"ticks\":\"\"}}],\"scatter\":[{\"fillpattern\":{\"fillmode\":\"overlay\",\"size\":10,\"solidity\":0.2},\"type\":\"scatter\"}],\"parcoords\":[{\"type\":\"parcoords\",\"line\":{\"colorbar\":{\"outlinewidth\":0,\"ticks\":\"\"}}}],\"scatterpolargl\":[{\"type\":\"scatterpolargl\",\"marker\":{\"colorbar\":{\"outlinewidth\":0,\"ticks\":\"\"}}}],\"bar\":[{\"error_x\":{\"color\":\"#2a3f5f\"},\"error_y\":{\"color\":\"#2a3f5f\"},\"marker\":{\"line\":{\"color\":\"#E5ECF6\",\"width\":0.5},\"pattern\":{\"fillmode\":\"overlay\",\"size\":10,\"solidity\":0.2}},\"type\":\"bar\"}],\"scattergeo\":[{\"type\":\"scattergeo\",\"marker\":{\"colorbar\":{\"outlinewidth\":0,\"ticks\":\"\"}}}],\"scatterpolar\":[{\"type\":\"scatterpolar\",\"marker\":{\"colorbar\":{\"outlinewidth\":0,\"ticks\":\"\"}}}],\"histogram\":[{\"marker\":{\"pattern\":{\"fillmode\":\"overlay\",\"size\":10,\"solidity\":0.2}},\"type\":\"histogram\"}],\"scattergl\":[{\"type\":\"scattergl\",\"marker\":{\"colorbar\":{\"outlinewidth\":0,\"ticks\":\"\"}}}],\"scatter3d\":[{\"type\":\"scatter3d\",\"line\":{\"colorbar\":{\"outlinewidth\":0,\"ticks\":\"\"}},\"marker\":{\"colorbar\":{\"outlinewidth\":0,\"ticks\":\"\"}}}],\"scattermapbox\":[{\"type\":\"scattermapbox\",\"marker\":{\"colorbar\":{\"outlinewidth\":0,\"ticks\":\"\"}}}],\"scatterternary\":[{\"type\":\"scatterternary\",\"marker\":{\"colorbar\":{\"outlinewidth\":0,\"ticks\":\"\"}}}],\"scattercarpet\":[{\"type\":\"scattercarpet\",\"marker\":{\"colorbar\":{\"outlinewidth\":0,\"ticks\":\"\"}}}],\"carpet\":[{\"aaxis\":{\"endlinecolor\":\"#2a3f5f\",\"gridcolor\":\"white\",\"linecolor\":\"white\",\"minorgridcolor\":\"white\",\"startlinecolor\":\"#2a3f5f\"},\"baxis\":{\"endlinecolor\":\"#2a3f5f\",\"gridcolor\":\"white\",\"linecolor\":\"white\",\"minorgridcolor\":\"white\",\"startlinecolor\":\"#2a3f5f\"},\"type\":\"carpet\"}],\"table\":[{\"cells\":{\"fill\":{\"color\":\"#EBF0F8\"},\"line\":{\"color\":\"white\"}},\"header\":{\"fill\":{\"color\":\"#C8D4E3\"},\"line\":{\"color\":\"white\"}},\"type\":\"table\"}],\"barpolar\":[{\"marker\":{\"line\":{\"color\":\"#E5ECF6\",\"width\":0.5},\"pattern\":{\"fillmode\":\"overlay\",\"size\":10,\"solidity\":0.2}},\"type\":\"barpolar\"}],\"pie\":[{\"automargin\":true,\"type\":\"pie\"}]},\"layout\":{\"autotypenumbers\":\"strict\",\"colorway\":[\"#636efa\",\"#EF553B\",\"#00cc96\",\"#ab63fa\",\"#FFA15A\",\"#19d3f3\",\"#FF6692\",\"#B6E880\",\"#FF97FF\",\"#FECB52\"],\"font\":{\"color\":\"#2a3f5f\"},\"hovermode\":\"closest\",\"hoverlabel\":{\"align\":\"left\"},\"paper_bgcolor\":\"white\",\"plot_bgcolor\":\"#E5ECF6\",\"polar\":{\"bgcolor\":\"#E5ECF6\",\"angularaxis\":{\"gridcolor\":\"white\",\"linecolor\":\"white\",\"ticks\":\"\"},\"radialaxis\":{\"gridcolor\":\"white\",\"linecolor\":\"white\",\"ticks\":\"\"}},\"ternary\":{\"bgcolor\":\"#E5ECF6\",\"aaxis\":{\"gridcolor\":\"white\",\"linecolor\":\"white\",\"ticks\":\"\"},\"baxis\":{\"gridcolor\":\"white\",\"linecolor\":\"white\",\"ticks\":\"\"},\"caxis\":{\"gridcolor\":\"white\",\"linecolor\":\"white\",\"ticks\":\"\"}},\"coloraxis\":{\"colorbar\":{\"outlinewidth\":0,\"ticks\":\"\"}},\"colorscale\":{\"sequential\":[[0.0,\"#0d0887\"],[0.1111111111111111,\"#46039f\"],[0.2222222222222222,\"#7201a8\"],[0.3333333333333333,\"#9c179e\"],[0.4444444444444444,\"#bd3786\"],[0.5555555555555556,\"#d8576b\"],[0.6666666666666666,\"#ed7953\"],[0.7777777777777778,\"#fb9f3a\"],[0.8888888888888888,\"#fdca26\"],[1.0,\"#f0f921\"]],\"sequentialminus\":[[0.0,\"#0d0887\"],[0.1111111111111111,\"#46039f\"],[0.2222222222222222,\"#7201a8\"],[0.3333333333333333,\"#9c179e\"],[0.4444444444444444,\"#bd3786\"],[0.5555555555555556,\"#d8576b\"],[0.6666666666666666,\"#ed7953\"],[0.7777777777777778,\"#fb9f3a\"],[0.8888888888888888,\"#fdca26\"],[1.0,\"#f0f921\"]],\"diverging\":[[0,\"#8e0152\"],[0.1,\"#c51b7d\"],[0.2,\"#de77ae\"],[0.3,\"#f1b6da\"],[0.4,\"#fde0ef\"],[0.5,\"#f7f7f7\"],[0.6,\"#e6f5d0\"],[0.7,\"#b8e186\"],[0.8,\"#7fbc41\"],[0.9,\"#4d9221\"],[1,\"#276419\"]]},\"xaxis\":{\"gridcolor\":\"white\",\"linecolor\":\"white\",\"ticks\":\"\",\"title\":{\"standoff\":15},\"zerolinecolor\":\"white\",\"automargin\":true,\"zerolinewidth\":2},\"yaxis\":{\"gridcolor\":\"white\",\"linecolor\":\"white\",\"ticks\":\"\",\"title\":{\"standoff\":15},\"zerolinecolor\":\"white\",\"automargin\":true,\"zerolinewidth\":2},\"scene\":{\"xaxis\":{\"backgroundcolor\":\"#E5ECF6\",\"gridcolor\":\"white\",\"linecolor\":\"white\",\"showbackground\":true,\"ticks\":\"\",\"zerolinecolor\":\"white\",\"gridwidth\":2},\"yaxis\":{\"backgroundcolor\":\"#E5ECF6\",\"gridcolor\":\"white\",\"linecolor\":\"white\",\"showbackground\":true,\"ticks\":\"\",\"zerolinecolor\":\"white\",\"gridwidth\":2},\"zaxis\":{\"backgroundcolor\":\"#E5ECF6\",\"gridcolor\":\"white\",\"linecolor\":\"white\",\"showbackground\":true,\"ticks\":\"\",\"zerolinecolor\":\"white\",\"gridwidth\":2}},\"shapedefaults\":{\"line\":{\"color\":\"#2a3f5f\"}},\"annotationdefaults\":{\"arrowcolor\":\"#2a3f5f\",\"arrowhead\":0,\"arrowwidth\":1},\"geo\":{\"bgcolor\":\"white\",\"landcolor\":\"#E5ECF6\",\"subunitcolor\":\"white\",\"showland\":true,\"showlakes\":true,\"lakecolor\":\"white\"},\"title\":{\"x\":0.05},\"mapbox\":{\"style\":\"light\"}}},\"legend\":{\"tracegroupgap\":0},\"margin\":{\"t\":60}},                        {\"responsive\": true}                    ).then(function(){\n",
       "                            \n",
       "var gd = document.getElementById('94475d6c-0eb7-4248-b605-2fbe5028c3c5');\n",
       "var x = new MutationObserver(function (mutations, observer) {{\n",
       "        var display = window.getComputedStyle(gd).display;\n",
       "        if (!display || display === 'none') {{\n",
       "            console.log([gd, 'removed!']);\n",
       "            Plotly.purge(gd);\n",
       "            observer.disconnect();\n",
       "        }}\n",
       "}});\n",
       "\n",
       "// Listen for the removal of the full notebook cells\n",
       "var notebookContainer = gd.closest('#notebook-container');\n",
       "if (notebookContainer) {{\n",
       "    x.observe(notebookContainer, {childList: true});\n",
       "}}\n",
       "\n",
       "// Listen for the clearing of the current output cell\n",
       "var outputEl = gd.closest('.output');\n",
       "if (outputEl) {{\n",
       "    x.observe(outputEl, {childList: true});\n",
       "}}\n",
       "\n",
       "                        })                };                });            </script>        </div>"
      ]
     },
     "metadata": {},
     "output_type": "display_data"
    }
   ],
   "source": [
    "import plotly.express as px\n",
    "\n",
    "fig = px.pie(Edu,names='Class',color='Class',\n",
    "             color_discrete_map={'L':'Red',\n",
    "                                 'M':'Yellow',\n",
    "                                'H':'Green'})\n",
    "fig.show()"
   ]
  },
  {
   "cell_type": "markdown",
   "metadata": {},
   "source": [
    "### Reject Students Data = Bad Students"
   ]
  },
  {
   "cell_type": "code",
   "execution_count": 19,
   "metadata": {},
   "outputs": [
    {
     "data": {
      "text/html": [
       "<div>\n",
       "<style scoped>\n",
       "    .dataframe tbody tr th:only-of-type {\n",
       "        vertical-align: middle;\n",
       "    }\n",
       "\n",
       "    .dataframe tbody tr th {\n",
       "        vertical-align: top;\n",
       "    }\n",
       "\n",
       "    .dataframe thead th {\n",
       "        text-align: right;\n",
       "    }\n",
       "</style>\n",
       "<table border=\"1\" class=\"dataframe\">\n",
       "  <thead>\n",
       "    <tr style=\"text-align: right;\">\n",
       "      <th></th>\n",
       "      <th>gender</th>\n",
       "      <th>NationalITy</th>\n",
       "      <th>PlaceofBirth</th>\n",
       "      <th>StageID</th>\n",
       "      <th>GradeID</th>\n",
       "      <th>SectionID</th>\n",
       "      <th>Topic</th>\n",
       "      <th>Semester</th>\n",
       "      <th>Relation</th>\n",
       "      <th>raisedhands</th>\n",
       "      <th>VisITedResources</th>\n",
       "      <th>AnnouncementsView</th>\n",
       "      <th>Discussion</th>\n",
       "      <th>ParentAnsweringSurvey</th>\n",
       "      <th>ParentschoolSatisfaction</th>\n",
       "      <th>StudentAbsenceDays</th>\n",
       "      <th>Class</th>\n",
       "    </tr>\n",
       "  </thead>\n",
       "  <tbody>\n",
       "    <tr>\n",
       "      <th>10</th>\n",
       "      <td>M</td>\n",
       "      <td>KW</td>\n",
       "      <td>KuwaIT</td>\n",
       "      <td>MiddleSchool</td>\n",
       "      <td>G-07</td>\n",
       "      <td>A</td>\n",
       "      <td>Math</td>\n",
       "      <td>F</td>\n",
       "      <td>Father</td>\n",
       "      <td>50</td>\n",
       "      <td>88</td>\n",
       "      <td>30</td>\n",
       "      <td>80</td>\n",
       "      <td>Yes</td>\n",
       "      <td>Good</td>\n",
       "      <td>Under-7</td>\n",
       "      <td>H</td>\n",
       "    </tr>\n",
       "    <tr>\n",
       "      <th>14</th>\n",
       "      <td>F</td>\n",
       "      <td>KW</td>\n",
       "      <td>KuwaIT</td>\n",
       "      <td>MiddleSchool</td>\n",
       "      <td>G-08</td>\n",
       "      <td>A</td>\n",
       "      <td>Math</td>\n",
       "      <td>F</td>\n",
       "      <td>Mum</td>\n",
       "      <td>62</td>\n",
       "      <td>70</td>\n",
       "      <td>44</td>\n",
       "      <td>60</td>\n",
       "      <td>No</td>\n",
       "      <td>Bad</td>\n",
       "      <td>Above-7</td>\n",
       "      <td>H</td>\n",
       "    </tr>\n",
       "    <tr>\n",
       "      <th>19</th>\n",
       "      <td>M</td>\n",
       "      <td>KW</td>\n",
       "      <td>KuwaIT</td>\n",
       "      <td>MiddleSchool</td>\n",
       "      <td>G-07</td>\n",
       "      <td>B</td>\n",
       "      <td>IT</td>\n",
       "      <td>F</td>\n",
       "      <td>Mum</td>\n",
       "      <td>70</td>\n",
       "      <td>50</td>\n",
       "      <td>40</td>\n",
       "      <td>99</td>\n",
       "      <td>Yes</td>\n",
       "      <td>Good</td>\n",
       "      <td>Under-7</td>\n",
       "      <td>H</td>\n",
       "    </tr>\n",
       "    <tr>\n",
       "      <th>30</th>\n",
       "      <td>F</td>\n",
       "      <td>KW</td>\n",
       "      <td>KuwaIT</td>\n",
       "      <td>MiddleSchool</td>\n",
       "      <td>G-08</td>\n",
       "      <td>A</td>\n",
       "      <td>Arabic</td>\n",
       "      <td>F</td>\n",
       "      <td>Father</td>\n",
       "      <td>35</td>\n",
       "      <td>80</td>\n",
       "      <td>50</td>\n",
       "      <td>70</td>\n",
       "      <td>Yes</td>\n",
       "      <td>Good</td>\n",
       "      <td>Under-7</td>\n",
       "      <td>H</td>\n",
       "    </tr>\n",
       "    <tr>\n",
       "      <th>47</th>\n",
       "      <td>F</td>\n",
       "      <td>KW</td>\n",
       "      <td>KuwaIT</td>\n",
       "      <td>HighSchool</td>\n",
       "      <td>G-12</td>\n",
       "      <td>A</td>\n",
       "      <td>English</td>\n",
       "      <td>F</td>\n",
       "      <td>Mum</td>\n",
       "      <td>70</td>\n",
       "      <td>4</td>\n",
       "      <td>39</td>\n",
       "      <td>90</td>\n",
       "      <td>Yes</td>\n",
       "      <td>Good</td>\n",
       "      <td>Under-7</td>\n",
       "      <td>H</td>\n",
       "    </tr>\n",
       "    <tr>\n",
       "      <th>...</th>\n",
       "      <td>...</td>\n",
       "      <td>...</td>\n",
       "      <td>...</td>\n",
       "      <td>...</td>\n",
       "      <td>...</td>\n",
       "      <td>...</td>\n",
       "      <td>...</td>\n",
       "      <td>...</td>\n",
       "      <td>...</td>\n",
       "      <td>...</td>\n",
       "      <td>...</td>\n",
       "      <td>...</td>\n",
       "      <td>...</td>\n",
       "      <td>...</td>\n",
       "      <td>...</td>\n",
       "      <td>...</td>\n",
       "      <td>...</td>\n",
       "    </tr>\n",
       "    <tr>\n",
       "      <th>459</th>\n",
       "      <td>M</td>\n",
       "      <td>Iraq</td>\n",
       "      <td>Iraq</td>\n",
       "      <td>MiddleSchool</td>\n",
       "      <td>G-08</td>\n",
       "      <td>A</td>\n",
       "      <td>Chemistry</td>\n",
       "      <td>S</td>\n",
       "      <td>Father</td>\n",
       "      <td>80</td>\n",
       "      <td>90</td>\n",
       "      <td>80</td>\n",
       "      <td>83</td>\n",
       "      <td>Yes</td>\n",
       "      <td>Good</td>\n",
       "      <td>Under-7</td>\n",
       "      <td>H</td>\n",
       "    </tr>\n",
       "    <tr>\n",
       "      <th>464</th>\n",
       "      <td>F</td>\n",
       "      <td>Jordan</td>\n",
       "      <td>Jordan</td>\n",
       "      <td>MiddleSchool</td>\n",
       "      <td>G-08</td>\n",
       "      <td>A</td>\n",
       "      <td>Chemistry</td>\n",
       "      <td>F</td>\n",
       "      <td>Mum</td>\n",
       "      <td>85</td>\n",
       "      <td>99</td>\n",
       "      <td>42</td>\n",
       "      <td>90</td>\n",
       "      <td>Yes</td>\n",
       "      <td>Good</td>\n",
       "      <td>Under-7</td>\n",
       "      <td>H</td>\n",
       "    </tr>\n",
       "    <tr>\n",
       "      <th>465</th>\n",
       "      <td>F</td>\n",
       "      <td>Jordan</td>\n",
       "      <td>Jordan</td>\n",
       "      <td>MiddleSchool</td>\n",
       "      <td>G-08</td>\n",
       "      <td>A</td>\n",
       "      <td>Chemistry</td>\n",
       "      <td>S</td>\n",
       "      <td>Mum</td>\n",
       "      <td>89</td>\n",
       "      <td>96</td>\n",
       "      <td>45</td>\n",
       "      <td>92</td>\n",
       "      <td>Yes</td>\n",
       "      <td>Good</td>\n",
       "      <td>Under-7</td>\n",
       "      <td>H</td>\n",
       "    </tr>\n",
       "    <tr>\n",
       "      <th>466</th>\n",
       "      <td>F</td>\n",
       "      <td>Jordan</td>\n",
       "      <td>Jordan</td>\n",
       "      <td>MiddleSchool</td>\n",
       "      <td>G-08</td>\n",
       "      <td>A</td>\n",
       "      <td>Geology</td>\n",
       "      <td>F</td>\n",
       "      <td>Mum</td>\n",
       "      <td>80</td>\n",
       "      <td>82</td>\n",
       "      <td>64</td>\n",
       "      <td>58</td>\n",
       "      <td>Yes</td>\n",
       "      <td>Good</td>\n",
       "      <td>Under-7</td>\n",
       "      <td>H</td>\n",
       "    </tr>\n",
       "    <tr>\n",
       "      <th>467</th>\n",
       "      <td>F</td>\n",
       "      <td>Jordan</td>\n",
       "      <td>Jordan</td>\n",
       "      <td>MiddleSchool</td>\n",
       "      <td>G-08</td>\n",
       "      <td>A</td>\n",
       "      <td>Geology</td>\n",
       "      <td>S</td>\n",
       "      <td>Mum</td>\n",
       "      <td>87</td>\n",
       "      <td>93</td>\n",
       "      <td>63</td>\n",
       "      <td>60</td>\n",
       "      <td>Yes</td>\n",
       "      <td>Good</td>\n",
       "      <td>Under-7</td>\n",
       "      <td>H</td>\n",
       "    </tr>\n",
       "  </tbody>\n",
       "</table>\n",
       "<p>142 rows × 17 columns</p>\n",
       "</div>"
      ],
      "text/plain": [
       "    gender NationalITy PlaceofBirth       StageID GradeID SectionID  \\\n",
       "10       M          KW       KuwaIT  MiddleSchool    G-07         A   \n",
       "14       F          KW       KuwaIT  MiddleSchool    G-08         A   \n",
       "19       M          KW       KuwaIT  MiddleSchool    G-07         B   \n",
       "30       F          KW       KuwaIT  MiddleSchool    G-08         A   \n",
       "47       F          KW       KuwaIT    HighSchool    G-12         A   \n",
       "..     ...         ...          ...           ...     ...       ...   \n",
       "459      M        Iraq         Iraq  MiddleSchool    G-08         A   \n",
       "464      F      Jordan       Jordan  MiddleSchool    G-08         A   \n",
       "465      F      Jordan       Jordan  MiddleSchool    G-08         A   \n",
       "466      F      Jordan       Jordan  MiddleSchool    G-08         A   \n",
       "467      F      Jordan       Jordan  MiddleSchool    G-08         A   \n",
       "\n",
       "         Topic Semester Relation  raisedhands  VisITedResources  \\\n",
       "10        Math        F   Father           50                88   \n",
       "14        Math        F      Mum           62                70   \n",
       "19          IT        F      Mum           70                50   \n",
       "30      Arabic        F   Father           35                80   \n",
       "47     English        F      Mum           70                 4   \n",
       "..         ...      ...      ...          ...               ...   \n",
       "459  Chemistry        S   Father           80                90   \n",
       "464  Chemistry        F      Mum           85                99   \n",
       "465  Chemistry        S      Mum           89                96   \n",
       "466    Geology        F      Mum           80                82   \n",
       "467    Geology        S      Mum           87                93   \n",
       "\n",
       "     AnnouncementsView  Discussion ParentAnsweringSurvey  \\\n",
       "10                  30          80                   Yes   \n",
       "14                  44          60                    No   \n",
       "19                  40          99                   Yes   \n",
       "30                  50          70                   Yes   \n",
       "47                  39          90                   Yes   \n",
       "..                 ...         ...                   ...   \n",
       "459                 80          83                   Yes   \n",
       "464                 42          90                   Yes   \n",
       "465                 45          92                   Yes   \n",
       "466                 64          58                   Yes   \n",
       "467                 63          60                   Yes   \n",
       "\n",
       "    ParentschoolSatisfaction StudentAbsenceDays Class  \n",
       "10                      Good            Under-7     H  \n",
       "14                       Bad            Above-7     H  \n",
       "19                      Good            Under-7     H  \n",
       "30                      Good            Under-7     H  \n",
       "47                      Good            Under-7     H  \n",
       "..                       ...                ...   ...  \n",
       "459                     Good            Under-7     H  \n",
       "464                     Good            Under-7     H  \n",
       "465                     Good            Under-7     H  \n",
       "466                     Good            Under-7     H  \n",
       "467                     Good            Under-7     H  \n",
       "\n",
       "[142 rows x 17 columns]"
      ]
     },
     "execution_count": 19,
     "metadata": {},
     "output_type": "execute_result"
    }
   ],
   "source": [
    "Edu_Yes= Edu[Edu[\"Class\"] == \"H\"]  \n",
    "\n",
    "Edu_Yes"
   ]
  },
  {
   "cell_type": "code",
   "execution_count": 20,
   "metadata": {},
   "outputs": [
    {
     "data": {
      "application/vnd.plotly.v1+json": {
       "config": {
        "plotlyServerURL": "https://plot.ly"
       },
       "data": [
        {
         "branchvalues": "total",
         "domain": {
          "x": [
           0,
           1
          ],
          "y": [
           0,
           1
          ]
         },
         "hovertemplate": "labels=%{label}<br>count=%{value}<br>parent=%{parent}<br>id=%{id}<extra></extra>",
         "ids": [
          "M/lowerlevel/IT/F/Above-7/H",
          "F/MiddleSchool/Math/F/Above-7/H",
          "F/MiddleSchool/Arabic/S/Above-7/H",
          "M/HighSchool/Math/S/Above-7/H",
          "F/MiddleSchool/Arabic/F/Under-7/H",
          "F/lowerlevel/Arabic/F/Under-7/H",
          "M/lowerlevel/Arabic/F/Under-7/H",
          "F/MiddleSchool/Biology/F/Under-7/H",
          "M/MiddleSchool/Biology/F/Under-7/H",
          "F/MiddleSchool/Chemistry/F/Under-7/H",
          "M/MiddleSchool/Chemistry/F/Under-7/H",
          "F/HighSchool/English/F/Under-7/H",
          "F/MiddleSchool/English/F/Under-7/H",
          "M/MiddleSchool/English/F/Under-7/H",
          "F/lowerlevel/French/F/Under-7/H",
          "M/lowerlevel/French/F/Under-7/H",
          "F/MiddleSchool/Geology/F/Under-7/H",
          "M/MiddleSchool/Geology/F/Under-7/H",
          "M/MiddleSchool/History/F/Under-7/H",
          "F/HighSchool/IT/F/Under-7/H",
          "M/HighSchool/IT/F/Under-7/H",
          "M/MiddleSchool/IT/F/Under-7/H",
          "F/lowerlevel/IT/F/Under-7/H",
          "M/lowerlevel/IT/F/Under-7/H",
          "F/MiddleSchool/Math/F/Under-7/H",
          "M/MiddleSchool/Math/F/Under-7/H",
          "F/MiddleSchool/Quran/F/Under-7/H",
          "F/HighSchool/Science/F/Under-7/H",
          "F/lowerlevel/Science/F/Under-7/H",
          "M/lowerlevel/Science/F/Under-7/H",
          "F/MiddleSchool/Arabic/S/Under-7/H",
          "M/MiddleSchool/Arabic/S/Under-7/H",
          "F/lowerlevel/Arabic/S/Under-7/H",
          "M/lowerlevel/Arabic/S/Under-7/H",
          "F/MiddleSchool/Biology/S/Under-7/H",
          "M/MiddleSchool/Biology/S/Under-7/H",
          "F/MiddleSchool/Chemistry/S/Under-7/H",
          "M/MiddleSchool/Chemistry/S/Under-7/H",
          "F/MiddleSchool/English/S/Under-7/H",
          "M/MiddleSchool/English/S/Under-7/H",
          "M/lowerlevel/English/S/Under-7/H",
          "F/lowerlevel/French/S/Under-7/H",
          "M/lowerlevel/French/S/Under-7/H",
          "F/MiddleSchool/Geology/S/Under-7/H",
          "M/MiddleSchool/Geology/S/Under-7/H",
          "M/MiddleSchool/History/S/Under-7/H",
          "F/lowerlevel/History/S/Under-7/H",
          "M/lowerlevel/History/S/Under-7/H",
          "M/MiddleSchool/IT/S/Under-7/H",
          "M/HighSchool/Math/S/Under-7/H",
          "M/lowerlevel/Math/S/Under-7/H",
          "F/HighSchool/Quran/S/Under-7/H",
          "M/HighSchool/Quran/S/Under-7/H",
          "F/MiddleSchool/Quran/S/Under-7/H",
          "M/MiddleSchool/Quran/S/Under-7/H",
          "F/HighSchool/Science/S/Under-7/H",
          "F/MiddleSchool/Science/S/Under-7/H",
          "M/MiddleSchool/Science/S/Under-7/H",
          "F/lowerlevel/Science/S/Under-7/H",
          "M/lowerlevel/Science/S/Under-7/H",
          "M/MiddleSchool/Spanish/S/Under-7/H",
          "M/lowerlevel/IT/F/Above-7",
          "F/MiddleSchool/Math/F/Above-7",
          "F/MiddleSchool/Arabic/S/Above-7",
          "M/HighSchool/Math/S/Above-7",
          "F/MiddleSchool/Arabic/F/Under-7",
          "F/lowerlevel/Arabic/F/Under-7",
          "M/lowerlevel/Arabic/F/Under-7",
          "F/MiddleSchool/Biology/F/Under-7",
          "M/MiddleSchool/Biology/F/Under-7",
          "F/MiddleSchool/Chemistry/F/Under-7",
          "M/MiddleSchool/Chemistry/F/Under-7",
          "F/HighSchool/English/F/Under-7",
          "F/MiddleSchool/English/F/Under-7",
          "M/MiddleSchool/English/F/Under-7",
          "F/lowerlevel/French/F/Under-7",
          "M/lowerlevel/French/F/Under-7",
          "F/MiddleSchool/Geology/F/Under-7",
          "M/MiddleSchool/Geology/F/Under-7",
          "M/MiddleSchool/History/F/Under-7",
          "F/HighSchool/IT/F/Under-7",
          "M/HighSchool/IT/F/Under-7",
          "M/MiddleSchool/IT/F/Under-7",
          "F/lowerlevel/IT/F/Under-7",
          "M/lowerlevel/IT/F/Under-7",
          "F/MiddleSchool/Math/F/Under-7",
          "M/MiddleSchool/Math/F/Under-7",
          "F/MiddleSchool/Quran/F/Under-7",
          "F/HighSchool/Science/F/Under-7",
          "F/lowerlevel/Science/F/Under-7",
          "M/lowerlevel/Science/F/Under-7",
          "F/MiddleSchool/Arabic/S/Under-7",
          "M/MiddleSchool/Arabic/S/Under-7",
          "F/lowerlevel/Arabic/S/Under-7",
          "M/lowerlevel/Arabic/S/Under-7",
          "F/MiddleSchool/Biology/S/Under-7",
          "M/MiddleSchool/Biology/S/Under-7",
          "F/MiddleSchool/Chemistry/S/Under-7",
          "M/MiddleSchool/Chemistry/S/Under-7",
          "F/MiddleSchool/English/S/Under-7",
          "M/MiddleSchool/English/S/Under-7",
          "M/lowerlevel/English/S/Under-7",
          "F/lowerlevel/French/S/Under-7",
          "M/lowerlevel/French/S/Under-7",
          "F/MiddleSchool/Geology/S/Under-7",
          "M/MiddleSchool/Geology/S/Under-7",
          "M/MiddleSchool/History/S/Under-7",
          "F/lowerlevel/History/S/Under-7",
          "M/lowerlevel/History/S/Under-7",
          "M/MiddleSchool/IT/S/Under-7",
          "M/HighSchool/Math/S/Under-7",
          "M/lowerlevel/Math/S/Under-7",
          "F/HighSchool/Quran/S/Under-7",
          "M/HighSchool/Quran/S/Under-7",
          "F/MiddleSchool/Quran/S/Under-7",
          "M/MiddleSchool/Quran/S/Under-7",
          "F/HighSchool/Science/S/Under-7",
          "F/MiddleSchool/Science/S/Under-7",
          "M/MiddleSchool/Science/S/Under-7",
          "F/lowerlevel/Science/S/Under-7",
          "M/lowerlevel/Science/S/Under-7",
          "M/MiddleSchool/Spanish/S/Under-7",
          "F/MiddleSchool/Arabic/F",
          "F/lowerlevel/Arabic/F",
          "M/lowerlevel/Arabic/F",
          "F/MiddleSchool/Biology/F",
          "M/MiddleSchool/Biology/F",
          "F/MiddleSchool/Chemistry/F",
          "M/MiddleSchool/Chemistry/F",
          "F/HighSchool/English/F",
          "F/MiddleSchool/English/F",
          "M/MiddleSchool/English/F",
          "F/lowerlevel/French/F",
          "M/lowerlevel/French/F",
          "F/MiddleSchool/Geology/F",
          "M/MiddleSchool/Geology/F",
          "M/MiddleSchool/History/F",
          "F/HighSchool/IT/F",
          "M/HighSchool/IT/F",
          "M/MiddleSchool/IT/F",
          "F/lowerlevel/IT/F",
          "M/lowerlevel/IT/F",
          "F/MiddleSchool/Math/F",
          "M/MiddleSchool/Math/F",
          "F/MiddleSchool/Quran/F",
          "F/HighSchool/Science/F",
          "F/lowerlevel/Science/F",
          "M/lowerlevel/Science/F",
          "F/MiddleSchool/Arabic/S",
          "M/MiddleSchool/Arabic/S",
          "F/lowerlevel/Arabic/S",
          "M/lowerlevel/Arabic/S",
          "F/MiddleSchool/Biology/S",
          "M/MiddleSchool/Biology/S",
          "F/MiddleSchool/Chemistry/S",
          "M/MiddleSchool/Chemistry/S",
          "F/MiddleSchool/English/S",
          "M/MiddleSchool/English/S",
          "M/lowerlevel/English/S",
          "F/lowerlevel/French/S",
          "M/lowerlevel/French/S",
          "F/MiddleSchool/Geology/S",
          "M/MiddleSchool/Geology/S",
          "M/MiddleSchool/History/S",
          "F/lowerlevel/History/S",
          "M/lowerlevel/History/S",
          "M/MiddleSchool/IT/S",
          "M/HighSchool/Math/S",
          "M/lowerlevel/Math/S",
          "F/HighSchool/Quran/S",
          "M/HighSchool/Quran/S",
          "F/MiddleSchool/Quran/S",
          "M/MiddleSchool/Quran/S",
          "F/HighSchool/Science/S",
          "F/MiddleSchool/Science/S",
          "M/MiddleSchool/Science/S",
          "F/lowerlevel/Science/S",
          "M/lowerlevel/Science/S",
          "M/MiddleSchool/Spanish/S",
          "F/MiddleSchool/Arabic",
          "M/MiddleSchool/Arabic",
          "F/lowerlevel/Arabic",
          "M/lowerlevel/Arabic",
          "F/MiddleSchool/Biology",
          "M/MiddleSchool/Biology",
          "F/MiddleSchool/Chemistry",
          "M/MiddleSchool/Chemistry",
          "F/HighSchool/English",
          "F/MiddleSchool/English",
          "M/MiddleSchool/English",
          "M/lowerlevel/English",
          "F/lowerlevel/French",
          "M/lowerlevel/French",
          "F/MiddleSchool/Geology",
          "M/MiddleSchool/Geology",
          "M/MiddleSchool/History",
          "F/lowerlevel/History",
          "M/lowerlevel/History",
          "F/HighSchool/IT",
          "M/HighSchool/IT",
          "M/MiddleSchool/IT",
          "F/lowerlevel/IT",
          "M/lowerlevel/IT",
          "M/HighSchool/Math",
          "F/MiddleSchool/Math",
          "M/MiddleSchool/Math",
          "M/lowerlevel/Math",
          "F/HighSchool/Quran",
          "M/HighSchool/Quran",
          "F/MiddleSchool/Quran",
          "M/MiddleSchool/Quran",
          "F/HighSchool/Science",
          "F/MiddleSchool/Science",
          "M/MiddleSchool/Science",
          "F/lowerlevel/Science",
          "M/lowerlevel/Science",
          "M/MiddleSchool/Spanish",
          "F/HighSchool",
          "M/HighSchool",
          "F/MiddleSchool",
          "M/MiddleSchool",
          "F/lowerlevel",
          "M/lowerlevel",
          "F",
          "M"
         ],
         "labels": [
          "H",
          "H",
          "H",
          "H",
          "H",
          "H",
          "H",
          "H",
          "H",
          "H",
          "H",
          "H",
          "H",
          "H",
          "H",
          "H",
          "H",
          "H",
          "H",
          "H",
          "H",
          "H",
          "H",
          "H",
          "H",
          "H",
          "H",
          "H",
          "H",
          "H",
          "H",
          "H",
          "H",
          "H",
          "H",
          "H",
          "H",
          "H",
          "H",
          "H",
          "H",
          "H",
          "H",
          "H",
          "H",
          "H",
          "H",
          "H",
          "H",
          "H",
          "H",
          "H",
          "H",
          "H",
          "H",
          "H",
          "H",
          "H",
          "H",
          "H",
          "H",
          "Above-7",
          "Above-7",
          "Above-7",
          "Above-7",
          "Under-7",
          "Under-7",
          "Under-7",
          "Under-7",
          "Under-7",
          "Under-7",
          "Under-7",
          "Under-7",
          "Under-7",
          "Under-7",
          "Under-7",
          "Under-7",
          "Under-7",
          "Under-7",
          "Under-7",
          "Under-7",
          "Under-7",
          "Under-7",
          "Under-7",
          "Under-7",
          "Under-7",
          "Under-7",
          "Under-7",
          "Under-7",
          "Under-7",
          "Under-7",
          "Under-7",
          "Under-7",
          "Under-7",
          "Under-7",
          "Under-7",
          "Under-7",
          "Under-7",
          "Under-7",
          "Under-7",
          "Under-7",
          "Under-7",
          "Under-7",
          "Under-7",
          "Under-7",
          "Under-7",
          "Under-7",
          "Under-7",
          "Under-7",
          "Under-7",
          "Under-7",
          "Under-7",
          "Under-7",
          "Under-7",
          "Under-7",
          "Under-7",
          "Under-7",
          "Under-7",
          "Under-7",
          "Under-7",
          "Under-7",
          "Under-7",
          "F",
          "F",
          "F",
          "F",
          "F",
          "F",
          "F",
          "F",
          "F",
          "F",
          "F",
          "F",
          "F",
          "F",
          "F",
          "F",
          "F",
          "F",
          "F",
          "F",
          "F",
          "F",
          "F",
          "F",
          "F",
          "F",
          "S",
          "S",
          "S",
          "S",
          "S",
          "S",
          "S",
          "S",
          "S",
          "S",
          "S",
          "S",
          "S",
          "S",
          "S",
          "S",
          "S",
          "S",
          "S",
          "S",
          "S",
          "S",
          "S",
          "S",
          "S",
          "S",
          "S",
          "S",
          "S",
          "S",
          "S",
          "Arabic",
          "Arabic",
          "Arabic",
          "Arabic",
          "Biology",
          "Biology",
          "Chemistry",
          "Chemistry",
          "English",
          "English",
          "English",
          "English",
          "French",
          "French",
          "Geology",
          "Geology",
          "History",
          "History",
          "History",
          "IT",
          "IT",
          "IT",
          "IT",
          "IT",
          "Math",
          "Math",
          "Math",
          "Math",
          "Quran",
          "Quran",
          "Quran",
          "Quran",
          "Science",
          "Science",
          "Science",
          "Science",
          "Science",
          "Spanish",
          "HighSchool",
          "HighSchool",
          "MiddleSchool",
          "MiddleSchool",
          "lowerlevel",
          "lowerlevel",
          "F",
          "M"
         ],
         "name": "",
         "parents": [
          "M/lowerlevel/IT/F/Above-7",
          "F/MiddleSchool/Math/F/Above-7",
          "F/MiddleSchool/Arabic/S/Above-7",
          "M/HighSchool/Math/S/Above-7",
          "F/MiddleSchool/Arabic/F/Under-7",
          "F/lowerlevel/Arabic/F/Under-7",
          "M/lowerlevel/Arabic/F/Under-7",
          "F/MiddleSchool/Biology/F/Under-7",
          "M/MiddleSchool/Biology/F/Under-7",
          "F/MiddleSchool/Chemistry/F/Under-7",
          "M/MiddleSchool/Chemistry/F/Under-7",
          "F/HighSchool/English/F/Under-7",
          "F/MiddleSchool/English/F/Under-7",
          "M/MiddleSchool/English/F/Under-7",
          "F/lowerlevel/French/F/Under-7",
          "M/lowerlevel/French/F/Under-7",
          "F/MiddleSchool/Geology/F/Under-7",
          "M/MiddleSchool/Geology/F/Under-7",
          "M/MiddleSchool/History/F/Under-7",
          "F/HighSchool/IT/F/Under-7",
          "M/HighSchool/IT/F/Under-7",
          "M/MiddleSchool/IT/F/Under-7",
          "F/lowerlevel/IT/F/Under-7",
          "M/lowerlevel/IT/F/Under-7",
          "F/MiddleSchool/Math/F/Under-7",
          "M/MiddleSchool/Math/F/Under-7",
          "F/MiddleSchool/Quran/F/Under-7",
          "F/HighSchool/Science/F/Under-7",
          "F/lowerlevel/Science/F/Under-7",
          "M/lowerlevel/Science/F/Under-7",
          "F/MiddleSchool/Arabic/S/Under-7",
          "M/MiddleSchool/Arabic/S/Under-7",
          "F/lowerlevel/Arabic/S/Under-7",
          "M/lowerlevel/Arabic/S/Under-7",
          "F/MiddleSchool/Biology/S/Under-7",
          "M/MiddleSchool/Biology/S/Under-7",
          "F/MiddleSchool/Chemistry/S/Under-7",
          "M/MiddleSchool/Chemistry/S/Under-7",
          "F/MiddleSchool/English/S/Under-7",
          "M/MiddleSchool/English/S/Under-7",
          "M/lowerlevel/English/S/Under-7",
          "F/lowerlevel/French/S/Under-7",
          "M/lowerlevel/French/S/Under-7",
          "F/MiddleSchool/Geology/S/Under-7",
          "M/MiddleSchool/Geology/S/Under-7",
          "M/MiddleSchool/History/S/Under-7",
          "F/lowerlevel/History/S/Under-7",
          "M/lowerlevel/History/S/Under-7",
          "M/MiddleSchool/IT/S/Under-7",
          "M/HighSchool/Math/S/Under-7",
          "M/lowerlevel/Math/S/Under-7",
          "F/HighSchool/Quran/S/Under-7",
          "M/HighSchool/Quran/S/Under-7",
          "F/MiddleSchool/Quran/S/Under-7",
          "M/MiddleSchool/Quran/S/Under-7",
          "F/HighSchool/Science/S/Under-7",
          "F/MiddleSchool/Science/S/Under-7",
          "M/MiddleSchool/Science/S/Under-7",
          "F/lowerlevel/Science/S/Under-7",
          "M/lowerlevel/Science/S/Under-7",
          "M/MiddleSchool/Spanish/S/Under-7",
          "M/lowerlevel/IT/F",
          "F/MiddleSchool/Math/F",
          "F/MiddleSchool/Arabic/S",
          "M/HighSchool/Math/S",
          "F/MiddleSchool/Arabic/F",
          "F/lowerlevel/Arabic/F",
          "M/lowerlevel/Arabic/F",
          "F/MiddleSchool/Biology/F",
          "M/MiddleSchool/Biology/F",
          "F/MiddleSchool/Chemistry/F",
          "M/MiddleSchool/Chemistry/F",
          "F/HighSchool/English/F",
          "F/MiddleSchool/English/F",
          "M/MiddleSchool/English/F",
          "F/lowerlevel/French/F",
          "M/lowerlevel/French/F",
          "F/MiddleSchool/Geology/F",
          "M/MiddleSchool/Geology/F",
          "M/MiddleSchool/History/F",
          "F/HighSchool/IT/F",
          "M/HighSchool/IT/F",
          "M/MiddleSchool/IT/F",
          "F/lowerlevel/IT/F",
          "M/lowerlevel/IT/F",
          "F/MiddleSchool/Math/F",
          "M/MiddleSchool/Math/F",
          "F/MiddleSchool/Quran/F",
          "F/HighSchool/Science/F",
          "F/lowerlevel/Science/F",
          "M/lowerlevel/Science/F",
          "F/MiddleSchool/Arabic/S",
          "M/MiddleSchool/Arabic/S",
          "F/lowerlevel/Arabic/S",
          "M/lowerlevel/Arabic/S",
          "F/MiddleSchool/Biology/S",
          "M/MiddleSchool/Biology/S",
          "F/MiddleSchool/Chemistry/S",
          "M/MiddleSchool/Chemistry/S",
          "F/MiddleSchool/English/S",
          "M/MiddleSchool/English/S",
          "M/lowerlevel/English/S",
          "F/lowerlevel/French/S",
          "M/lowerlevel/French/S",
          "F/MiddleSchool/Geology/S",
          "M/MiddleSchool/Geology/S",
          "M/MiddleSchool/History/S",
          "F/lowerlevel/History/S",
          "M/lowerlevel/History/S",
          "M/MiddleSchool/IT/S",
          "M/HighSchool/Math/S",
          "M/lowerlevel/Math/S",
          "F/HighSchool/Quran/S",
          "M/HighSchool/Quran/S",
          "F/MiddleSchool/Quran/S",
          "M/MiddleSchool/Quran/S",
          "F/HighSchool/Science/S",
          "F/MiddleSchool/Science/S",
          "M/MiddleSchool/Science/S",
          "F/lowerlevel/Science/S",
          "M/lowerlevel/Science/S",
          "M/MiddleSchool/Spanish/S",
          "F/MiddleSchool/Arabic",
          "F/lowerlevel/Arabic",
          "M/lowerlevel/Arabic",
          "F/MiddleSchool/Biology",
          "M/MiddleSchool/Biology",
          "F/MiddleSchool/Chemistry",
          "M/MiddleSchool/Chemistry",
          "F/HighSchool/English",
          "F/MiddleSchool/English",
          "M/MiddleSchool/English",
          "F/lowerlevel/French",
          "M/lowerlevel/French",
          "F/MiddleSchool/Geology",
          "M/MiddleSchool/Geology",
          "M/MiddleSchool/History",
          "F/HighSchool/IT",
          "M/HighSchool/IT",
          "M/MiddleSchool/IT",
          "F/lowerlevel/IT",
          "M/lowerlevel/IT",
          "F/MiddleSchool/Math",
          "M/MiddleSchool/Math",
          "F/MiddleSchool/Quran",
          "F/HighSchool/Science",
          "F/lowerlevel/Science",
          "M/lowerlevel/Science",
          "F/MiddleSchool/Arabic",
          "M/MiddleSchool/Arabic",
          "F/lowerlevel/Arabic",
          "M/lowerlevel/Arabic",
          "F/MiddleSchool/Biology",
          "M/MiddleSchool/Biology",
          "F/MiddleSchool/Chemistry",
          "M/MiddleSchool/Chemistry",
          "F/MiddleSchool/English",
          "M/MiddleSchool/English",
          "M/lowerlevel/English",
          "F/lowerlevel/French",
          "M/lowerlevel/French",
          "F/MiddleSchool/Geology",
          "M/MiddleSchool/Geology",
          "M/MiddleSchool/History",
          "F/lowerlevel/History",
          "M/lowerlevel/History",
          "M/MiddleSchool/IT",
          "M/HighSchool/Math",
          "M/lowerlevel/Math",
          "F/HighSchool/Quran",
          "M/HighSchool/Quran",
          "F/MiddleSchool/Quran",
          "M/MiddleSchool/Quran",
          "F/HighSchool/Science",
          "F/MiddleSchool/Science",
          "M/MiddleSchool/Science",
          "F/lowerlevel/Science",
          "M/lowerlevel/Science",
          "M/MiddleSchool/Spanish",
          "F/MiddleSchool",
          "M/MiddleSchool",
          "F/lowerlevel",
          "M/lowerlevel",
          "F/MiddleSchool",
          "M/MiddleSchool",
          "F/MiddleSchool",
          "M/MiddleSchool",
          "F/HighSchool",
          "F/MiddleSchool",
          "M/MiddleSchool",
          "M/lowerlevel",
          "F/lowerlevel",
          "M/lowerlevel",
          "F/MiddleSchool",
          "M/MiddleSchool",
          "M/MiddleSchool",
          "F/lowerlevel",
          "M/lowerlevel",
          "F/HighSchool",
          "M/HighSchool",
          "M/MiddleSchool",
          "F/lowerlevel",
          "M/lowerlevel",
          "M/HighSchool",
          "F/MiddleSchool",
          "M/MiddleSchool",
          "M/lowerlevel",
          "F/HighSchool",
          "M/HighSchool",
          "F/MiddleSchool",
          "M/MiddleSchool",
          "F/HighSchool",
          "F/MiddleSchool",
          "M/MiddleSchool",
          "F/lowerlevel",
          "M/lowerlevel",
          "M/MiddleSchool",
          "F",
          "M",
          "F",
          "M",
          "F",
          "M",
          "",
          ""
         ],
         "type": "sunburst",
         "values": [
          1,
          1,
          1,
          1,
          1,
          2,
          3,
          3,
          5,
          4,
          1,
          3,
          4,
          2,
          4,
          2,
          2,
          1,
          1,
          1,
          1,
          1,
          6,
          4,
          1,
          1,
          1,
          1,
          4,
          1,
          1,
          6,
          2,
          3,
          3,
          5,
          4,
          1,
          4,
          3,
          1,
          8,
          6,
          2,
          1,
          1,
          1,
          1,
          1,
          1,
          1,
          1,
          1,
          3,
          2,
          1,
          2,
          2,
          4,
          1,
          5,
          1,
          1,
          1,
          1,
          1,
          2,
          3,
          3,
          5,
          4,
          1,
          3,
          4,
          2,
          4,
          2,
          2,
          1,
          1,
          1,
          1,
          1,
          6,
          4,
          1,
          1,
          1,
          1,
          4,
          1,
          1,
          6,
          2,
          3,
          3,
          5,
          4,
          1,
          4,
          3,
          1,
          8,
          6,
          2,
          1,
          1,
          1,
          1,
          1,
          1,
          1,
          1,
          1,
          3,
          2,
          1,
          2,
          2,
          4,
          1,
          5,
          1,
          2,
          3,
          3,
          5,
          4,
          1,
          3,
          4,
          2,
          4,
          2,
          2,
          1,
          1,
          1,
          1,
          1,
          6,
          5,
          2,
          1,
          1,
          1,
          4,
          1,
          2,
          6,
          2,
          3,
          3,
          5,
          4,
          1,
          4,
          3,
          1,
          8,
          6,
          2,
          1,
          1,
          1,
          1,
          1,
          2,
          1,
          1,
          1,
          3,
          2,
          1,
          2,
          2,
          4,
          1,
          5,
          3,
          6,
          4,
          6,
          6,
          10,
          8,
          2,
          3,
          8,
          5,
          1,
          12,
          8,
          4,
          2,
          2,
          1,
          1,
          1,
          1,
          2,
          6,
          5,
          2,
          2,
          1,
          1,
          1,
          1,
          4,
          2,
          2,
          2,
          2,
          8,
          2,
          5,
          7,
          4,
          37,
          39,
          31,
          24,
          75,
          67
         ]
        }
       ],
       "layout": {
        "legend": {
         "tracegroupgap": 0
        },
        "margin": {
         "t": 60
        },
        "template": {
         "data": {
          "bar": [
           {
            "error_x": {
             "color": "#2a3f5f"
            },
            "error_y": {
             "color": "#2a3f5f"
            },
            "marker": {
             "line": {
              "color": "#E5ECF6",
              "width": 0.5
             },
             "pattern": {
              "fillmode": "overlay",
              "size": 10,
              "solidity": 0.2
             }
            },
            "type": "bar"
           }
          ],
          "barpolar": [
           {
            "marker": {
             "line": {
              "color": "#E5ECF6",
              "width": 0.5
             },
             "pattern": {
              "fillmode": "overlay",
              "size": 10,
              "solidity": 0.2
             }
            },
            "type": "barpolar"
           }
          ],
          "carpet": [
           {
            "aaxis": {
             "endlinecolor": "#2a3f5f",
             "gridcolor": "white",
             "linecolor": "white",
             "minorgridcolor": "white",
             "startlinecolor": "#2a3f5f"
            },
            "baxis": {
             "endlinecolor": "#2a3f5f",
             "gridcolor": "white",
             "linecolor": "white",
             "minorgridcolor": "white",
             "startlinecolor": "#2a3f5f"
            },
            "type": "carpet"
           }
          ],
          "choropleth": [
           {
            "colorbar": {
             "outlinewidth": 0,
             "ticks": ""
            },
            "type": "choropleth"
           }
          ],
          "contour": [
           {
            "colorbar": {
             "outlinewidth": 0,
             "ticks": ""
            },
            "colorscale": [
             [
              0,
              "#0d0887"
             ],
             [
              0.1111111111111111,
              "#46039f"
             ],
             [
              0.2222222222222222,
              "#7201a8"
             ],
             [
              0.3333333333333333,
              "#9c179e"
             ],
             [
              0.4444444444444444,
              "#bd3786"
             ],
             [
              0.5555555555555556,
              "#d8576b"
             ],
             [
              0.6666666666666666,
              "#ed7953"
             ],
             [
              0.7777777777777778,
              "#fb9f3a"
             ],
             [
              0.8888888888888888,
              "#fdca26"
             ],
             [
              1,
              "#f0f921"
             ]
            ],
            "type": "contour"
           }
          ],
          "contourcarpet": [
           {
            "colorbar": {
             "outlinewidth": 0,
             "ticks": ""
            },
            "type": "contourcarpet"
           }
          ],
          "heatmap": [
           {
            "colorbar": {
             "outlinewidth": 0,
             "ticks": ""
            },
            "colorscale": [
             [
              0,
              "#0d0887"
             ],
             [
              0.1111111111111111,
              "#46039f"
             ],
             [
              0.2222222222222222,
              "#7201a8"
             ],
             [
              0.3333333333333333,
              "#9c179e"
             ],
             [
              0.4444444444444444,
              "#bd3786"
             ],
             [
              0.5555555555555556,
              "#d8576b"
             ],
             [
              0.6666666666666666,
              "#ed7953"
             ],
             [
              0.7777777777777778,
              "#fb9f3a"
             ],
             [
              0.8888888888888888,
              "#fdca26"
             ],
             [
              1,
              "#f0f921"
             ]
            ],
            "type": "heatmap"
           }
          ],
          "heatmapgl": [
           {
            "colorbar": {
             "outlinewidth": 0,
             "ticks": ""
            },
            "colorscale": [
             [
              0,
              "#0d0887"
             ],
             [
              0.1111111111111111,
              "#46039f"
             ],
             [
              0.2222222222222222,
              "#7201a8"
             ],
             [
              0.3333333333333333,
              "#9c179e"
             ],
             [
              0.4444444444444444,
              "#bd3786"
             ],
             [
              0.5555555555555556,
              "#d8576b"
             ],
             [
              0.6666666666666666,
              "#ed7953"
             ],
             [
              0.7777777777777778,
              "#fb9f3a"
             ],
             [
              0.8888888888888888,
              "#fdca26"
             ],
             [
              1,
              "#f0f921"
             ]
            ],
            "type": "heatmapgl"
           }
          ],
          "histogram": [
           {
            "marker": {
             "pattern": {
              "fillmode": "overlay",
              "size": 10,
              "solidity": 0.2
             }
            },
            "type": "histogram"
           }
          ],
          "histogram2d": [
           {
            "colorbar": {
             "outlinewidth": 0,
             "ticks": ""
            },
            "colorscale": [
             [
              0,
              "#0d0887"
             ],
             [
              0.1111111111111111,
              "#46039f"
             ],
             [
              0.2222222222222222,
              "#7201a8"
             ],
             [
              0.3333333333333333,
              "#9c179e"
             ],
             [
              0.4444444444444444,
              "#bd3786"
             ],
             [
              0.5555555555555556,
              "#d8576b"
             ],
             [
              0.6666666666666666,
              "#ed7953"
             ],
             [
              0.7777777777777778,
              "#fb9f3a"
             ],
             [
              0.8888888888888888,
              "#fdca26"
             ],
             [
              1,
              "#f0f921"
             ]
            ],
            "type": "histogram2d"
           }
          ],
          "histogram2dcontour": [
           {
            "colorbar": {
             "outlinewidth": 0,
             "ticks": ""
            },
            "colorscale": [
             [
              0,
              "#0d0887"
             ],
             [
              0.1111111111111111,
              "#46039f"
             ],
             [
              0.2222222222222222,
              "#7201a8"
             ],
             [
              0.3333333333333333,
              "#9c179e"
             ],
             [
              0.4444444444444444,
              "#bd3786"
             ],
             [
              0.5555555555555556,
              "#d8576b"
             ],
             [
              0.6666666666666666,
              "#ed7953"
             ],
             [
              0.7777777777777778,
              "#fb9f3a"
             ],
             [
              0.8888888888888888,
              "#fdca26"
             ],
             [
              1,
              "#f0f921"
             ]
            ],
            "type": "histogram2dcontour"
           }
          ],
          "mesh3d": [
           {
            "colorbar": {
             "outlinewidth": 0,
             "ticks": ""
            },
            "type": "mesh3d"
           }
          ],
          "parcoords": [
           {
            "line": {
             "colorbar": {
              "outlinewidth": 0,
              "ticks": ""
             }
            },
            "type": "parcoords"
           }
          ],
          "pie": [
           {
            "automargin": true,
            "type": "pie"
           }
          ],
          "scatter": [
           {
            "fillpattern": {
             "fillmode": "overlay",
             "size": 10,
             "solidity": 0.2
            },
            "type": "scatter"
           }
          ],
          "scatter3d": [
           {
            "line": {
             "colorbar": {
              "outlinewidth": 0,
              "ticks": ""
             }
            },
            "marker": {
             "colorbar": {
              "outlinewidth": 0,
              "ticks": ""
             }
            },
            "type": "scatter3d"
           }
          ],
          "scattercarpet": [
           {
            "marker": {
             "colorbar": {
              "outlinewidth": 0,
              "ticks": ""
             }
            },
            "type": "scattercarpet"
           }
          ],
          "scattergeo": [
           {
            "marker": {
             "colorbar": {
              "outlinewidth": 0,
              "ticks": ""
             }
            },
            "type": "scattergeo"
           }
          ],
          "scattergl": [
           {
            "marker": {
             "colorbar": {
              "outlinewidth": 0,
              "ticks": ""
             }
            },
            "type": "scattergl"
           }
          ],
          "scattermapbox": [
           {
            "marker": {
             "colorbar": {
              "outlinewidth": 0,
              "ticks": ""
             }
            },
            "type": "scattermapbox"
           }
          ],
          "scatterpolar": [
           {
            "marker": {
             "colorbar": {
              "outlinewidth": 0,
              "ticks": ""
             }
            },
            "type": "scatterpolar"
           }
          ],
          "scatterpolargl": [
           {
            "marker": {
             "colorbar": {
              "outlinewidth": 0,
              "ticks": ""
             }
            },
            "type": "scatterpolargl"
           }
          ],
          "scatterternary": [
           {
            "marker": {
             "colorbar": {
              "outlinewidth": 0,
              "ticks": ""
             }
            },
            "type": "scatterternary"
           }
          ],
          "surface": [
           {
            "colorbar": {
             "outlinewidth": 0,
             "ticks": ""
            },
            "colorscale": [
             [
              0,
              "#0d0887"
             ],
             [
              0.1111111111111111,
              "#46039f"
             ],
             [
              0.2222222222222222,
              "#7201a8"
             ],
             [
              0.3333333333333333,
              "#9c179e"
             ],
             [
              0.4444444444444444,
              "#bd3786"
             ],
             [
              0.5555555555555556,
              "#d8576b"
             ],
             [
              0.6666666666666666,
              "#ed7953"
             ],
             [
              0.7777777777777778,
              "#fb9f3a"
             ],
             [
              0.8888888888888888,
              "#fdca26"
             ],
             [
              1,
              "#f0f921"
             ]
            ],
            "type": "surface"
           }
          ],
          "table": [
           {
            "cells": {
             "fill": {
              "color": "#EBF0F8"
             },
             "line": {
              "color": "white"
             }
            },
            "header": {
             "fill": {
              "color": "#C8D4E3"
             },
             "line": {
              "color": "white"
             }
            },
            "type": "table"
           }
          ]
         },
         "layout": {
          "annotationdefaults": {
           "arrowcolor": "#2a3f5f",
           "arrowhead": 0,
           "arrowwidth": 1
          },
          "autotypenumbers": "strict",
          "coloraxis": {
           "colorbar": {
            "outlinewidth": 0,
            "ticks": ""
           }
          },
          "colorscale": {
           "diverging": [
            [
             0,
             "#8e0152"
            ],
            [
             0.1,
             "#c51b7d"
            ],
            [
             0.2,
             "#de77ae"
            ],
            [
             0.3,
             "#f1b6da"
            ],
            [
             0.4,
             "#fde0ef"
            ],
            [
             0.5,
             "#f7f7f7"
            ],
            [
             0.6,
             "#e6f5d0"
            ],
            [
             0.7,
             "#b8e186"
            ],
            [
             0.8,
             "#7fbc41"
            ],
            [
             0.9,
             "#4d9221"
            ],
            [
             1,
             "#276419"
            ]
           ],
           "sequential": [
            [
             0,
             "#0d0887"
            ],
            [
             0.1111111111111111,
             "#46039f"
            ],
            [
             0.2222222222222222,
             "#7201a8"
            ],
            [
             0.3333333333333333,
             "#9c179e"
            ],
            [
             0.4444444444444444,
             "#bd3786"
            ],
            [
             0.5555555555555556,
             "#d8576b"
            ],
            [
             0.6666666666666666,
             "#ed7953"
            ],
            [
             0.7777777777777778,
             "#fb9f3a"
            ],
            [
             0.8888888888888888,
             "#fdca26"
            ],
            [
             1,
             "#f0f921"
            ]
           ],
           "sequentialminus": [
            [
             0,
             "#0d0887"
            ],
            [
             0.1111111111111111,
             "#46039f"
            ],
            [
             0.2222222222222222,
             "#7201a8"
            ],
            [
             0.3333333333333333,
             "#9c179e"
            ],
            [
             0.4444444444444444,
             "#bd3786"
            ],
            [
             0.5555555555555556,
             "#d8576b"
            ],
            [
             0.6666666666666666,
             "#ed7953"
            ],
            [
             0.7777777777777778,
             "#fb9f3a"
            ],
            [
             0.8888888888888888,
             "#fdca26"
            ],
            [
             1,
             "#f0f921"
            ]
           ]
          },
          "colorway": [
           "#636efa",
           "#EF553B",
           "#00cc96",
           "#ab63fa",
           "#FFA15A",
           "#19d3f3",
           "#FF6692",
           "#B6E880",
           "#FF97FF",
           "#FECB52"
          ],
          "font": {
           "color": "#2a3f5f"
          },
          "geo": {
           "bgcolor": "white",
           "lakecolor": "white",
           "landcolor": "#E5ECF6",
           "showlakes": true,
           "showland": true,
           "subunitcolor": "white"
          },
          "hoverlabel": {
           "align": "left"
          },
          "hovermode": "closest",
          "mapbox": {
           "style": "light"
          },
          "paper_bgcolor": "white",
          "plot_bgcolor": "#E5ECF6",
          "polar": {
           "angularaxis": {
            "gridcolor": "white",
            "linecolor": "white",
            "ticks": ""
           },
           "bgcolor": "#E5ECF6",
           "radialaxis": {
            "gridcolor": "white",
            "linecolor": "white",
            "ticks": ""
           }
          },
          "scene": {
           "xaxis": {
            "backgroundcolor": "#E5ECF6",
            "gridcolor": "white",
            "gridwidth": 2,
            "linecolor": "white",
            "showbackground": true,
            "ticks": "",
            "zerolinecolor": "white"
           },
           "yaxis": {
            "backgroundcolor": "#E5ECF6",
            "gridcolor": "white",
            "gridwidth": 2,
            "linecolor": "white",
            "showbackground": true,
            "ticks": "",
            "zerolinecolor": "white"
           },
           "zaxis": {
            "backgroundcolor": "#E5ECF6",
            "gridcolor": "white",
            "gridwidth": 2,
            "linecolor": "white",
            "showbackground": true,
            "ticks": "",
            "zerolinecolor": "white"
           }
          },
          "shapedefaults": {
           "line": {
            "color": "#2a3f5f"
           }
          },
          "ternary": {
           "aaxis": {
            "gridcolor": "white",
            "linecolor": "white",
            "ticks": ""
           },
           "baxis": {
            "gridcolor": "white",
            "linecolor": "white",
            "ticks": ""
           },
           "bgcolor": "#E5ECF6",
           "caxis": {
            "gridcolor": "white",
            "linecolor": "white",
            "ticks": ""
           }
          },
          "title": {
           "x": 0.05
          },
          "xaxis": {
           "automargin": true,
           "gridcolor": "white",
           "linecolor": "white",
           "ticks": "",
           "title": {
            "standoff": 15
           },
           "zerolinecolor": "white",
           "zerolinewidth": 2
          },
          "yaxis": {
           "automargin": true,
           "gridcolor": "white",
           "linecolor": "white",
           "ticks": "",
           "title": {
            "standoff": 15
           },
           "zerolinecolor": "white",
           "zerolinewidth": 2
          }
         }
        }
       }
      },
      "text/html": [
       "<div>                            <div id=\"a34ecd98-b577-42e5-82fd-b6ef3266e382\" class=\"plotly-graph-div\" style=\"height:525px; width:100%;\"></div>            <script type=\"text/javascript\">                require([\"plotly\"], function(Plotly) {                    window.PLOTLYENV=window.PLOTLYENV || {};                                    if (document.getElementById(\"a34ecd98-b577-42e5-82fd-b6ef3266e382\")) {                    Plotly.newPlot(                        \"a34ecd98-b577-42e5-82fd-b6ef3266e382\",                        [{\"branchvalues\":\"total\",\"domain\":{\"x\":[0.0,1.0],\"y\":[0.0,1.0]},\"hovertemplate\":\"labels=%{label}<br>count=%{value}<br>parent=%{parent}<br>id=%{id}<extra></extra>\",\"ids\":[\"M/lowerlevel/IT/F/Above-7/H\",\"F/MiddleSchool/Math/F/Above-7/H\",\"F/MiddleSchool/Arabic/S/Above-7/H\",\"M/HighSchool/Math/S/Above-7/H\",\"F/MiddleSchool/Arabic/F/Under-7/H\",\"F/lowerlevel/Arabic/F/Under-7/H\",\"M/lowerlevel/Arabic/F/Under-7/H\",\"F/MiddleSchool/Biology/F/Under-7/H\",\"M/MiddleSchool/Biology/F/Under-7/H\",\"F/MiddleSchool/Chemistry/F/Under-7/H\",\"M/MiddleSchool/Chemistry/F/Under-7/H\",\"F/HighSchool/English/F/Under-7/H\",\"F/MiddleSchool/English/F/Under-7/H\",\"M/MiddleSchool/English/F/Under-7/H\",\"F/lowerlevel/French/F/Under-7/H\",\"M/lowerlevel/French/F/Under-7/H\",\"F/MiddleSchool/Geology/F/Under-7/H\",\"M/MiddleSchool/Geology/F/Under-7/H\",\"M/MiddleSchool/History/F/Under-7/H\",\"F/HighSchool/IT/F/Under-7/H\",\"M/HighSchool/IT/F/Under-7/H\",\"M/MiddleSchool/IT/F/Under-7/H\",\"F/lowerlevel/IT/F/Under-7/H\",\"M/lowerlevel/IT/F/Under-7/H\",\"F/MiddleSchool/Math/F/Under-7/H\",\"M/MiddleSchool/Math/F/Under-7/H\",\"F/MiddleSchool/Quran/F/Under-7/H\",\"F/HighSchool/Science/F/Under-7/H\",\"F/lowerlevel/Science/F/Under-7/H\",\"M/lowerlevel/Science/F/Under-7/H\",\"F/MiddleSchool/Arabic/S/Under-7/H\",\"M/MiddleSchool/Arabic/S/Under-7/H\",\"F/lowerlevel/Arabic/S/Under-7/H\",\"M/lowerlevel/Arabic/S/Under-7/H\",\"F/MiddleSchool/Biology/S/Under-7/H\",\"M/MiddleSchool/Biology/S/Under-7/H\",\"F/MiddleSchool/Chemistry/S/Under-7/H\",\"M/MiddleSchool/Chemistry/S/Under-7/H\",\"F/MiddleSchool/English/S/Under-7/H\",\"M/MiddleSchool/English/S/Under-7/H\",\"M/lowerlevel/English/S/Under-7/H\",\"F/lowerlevel/French/S/Under-7/H\",\"M/lowerlevel/French/S/Under-7/H\",\"F/MiddleSchool/Geology/S/Under-7/H\",\"M/MiddleSchool/Geology/S/Under-7/H\",\"M/MiddleSchool/History/S/Under-7/H\",\"F/lowerlevel/History/S/Under-7/H\",\"M/lowerlevel/History/S/Under-7/H\",\"M/MiddleSchool/IT/S/Under-7/H\",\"M/HighSchool/Math/S/Under-7/H\",\"M/lowerlevel/Math/S/Under-7/H\",\"F/HighSchool/Quran/S/Under-7/H\",\"M/HighSchool/Quran/S/Under-7/H\",\"F/MiddleSchool/Quran/S/Under-7/H\",\"M/MiddleSchool/Quran/S/Under-7/H\",\"F/HighSchool/Science/S/Under-7/H\",\"F/MiddleSchool/Science/S/Under-7/H\",\"M/MiddleSchool/Science/S/Under-7/H\",\"F/lowerlevel/Science/S/Under-7/H\",\"M/lowerlevel/Science/S/Under-7/H\",\"M/MiddleSchool/Spanish/S/Under-7/H\",\"M/lowerlevel/IT/F/Above-7\",\"F/MiddleSchool/Math/F/Above-7\",\"F/MiddleSchool/Arabic/S/Above-7\",\"M/HighSchool/Math/S/Above-7\",\"F/MiddleSchool/Arabic/F/Under-7\",\"F/lowerlevel/Arabic/F/Under-7\",\"M/lowerlevel/Arabic/F/Under-7\",\"F/MiddleSchool/Biology/F/Under-7\",\"M/MiddleSchool/Biology/F/Under-7\",\"F/MiddleSchool/Chemistry/F/Under-7\",\"M/MiddleSchool/Chemistry/F/Under-7\",\"F/HighSchool/English/F/Under-7\",\"F/MiddleSchool/English/F/Under-7\",\"M/MiddleSchool/English/F/Under-7\",\"F/lowerlevel/French/F/Under-7\",\"M/lowerlevel/French/F/Under-7\",\"F/MiddleSchool/Geology/F/Under-7\",\"M/MiddleSchool/Geology/F/Under-7\",\"M/MiddleSchool/History/F/Under-7\",\"F/HighSchool/IT/F/Under-7\",\"M/HighSchool/IT/F/Under-7\",\"M/MiddleSchool/IT/F/Under-7\",\"F/lowerlevel/IT/F/Under-7\",\"M/lowerlevel/IT/F/Under-7\",\"F/MiddleSchool/Math/F/Under-7\",\"M/MiddleSchool/Math/F/Under-7\",\"F/MiddleSchool/Quran/F/Under-7\",\"F/HighSchool/Science/F/Under-7\",\"F/lowerlevel/Science/F/Under-7\",\"M/lowerlevel/Science/F/Under-7\",\"F/MiddleSchool/Arabic/S/Under-7\",\"M/MiddleSchool/Arabic/S/Under-7\",\"F/lowerlevel/Arabic/S/Under-7\",\"M/lowerlevel/Arabic/S/Under-7\",\"F/MiddleSchool/Biology/S/Under-7\",\"M/MiddleSchool/Biology/S/Under-7\",\"F/MiddleSchool/Chemistry/S/Under-7\",\"M/MiddleSchool/Chemistry/S/Under-7\",\"F/MiddleSchool/English/S/Under-7\",\"M/MiddleSchool/English/S/Under-7\",\"M/lowerlevel/English/S/Under-7\",\"F/lowerlevel/French/S/Under-7\",\"M/lowerlevel/French/S/Under-7\",\"F/MiddleSchool/Geology/S/Under-7\",\"M/MiddleSchool/Geology/S/Under-7\",\"M/MiddleSchool/History/S/Under-7\",\"F/lowerlevel/History/S/Under-7\",\"M/lowerlevel/History/S/Under-7\",\"M/MiddleSchool/IT/S/Under-7\",\"M/HighSchool/Math/S/Under-7\",\"M/lowerlevel/Math/S/Under-7\",\"F/HighSchool/Quran/S/Under-7\",\"M/HighSchool/Quran/S/Under-7\",\"F/MiddleSchool/Quran/S/Under-7\",\"M/MiddleSchool/Quran/S/Under-7\",\"F/HighSchool/Science/S/Under-7\",\"F/MiddleSchool/Science/S/Under-7\",\"M/MiddleSchool/Science/S/Under-7\",\"F/lowerlevel/Science/S/Under-7\",\"M/lowerlevel/Science/S/Under-7\",\"M/MiddleSchool/Spanish/S/Under-7\",\"F/MiddleSchool/Arabic/F\",\"F/lowerlevel/Arabic/F\",\"M/lowerlevel/Arabic/F\",\"F/MiddleSchool/Biology/F\",\"M/MiddleSchool/Biology/F\",\"F/MiddleSchool/Chemistry/F\",\"M/MiddleSchool/Chemistry/F\",\"F/HighSchool/English/F\",\"F/MiddleSchool/English/F\",\"M/MiddleSchool/English/F\",\"F/lowerlevel/French/F\",\"M/lowerlevel/French/F\",\"F/MiddleSchool/Geology/F\",\"M/MiddleSchool/Geology/F\",\"M/MiddleSchool/History/F\",\"F/HighSchool/IT/F\",\"M/HighSchool/IT/F\",\"M/MiddleSchool/IT/F\",\"F/lowerlevel/IT/F\",\"M/lowerlevel/IT/F\",\"F/MiddleSchool/Math/F\",\"M/MiddleSchool/Math/F\",\"F/MiddleSchool/Quran/F\",\"F/HighSchool/Science/F\",\"F/lowerlevel/Science/F\",\"M/lowerlevel/Science/F\",\"F/MiddleSchool/Arabic/S\",\"M/MiddleSchool/Arabic/S\",\"F/lowerlevel/Arabic/S\",\"M/lowerlevel/Arabic/S\",\"F/MiddleSchool/Biology/S\",\"M/MiddleSchool/Biology/S\",\"F/MiddleSchool/Chemistry/S\",\"M/MiddleSchool/Chemistry/S\",\"F/MiddleSchool/English/S\",\"M/MiddleSchool/English/S\",\"M/lowerlevel/English/S\",\"F/lowerlevel/French/S\",\"M/lowerlevel/French/S\",\"F/MiddleSchool/Geology/S\",\"M/MiddleSchool/Geology/S\",\"M/MiddleSchool/History/S\",\"F/lowerlevel/History/S\",\"M/lowerlevel/History/S\",\"M/MiddleSchool/IT/S\",\"M/HighSchool/Math/S\",\"M/lowerlevel/Math/S\",\"F/HighSchool/Quran/S\",\"M/HighSchool/Quran/S\",\"F/MiddleSchool/Quran/S\",\"M/MiddleSchool/Quran/S\",\"F/HighSchool/Science/S\",\"F/MiddleSchool/Science/S\",\"M/MiddleSchool/Science/S\",\"F/lowerlevel/Science/S\",\"M/lowerlevel/Science/S\",\"M/MiddleSchool/Spanish/S\",\"F/MiddleSchool/Arabic\",\"M/MiddleSchool/Arabic\",\"F/lowerlevel/Arabic\",\"M/lowerlevel/Arabic\",\"F/MiddleSchool/Biology\",\"M/MiddleSchool/Biology\",\"F/MiddleSchool/Chemistry\",\"M/MiddleSchool/Chemistry\",\"F/HighSchool/English\",\"F/MiddleSchool/English\",\"M/MiddleSchool/English\",\"M/lowerlevel/English\",\"F/lowerlevel/French\",\"M/lowerlevel/French\",\"F/MiddleSchool/Geology\",\"M/MiddleSchool/Geology\",\"M/MiddleSchool/History\",\"F/lowerlevel/History\",\"M/lowerlevel/History\",\"F/HighSchool/IT\",\"M/HighSchool/IT\",\"M/MiddleSchool/IT\",\"F/lowerlevel/IT\",\"M/lowerlevel/IT\",\"M/HighSchool/Math\",\"F/MiddleSchool/Math\",\"M/MiddleSchool/Math\",\"M/lowerlevel/Math\",\"F/HighSchool/Quran\",\"M/HighSchool/Quran\",\"F/MiddleSchool/Quran\",\"M/MiddleSchool/Quran\",\"F/HighSchool/Science\",\"F/MiddleSchool/Science\",\"M/MiddleSchool/Science\",\"F/lowerlevel/Science\",\"M/lowerlevel/Science\",\"M/MiddleSchool/Spanish\",\"F/HighSchool\",\"M/HighSchool\",\"F/MiddleSchool\",\"M/MiddleSchool\",\"F/lowerlevel\",\"M/lowerlevel\",\"F\",\"M\"],\"labels\":[\"H\",\"H\",\"H\",\"H\",\"H\",\"H\",\"H\",\"H\",\"H\",\"H\",\"H\",\"H\",\"H\",\"H\",\"H\",\"H\",\"H\",\"H\",\"H\",\"H\",\"H\",\"H\",\"H\",\"H\",\"H\",\"H\",\"H\",\"H\",\"H\",\"H\",\"H\",\"H\",\"H\",\"H\",\"H\",\"H\",\"H\",\"H\",\"H\",\"H\",\"H\",\"H\",\"H\",\"H\",\"H\",\"H\",\"H\",\"H\",\"H\",\"H\",\"H\",\"H\",\"H\",\"H\",\"H\",\"H\",\"H\",\"H\",\"H\",\"H\",\"H\",\"Above-7\",\"Above-7\",\"Above-7\",\"Above-7\",\"Under-7\",\"Under-7\",\"Under-7\",\"Under-7\",\"Under-7\",\"Under-7\",\"Under-7\",\"Under-7\",\"Under-7\",\"Under-7\",\"Under-7\",\"Under-7\",\"Under-7\",\"Under-7\",\"Under-7\",\"Under-7\",\"Under-7\",\"Under-7\",\"Under-7\",\"Under-7\",\"Under-7\",\"Under-7\",\"Under-7\",\"Under-7\",\"Under-7\",\"Under-7\",\"Under-7\",\"Under-7\",\"Under-7\",\"Under-7\",\"Under-7\",\"Under-7\",\"Under-7\",\"Under-7\",\"Under-7\",\"Under-7\",\"Under-7\",\"Under-7\",\"Under-7\",\"Under-7\",\"Under-7\",\"Under-7\",\"Under-7\",\"Under-7\",\"Under-7\",\"Under-7\",\"Under-7\",\"Under-7\",\"Under-7\",\"Under-7\",\"Under-7\",\"Under-7\",\"Under-7\",\"Under-7\",\"Under-7\",\"Under-7\",\"Under-7\",\"F\",\"F\",\"F\",\"F\",\"F\",\"F\",\"F\",\"F\",\"F\",\"F\",\"F\",\"F\",\"F\",\"F\",\"F\",\"F\",\"F\",\"F\",\"F\",\"F\",\"F\",\"F\",\"F\",\"F\",\"F\",\"F\",\"S\",\"S\",\"S\",\"S\",\"S\",\"S\",\"S\",\"S\",\"S\",\"S\",\"S\",\"S\",\"S\",\"S\",\"S\",\"S\",\"S\",\"S\",\"S\",\"S\",\"S\",\"S\",\"S\",\"S\",\"S\",\"S\",\"S\",\"S\",\"S\",\"S\",\"S\",\"Arabic\",\"Arabic\",\"Arabic\",\"Arabic\",\"Biology\",\"Biology\",\"Chemistry\",\"Chemistry\",\"English\",\"English\",\"English\",\"English\",\"French\",\"French\",\"Geology\",\"Geology\",\"History\",\"History\",\"History\",\"IT\",\"IT\",\"IT\",\"IT\",\"IT\",\"Math\",\"Math\",\"Math\",\"Math\",\"Quran\",\"Quran\",\"Quran\",\"Quran\",\"Science\",\"Science\",\"Science\",\"Science\",\"Science\",\"Spanish\",\"HighSchool\",\"HighSchool\",\"MiddleSchool\",\"MiddleSchool\",\"lowerlevel\",\"lowerlevel\",\"F\",\"M\"],\"name\":\"\",\"parents\":[\"M/lowerlevel/IT/F/Above-7\",\"F/MiddleSchool/Math/F/Above-7\",\"F/MiddleSchool/Arabic/S/Above-7\",\"M/HighSchool/Math/S/Above-7\",\"F/MiddleSchool/Arabic/F/Under-7\",\"F/lowerlevel/Arabic/F/Under-7\",\"M/lowerlevel/Arabic/F/Under-7\",\"F/MiddleSchool/Biology/F/Under-7\",\"M/MiddleSchool/Biology/F/Under-7\",\"F/MiddleSchool/Chemistry/F/Under-7\",\"M/MiddleSchool/Chemistry/F/Under-7\",\"F/HighSchool/English/F/Under-7\",\"F/MiddleSchool/English/F/Under-7\",\"M/MiddleSchool/English/F/Under-7\",\"F/lowerlevel/French/F/Under-7\",\"M/lowerlevel/French/F/Under-7\",\"F/MiddleSchool/Geology/F/Under-7\",\"M/MiddleSchool/Geology/F/Under-7\",\"M/MiddleSchool/History/F/Under-7\",\"F/HighSchool/IT/F/Under-7\",\"M/HighSchool/IT/F/Under-7\",\"M/MiddleSchool/IT/F/Under-7\",\"F/lowerlevel/IT/F/Under-7\",\"M/lowerlevel/IT/F/Under-7\",\"F/MiddleSchool/Math/F/Under-7\",\"M/MiddleSchool/Math/F/Under-7\",\"F/MiddleSchool/Quran/F/Under-7\",\"F/HighSchool/Science/F/Under-7\",\"F/lowerlevel/Science/F/Under-7\",\"M/lowerlevel/Science/F/Under-7\",\"F/MiddleSchool/Arabic/S/Under-7\",\"M/MiddleSchool/Arabic/S/Under-7\",\"F/lowerlevel/Arabic/S/Under-7\",\"M/lowerlevel/Arabic/S/Under-7\",\"F/MiddleSchool/Biology/S/Under-7\",\"M/MiddleSchool/Biology/S/Under-7\",\"F/MiddleSchool/Chemistry/S/Under-7\",\"M/MiddleSchool/Chemistry/S/Under-7\",\"F/MiddleSchool/English/S/Under-7\",\"M/MiddleSchool/English/S/Under-7\",\"M/lowerlevel/English/S/Under-7\",\"F/lowerlevel/French/S/Under-7\",\"M/lowerlevel/French/S/Under-7\",\"F/MiddleSchool/Geology/S/Under-7\",\"M/MiddleSchool/Geology/S/Under-7\",\"M/MiddleSchool/History/S/Under-7\",\"F/lowerlevel/History/S/Under-7\",\"M/lowerlevel/History/S/Under-7\",\"M/MiddleSchool/IT/S/Under-7\",\"M/HighSchool/Math/S/Under-7\",\"M/lowerlevel/Math/S/Under-7\",\"F/HighSchool/Quran/S/Under-7\",\"M/HighSchool/Quran/S/Under-7\",\"F/MiddleSchool/Quran/S/Under-7\",\"M/MiddleSchool/Quran/S/Under-7\",\"F/HighSchool/Science/S/Under-7\",\"F/MiddleSchool/Science/S/Under-7\",\"M/MiddleSchool/Science/S/Under-7\",\"F/lowerlevel/Science/S/Under-7\",\"M/lowerlevel/Science/S/Under-7\",\"M/MiddleSchool/Spanish/S/Under-7\",\"M/lowerlevel/IT/F\",\"F/MiddleSchool/Math/F\",\"F/MiddleSchool/Arabic/S\",\"M/HighSchool/Math/S\",\"F/MiddleSchool/Arabic/F\",\"F/lowerlevel/Arabic/F\",\"M/lowerlevel/Arabic/F\",\"F/MiddleSchool/Biology/F\",\"M/MiddleSchool/Biology/F\",\"F/MiddleSchool/Chemistry/F\",\"M/MiddleSchool/Chemistry/F\",\"F/HighSchool/English/F\",\"F/MiddleSchool/English/F\",\"M/MiddleSchool/English/F\",\"F/lowerlevel/French/F\",\"M/lowerlevel/French/F\",\"F/MiddleSchool/Geology/F\",\"M/MiddleSchool/Geology/F\",\"M/MiddleSchool/History/F\",\"F/HighSchool/IT/F\",\"M/HighSchool/IT/F\",\"M/MiddleSchool/IT/F\",\"F/lowerlevel/IT/F\",\"M/lowerlevel/IT/F\",\"F/MiddleSchool/Math/F\",\"M/MiddleSchool/Math/F\",\"F/MiddleSchool/Quran/F\",\"F/HighSchool/Science/F\",\"F/lowerlevel/Science/F\",\"M/lowerlevel/Science/F\",\"F/MiddleSchool/Arabic/S\",\"M/MiddleSchool/Arabic/S\",\"F/lowerlevel/Arabic/S\",\"M/lowerlevel/Arabic/S\",\"F/MiddleSchool/Biology/S\",\"M/MiddleSchool/Biology/S\",\"F/MiddleSchool/Chemistry/S\",\"M/MiddleSchool/Chemistry/S\",\"F/MiddleSchool/English/S\",\"M/MiddleSchool/English/S\",\"M/lowerlevel/English/S\",\"F/lowerlevel/French/S\",\"M/lowerlevel/French/S\",\"F/MiddleSchool/Geology/S\",\"M/MiddleSchool/Geology/S\",\"M/MiddleSchool/History/S\",\"F/lowerlevel/History/S\",\"M/lowerlevel/History/S\",\"M/MiddleSchool/IT/S\",\"M/HighSchool/Math/S\",\"M/lowerlevel/Math/S\",\"F/HighSchool/Quran/S\",\"M/HighSchool/Quran/S\",\"F/MiddleSchool/Quran/S\",\"M/MiddleSchool/Quran/S\",\"F/HighSchool/Science/S\",\"F/MiddleSchool/Science/S\",\"M/MiddleSchool/Science/S\",\"F/lowerlevel/Science/S\",\"M/lowerlevel/Science/S\",\"M/MiddleSchool/Spanish/S\",\"F/MiddleSchool/Arabic\",\"F/lowerlevel/Arabic\",\"M/lowerlevel/Arabic\",\"F/MiddleSchool/Biology\",\"M/MiddleSchool/Biology\",\"F/MiddleSchool/Chemistry\",\"M/MiddleSchool/Chemistry\",\"F/HighSchool/English\",\"F/MiddleSchool/English\",\"M/MiddleSchool/English\",\"F/lowerlevel/French\",\"M/lowerlevel/French\",\"F/MiddleSchool/Geology\",\"M/MiddleSchool/Geology\",\"M/MiddleSchool/History\",\"F/HighSchool/IT\",\"M/HighSchool/IT\",\"M/MiddleSchool/IT\",\"F/lowerlevel/IT\",\"M/lowerlevel/IT\",\"F/MiddleSchool/Math\",\"M/MiddleSchool/Math\",\"F/MiddleSchool/Quran\",\"F/HighSchool/Science\",\"F/lowerlevel/Science\",\"M/lowerlevel/Science\",\"F/MiddleSchool/Arabic\",\"M/MiddleSchool/Arabic\",\"F/lowerlevel/Arabic\",\"M/lowerlevel/Arabic\",\"F/MiddleSchool/Biology\",\"M/MiddleSchool/Biology\",\"F/MiddleSchool/Chemistry\",\"M/MiddleSchool/Chemistry\",\"F/MiddleSchool/English\",\"M/MiddleSchool/English\",\"M/lowerlevel/English\",\"F/lowerlevel/French\",\"M/lowerlevel/French\",\"F/MiddleSchool/Geology\",\"M/MiddleSchool/Geology\",\"M/MiddleSchool/History\",\"F/lowerlevel/History\",\"M/lowerlevel/History\",\"M/MiddleSchool/IT\",\"M/HighSchool/Math\",\"M/lowerlevel/Math\",\"F/HighSchool/Quran\",\"M/HighSchool/Quran\",\"F/MiddleSchool/Quran\",\"M/MiddleSchool/Quran\",\"F/HighSchool/Science\",\"F/MiddleSchool/Science\",\"M/MiddleSchool/Science\",\"F/lowerlevel/Science\",\"M/lowerlevel/Science\",\"M/MiddleSchool/Spanish\",\"F/MiddleSchool\",\"M/MiddleSchool\",\"F/lowerlevel\",\"M/lowerlevel\",\"F/MiddleSchool\",\"M/MiddleSchool\",\"F/MiddleSchool\",\"M/MiddleSchool\",\"F/HighSchool\",\"F/MiddleSchool\",\"M/MiddleSchool\",\"M/lowerlevel\",\"F/lowerlevel\",\"M/lowerlevel\",\"F/MiddleSchool\",\"M/MiddleSchool\",\"M/MiddleSchool\",\"F/lowerlevel\",\"M/lowerlevel\",\"F/HighSchool\",\"M/HighSchool\",\"M/MiddleSchool\",\"F/lowerlevel\",\"M/lowerlevel\",\"M/HighSchool\",\"F/MiddleSchool\",\"M/MiddleSchool\",\"M/lowerlevel\",\"F/HighSchool\",\"M/HighSchool\",\"F/MiddleSchool\",\"M/MiddleSchool\",\"F/HighSchool\",\"F/MiddleSchool\",\"M/MiddleSchool\",\"F/lowerlevel\",\"M/lowerlevel\",\"M/MiddleSchool\",\"F\",\"M\",\"F\",\"M\",\"F\",\"M\",\"\",\"\"],\"values\":[1,1,1,1,1,2,3,3,5,4,1,3,4,2,4,2,2,1,1,1,1,1,6,4,1,1,1,1,4,1,1,6,2,3,3,5,4,1,4,3,1,8,6,2,1,1,1,1,1,1,1,1,1,3,2,1,2,2,4,1,5,1,1,1,1,1,2,3,3,5,4,1,3,4,2,4,2,2,1,1,1,1,1,6,4,1,1,1,1,4,1,1,6,2,3,3,5,4,1,4,3,1,8,6,2,1,1,1,1,1,1,1,1,1,3,2,1,2,2,4,1,5,1,2,3,3,5,4,1,3,4,2,4,2,2,1,1,1,1,1,6,5,2,1,1,1,4,1,2,6,2,3,3,5,4,1,4,3,1,8,6,2,1,1,1,1,1,2,1,1,1,3,2,1,2,2,4,1,5,3,6,4,6,6,10,8,2,3,8,5,1,12,8,4,2,2,1,1,1,1,2,6,5,2,2,1,1,1,1,4,2,2,2,2,8,2,5,7,4,37,39,31,24,75,67],\"type\":\"sunburst\"}],                        {\"template\":{\"data\":{\"histogram2dcontour\":[{\"type\":\"histogram2dcontour\",\"colorbar\":{\"outlinewidth\":0,\"ticks\":\"\"},\"colorscale\":[[0.0,\"#0d0887\"],[0.1111111111111111,\"#46039f\"],[0.2222222222222222,\"#7201a8\"],[0.3333333333333333,\"#9c179e\"],[0.4444444444444444,\"#bd3786\"],[0.5555555555555556,\"#d8576b\"],[0.6666666666666666,\"#ed7953\"],[0.7777777777777778,\"#fb9f3a\"],[0.8888888888888888,\"#fdca26\"],[1.0,\"#f0f921\"]]}],\"choropleth\":[{\"type\":\"choropleth\",\"colorbar\":{\"outlinewidth\":0,\"ticks\":\"\"}}],\"histogram2d\":[{\"type\":\"histogram2d\",\"colorbar\":{\"outlinewidth\":0,\"ticks\":\"\"},\"colorscale\":[[0.0,\"#0d0887\"],[0.1111111111111111,\"#46039f\"],[0.2222222222222222,\"#7201a8\"],[0.3333333333333333,\"#9c179e\"],[0.4444444444444444,\"#bd3786\"],[0.5555555555555556,\"#d8576b\"],[0.6666666666666666,\"#ed7953\"],[0.7777777777777778,\"#fb9f3a\"],[0.8888888888888888,\"#fdca26\"],[1.0,\"#f0f921\"]]}],\"heatmap\":[{\"type\":\"heatmap\",\"colorbar\":{\"outlinewidth\":0,\"ticks\":\"\"},\"colorscale\":[[0.0,\"#0d0887\"],[0.1111111111111111,\"#46039f\"],[0.2222222222222222,\"#7201a8\"],[0.3333333333333333,\"#9c179e\"],[0.4444444444444444,\"#bd3786\"],[0.5555555555555556,\"#d8576b\"],[0.6666666666666666,\"#ed7953\"],[0.7777777777777778,\"#fb9f3a\"],[0.8888888888888888,\"#fdca26\"],[1.0,\"#f0f921\"]]}],\"heatmapgl\":[{\"type\":\"heatmapgl\",\"colorbar\":{\"outlinewidth\":0,\"ticks\":\"\"},\"colorscale\":[[0.0,\"#0d0887\"],[0.1111111111111111,\"#46039f\"],[0.2222222222222222,\"#7201a8\"],[0.3333333333333333,\"#9c179e\"],[0.4444444444444444,\"#bd3786\"],[0.5555555555555556,\"#d8576b\"],[0.6666666666666666,\"#ed7953\"],[0.7777777777777778,\"#fb9f3a\"],[0.8888888888888888,\"#fdca26\"],[1.0,\"#f0f921\"]]}],\"contourcarpet\":[{\"type\":\"contourcarpet\",\"colorbar\":{\"outlinewidth\":0,\"ticks\":\"\"}}],\"contour\":[{\"type\":\"contour\",\"colorbar\":{\"outlinewidth\":0,\"ticks\":\"\"},\"colorscale\":[[0.0,\"#0d0887\"],[0.1111111111111111,\"#46039f\"],[0.2222222222222222,\"#7201a8\"],[0.3333333333333333,\"#9c179e\"],[0.4444444444444444,\"#bd3786\"],[0.5555555555555556,\"#d8576b\"],[0.6666666666666666,\"#ed7953\"],[0.7777777777777778,\"#fb9f3a\"],[0.8888888888888888,\"#fdca26\"],[1.0,\"#f0f921\"]]}],\"surface\":[{\"type\":\"surface\",\"colorbar\":{\"outlinewidth\":0,\"ticks\":\"\"},\"colorscale\":[[0.0,\"#0d0887\"],[0.1111111111111111,\"#46039f\"],[0.2222222222222222,\"#7201a8\"],[0.3333333333333333,\"#9c179e\"],[0.4444444444444444,\"#bd3786\"],[0.5555555555555556,\"#d8576b\"],[0.6666666666666666,\"#ed7953\"],[0.7777777777777778,\"#fb9f3a\"],[0.8888888888888888,\"#fdca26\"],[1.0,\"#f0f921\"]]}],\"mesh3d\":[{\"type\":\"mesh3d\",\"colorbar\":{\"outlinewidth\":0,\"ticks\":\"\"}}],\"scatter\":[{\"fillpattern\":{\"fillmode\":\"overlay\",\"size\":10,\"solidity\":0.2},\"type\":\"scatter\"}],\"parcoords\":[{\"type\":\"parcoords\",\"line\":{\"colorbar\":{\"outlinewidth\":0,\"ticks\":\"\"}}}],\"scatterpolargl\":[{\"type\":\"scatterpolargl\",\"marker\":{\"colorbar\":{\"outlinewidth\":0,\"ticks\":\"\"}}}],\"bar\":[{\"error_x\":{\"color\":\"#2a3f5f\"},\"error_y\":{\"color\":\"#2a3f5f\"},\"marker\":{\"line\":{\"color\":\"#E5ECF6\",\"width\":0.5},\"pattern\":{\"fillmode\":\"overlay\",\"size\":10,\"solidity\":0.2}},\"type\":\"bar\"}],\"scattergeo\":[{\"type\":\"scattergeo\",\"marker\":{\"colorbar\":{\"outlinewidth\":0,\"ticks\":\"\"}}}],\"scatterpolar\":[{\"type\":\"scatterpolar\",\"marker\":{\"colorbar\":{\"outlinewidth\":0,\"ticks\":\"\"}}}],\"histogram\":[{\"marker\":{\"pattern\":{\"fillmode\":\"overlay\",\"size\":10,\"solidity\":0.2}},\"type\":\"histogram\"}],\"scattergl\":[{\"type\":\"scattergl\",\"marker\":{\"colorbar\":{\"outlinewidth\":0,\"ticks\":\"\"}}}],\"scatter3d\":[{\"type\":\"scatter3d\",\"line\":{\"colorbar\":{\"outlinewidth\":0,\"ticks\":\"\"}},\"marker\":{\"colorbar\":{\"outlinewidth\":0,\"ticks\":\"\"}}}],\"scattermapbox\":[{\"type\":\"scattermapbox\",\"marker\":{\"colorbar\":{\"outlinewidth\":0,\"ticks\":\"\"}}}],\"scatterternary\":[{\"type\":\"scatterternary\",\"marker\":{\"colorbar\":{\"outlinewidth\":0,\"ticks\":\"\"}}}],\"scattercarpet\":[{\"type\":\"scattercarpet\",\"marker\":{\"colorbar\":{\"outlinewidth\":0,\"ticks\":\"\"}}}],\"carpet\":[{\"aaxis\":{\"endlinecolor\":\"#2a3f5f\",\"gridcolor\":\"white\",\"linecolor\":\"white\",\"minorgridcolor\":\"white\",\"startlinecolor\":\"#2a3f5f\"},\"baxis\":{\"endlinecolor\":\"#2a3f5f\",\"gridcolor\":\"white\",\"linecolor\":\"white\",\"minorgridcolor\":\"white\",\"startlinecolor\":\"#2a3f5f\"},\"type\":\"carpet\"}],\"table\":[{\"cells\":{\"fill\":{\"color\":\"#EBF0F8\"},\"line\":{\"color\":\"white\"}},\"header\":{\"fill\":{\"color\":\"#C8D4E3\"},\"line\":{\"color\":\"white\"}},\"type\":\"table\"}],\"barpolar\":[{\"marker\":{\"line\":{\"color\":\"#E5ECF6\",\"width\":0.5},\"pattern\":{\"fillmode\":\"overlay\",\"size\":10,\"solidity\":0.2}},\"type\":\"barpolar\"}],\"pie\":[{\"automargin\":true,\"type\":\"pie\"}]},\"layout\":{\"autotypenumbers\":\"strict\",\"colorway\":[\"#636efa\",\"#EF553B\",\"#00cc96\",\"#ab63fa\",\"#FFA15A\",\"#19d3f3\",\"#FF6692\",\"#B6E880\",\"#FF97FF\",\"#FECB52\"],\"font\":{\"color\":\"#2a3f5f\"},\"hovermode\":\"closest\",\"hoverlabel\":{\"align\":\"left\"},\"paper_bgcolor\":\"white\",\"plot_bgcolor\":\"#E5ECF6\",\"polar\":{\"bgcolor\":\"#E5ECF6\",\"angularaxis\":{\"gridcolor\":\"white\",\"linecolor\":\"white\",\"ticks\":\"\"},\"radialaxis\":{\"gridcolor\":\"white\",\"linecolor\":\"white\",\"ticks\":\"\"}},\"ternary\":{\"bgcolor\":\"#E5ECF6\",\"aaxis\":{\"gridcolor\":\"white\",\"linecolor\":\"white\",\"ticks\":\"\"},\"baxis\":{\"gridcolor\":\"white\",\"linecolor\":\"white\",\"ticks\":\"\"},\"caxis\":{\"gridcolor\":\"white\",\"linecolor\":\"white\",\"ticks\":\"\"}},\"coloraxis\":{\"colorbar\":{\"outlinewidth\":0,\"ticks\":\"\"}},\"colorscale\":{\"sequential\":[[0.0,\"#0d0887\"],[0.1111111111111111,\"#46039f\"],[0.2222222222222222,\"#7201a8\"],[0.3333333333333333,\"#9c179e\"],[0.4444444444444444,\"#bd3786\"],[0.5555555555555556,\"#d8576b\"],[0.6666666666666666,\"#ed7953\"],[0.7777777777777778,\"#fb9f3a\"],[0.8888888888888888,\"#fdca26\"],[1.0,\"#f0f921\"]],\"sequentialminus\":[[0.0,\"#0d0887\"],[0.1111111111111111,\"#46039f\"],[0.2222222222222222,\"#7201a8\"],[0.3333333333333333,\"#9c179e\"],[0.4444444444444444,\"#bd3786\"],[0.5555555555555556,\"#d8576b\"],[0.6666666666666666,\"#ed7953\"],[0.7777777777777778,\"#fb9f3a\"],[0.8888888888888888,\"#fdca26\"],[1.0,\"#f0f921\"]],\"diverging\":[[0,\"#8e0152\"],[0.1,\"#c51b7d\"],[0.2,\"#de77ae\"],[0.3,\"#f1b6da\"],[0.4,\"#fde0ef\"],[0.5,\"#f7f7f7\"],[0.6,\"#e6f5d0\"],[0.7,\"#b8e186\"],[0.8,\"#7fbc41\"],[0.9,\"#4d9221\"],[1,\"#276419\"]]},\"xaxis\":{\"gridcolor\":\"white\",\"linecolor\":\"white\",\"ticks\":\"\",\"title\":{\"standoff\":15},\"zerolinecolor\":\"white\",\"automargin\":true,\"zerolinewidth\":2},\"yaxis\":{\"gridcolor\":\"white\",\"linecolor\":\"white\",\"ticks\":\"\",\"title\":{\"standoff\":15},\"zerolinecolor\":\"white\",\"automargin\":true,\"zerolinewidth\":2},\"scene\":{\"xaxis\":{\"backgroundcolor\":\"#E5ECF6\",\"gridcolor\":\"white\",\"linecolor\":\"white\",\"showbackground\":true,\"ticks\":\"\",\"zerolinecolor\":\"white\",\"gridwidth\":2},\"yaxis\":{\"backgroundcolor\":\"#E5ECF6\",\"gridcolor\":\"white\",\"linecolor\":\"white\",\"showbackground\":true,\"ticks\":\"\",\"zerolinecolor\":\"white\",\"gridwidth\":2},\"zaxis\":{\"backgroundcolor\":\"#E5ECF6\",\"gridcolor\":\"white\",\"linecolor\":\"white\",\"showbackground\":true,\"ticks\":\"\",\"zerolinecolor\":\"white\",\"gridwidth\":2}},\"shapedefaults\":{\"line\":{\"color\":\"#2a3f5f\"}},\"annotationdefaults\":{\"arrowcolor\":\"#2a3f5f\",\"arrowhead\":0,\"arrowwidth\":1},\"geo\":{\"bgcolor\":\"white\",\"landcolor\":\"#E5ECF6\",\"subunitcolor\":\"white\",\"showland\":true,\"showlakes\":true,\"lakecolor\":\"white\"},\"title\":{\"x\":0.05},\"mapbox\":{\"style\":\"light\"}}},\"legend\":{\"tracegroupgap\":0},\"margin\":{\"t\":60}},                        {\"responsive\": true}                    ).then(function(){\n",
       "                            \n",
       "var gd = document.getElementById('a34ecd98-b577-42e5-82fd-b6ef3266e382');\n",
       "var x = new MutationObserver(function (mutations, observer) {{\n",
       "        var display = window.getComputedStyle(gd).display;\n",
       "        if (!display || display === 'none') {{\n",
       "            console.log([gd, 'removed!']);\n",
       "            Plotly.purge(gd);\n",
       "            observer.disconnect();\n",
       "        }}\n",
       "}});\n",
       "\n",
       "// Listen for the removal of the full notebook cells\n",
       "var notebookContainer = gd.closest('#notebook-container');\n",
       "if (notebookContainer) {{\n",
       "    x.observe(notebookContainer, {childList: true});\n",
       "}}\n",
       "\n",
       "// Listen for the clearing of the current output cell\n",
       "var outputEl = gd.closest('.output');\n",
       "if (outputEl) {{\n",
       "    x.observe(outputEl, {childList: true});\n",
       "}}\n",
       "\n",
       "                        })                };                });            </script>        </div>"
      ]
     },
     "metadata": {},
     "output_type": "display_data"
    }
   ],
   "source": [
    "fig = px.sunburst(Edu_Yes, path=[\"gender\",'StageID','Topic',\n",
    "                                    'Semester','StudentAbsenceDays','Class'])\n",
    "fig.show()"
   ]
  },
  {
   "cell_type": "markdown",
   "metadata": {},
   "source": [
    "### Interpretation : Trend Analysis\n",
    "* Student == Male, Middle school, Topic-IT, Semester-F, Absenty Above-7 == Lower Grade\n",
    "* Student == Female, High School, Topic-English, Semester-F, Absenty Under-7 == Higher Grade"
   ]
  },
  {
   "cell_type": "markdown",
   "metadata": {},
   "source": [
    "## Breaking Data into Two Part\n",
    " * Quantitative Variable\n",
    " * Qualitative Variable"
   ]
  },
  {
   "cell_type": "code",
   "execution_count": 21,
   "metadata": {},
   "outputs": [
    {
     "data": {
      "text/html": [
       "<div>\n",
       "<style scoped>\n",
       "    .dataframe tbody tr th:only-of-type {\n",
       "        vertical-align: middle;\n",
       "    }\n",
       "\n",
       "    .dataframe tbody tr th {\n",
       "        vertical-align: top;\n",
       "    }\n",
       "\n",
       "    .dataframe thead th {\n",
       "        text-align: right;\n",
       "    }\n",
       "</style>\n",
       "<table border=\"1\" class=\"dataframe\">\n",
       "  <thead>\n",
       "    <tr style=\"text-align: right;\">\n",
       "      <th></th>\n",
       "      <th>raisedhands</th>\n",
       "      <th>VisITedResources</th>\n",
       "      <th>AnnouncementsView</th>\n",
       "      <th>Discussion</th>\n",
       "    </tr>\n",
       "  </thead>\n",
       "  <tbody>\n",
       "    <tr>\n",
       "      <th>0</th>\n",
       "      <td>15</td>\n",
       "      <td>16</td>\n",
       "      <td>2</td>\n",
       "      <td>20</td>\n",
       "    </tr>\n",
       "    <tr>\n",
       "      <th>1</th>\n",
       "      <td>20</td>\n",
       "      <td>20</td>\n",
       "      <td>3</td>\n",
       "      <td>25</td>\n",
       "    </tr>\n",
       "    <tr>\n",
       "      <th>2</th>\n",
       "      <td>10</td>\n",
       "      <td>7</td>\n",
       "      <td>0</td>\n",
       "      <td>30</td>\n",
       "    </tr>\n",
       "    <tr>\n",
       "      <th>3</th>\n",
       "      <td>30</td>\n",
       "      <td>25</td>\n",
       "      <td>5</td>\n",
       "      <td>35</td>\n",
       "    </tr>\n",
       "    <tr>\n",
       "      <th>4</th>\n",
       "      <td>40</td>\n",
       "      <td>50</td>\n",
       "      <td>12</td>\n",
       "      <td>50</td>\n",
       "    </tr>\n",
       "  </tbody>\n",
       "</table>\n",
       "</div>"
      ],
      "text/plain": [
       "   raisedhands  VisITedResources  AnnouncementsView  Discussion\n",
       "0           15                16                  2          20\n",
       "1           20                20                  3          25\n",
       "2           10                 7                  0          30\n",
       "3           30                25                  5          35\n",
       "4           40                50                 12          50"
      ]
     },
     "execution_count": 21,
     "metadata": {},
     "output_type": "execute_result"
    }
   ],
   "source": [
    "# Qualitative Variable\n",
    "Quantitative_Variable = Edu[Edu.select_dtypes(include=[np.number]).columns.tolist()]\n",
    "Quantitative_Variable.head()"
   ]
  },
  {
   "cell_type": "code",
   "execution_count": 22,
   "metadata": {},
   "outputs": [
    {
     "data": {
      "text/html": [
       "<div>\n",
       "<style scoped>\n",
       "    .dataframe tbody tr th:only-of-type {\n",
       "        vertical-align: middle;\n",
       "    }\n",
       "\n",
       "    .dataframe tbody tr th {\n",
       "        vertical-align: top;\n",
       "    }\n",
       "\n",
       "    .dataframe thead th {\n",
       "        text-align: right;\n",
       "    }\n",
       "</style>\n",
       "<table border=\"1\" class=\"dataframe\">\n",
       "  <thead>\n",
       "    <tr style=\"text-align: right;\">\n",
       "      <th></th>\n",
       "      <th>gender</th>\n",
       "      <th>NationalITy</th>\n",
       "      <th>PlaceofBirth</th>\n",
       "      <th>StageID</th>\n",
       "      <th>GradeID</th>\n",
       "      <th>SectionID</th>\n",
       "      <th>Topic</th>\n",
       "      <th>Semester</th>\n",
       "      <th>Relation</th>\n",
       "      <th>ParentAnsweringSurvey</th>\n",
       "      <th>ParentschoolSatisfaction</th>\n",
       "      <th>StudentAbsenceDays</th>\n",
       "      <th>Class</th>\n",
       "    </tr>\n",
       "  </thead>\n",
       "  <tbody>\n",
       "    <tr>\n",
       "      <th>0</th>\n",
       "      <td>M</td>\n",
       "      <td>KW</td>\n",
       "      <td>KuwaIT</td>\n",
       "      <td>lowerlevel</td>\n",
       "      <td>G-04</td>\n",
       "      <td>A</td>\n",
       "      <td>IT</td>\n",
       "      <td>F</td>\n",
       "      <td>Father</td>\n",
       "      <td>Yes</td>\n",
       "      <td>Good</td>\n",
       "      <td>Under-7</td>\n",
       "      <td>M</td>\n",
       "    </tr>\n",
       "    <tr>\n",
       "      <th>1</th>\n",
       "      <td>M</td>\n",
       "      <td>KW</td>\n",
       "      <td>KuwaIT</td>\n",
       "      <td>lowerlevel</td>\n",
       "      <td>G-04</td>\n",
       "      <td>A</td>\n",
       "      <td>IT</td>\n",
       "      <td>F</td>\n",
       "      <td>Father</td>\n",
       "      <td>Yes</td>\n",
       "      <td>Good</td>\n",
       "      <td>Under-7</td>\n",
       "      <td>M</td>\n",
       "    </tr>\n",
       "    <tr>\n",
       "      <th>2</th>\n",
       "      <td>M</td>\n",
       "      <td>KW</td>\n",
       "      <td>KuwaIT</td>\n",
       "      <td>lowerlevel</td>\n",
       "      <td>G-04</td>\n",
       "      <td>A</td>\n",
       "      <td>IT</td>\n",
       "      <td>F</td>\n",
       "      <td>Father</td>\n",
       "      <td>No</td>\n",
       "      <td>Bad</td>\n",
       "      <td>Above-7</td>\n",
       "      <td>L</td>\n",
       "    </tr>\n",
       "    <tr>\n",
       "      <th>3</th>\n",
       "      <td>M</td>\n",
       "      <td>KW</td>\n",
       "      <td>KuwaIT</td>\n",
       "      <td>lowerlevel</td>\n",
       "      <td>G-04</td>\n",
       "      <td>A</td>\n",
       "      <td>IT</td>\n",
       "      <td>F</td>\n",
       "      <td>Father</td>\n",
       "      <td>No</td>\n",
       "      <td>Bad</td>\n",
       "      <td>Above-7</td>\n",
       "      <td>L</td>\n",
       "    </tr>\n",
       "    <tr>\n",
       "      <th>4</th>\n",
       "      <td>M</td>\n",
       "      <td>KW</td>\n",
       "      <td>KuwaIT</td>\n",
       "      <td>lowerlevel</td>\n",
       "      <td>G-04</td>\n",
       "      <td>A</td>\n",
       "      <td>IT</td>\n",
       "      <td>F</td>\n",
       "      <td>Father</td>\n",
       "      <td>No</td>\n",
       "      <td>Bad</td>\n",
       "      <td>Above-7</td>\n",
       "      <td>M</td>\n",
       "    </tr>\n",
       "  </tbody>\n",
       "</table>\n",
       "</div>"
      ],
      "text/plain": [
       "  gender NationalITy PlaceofBirth     StageID GradeID SectionID Topic  \\\n",
       "0      M          KW       KuwaIT  lowerlevel    G-04         A    IT   \n",
       "1      M          KW       KuwaIT  lowerlevel    G-04         A    IT   \n",
       "2      M          KW       KuwaIT  lowerlevel    G-04         A    IT   \n",
       "3      M          KW       KuwaIT  lowerlevel    G-04         A    IT   \n",
       "4      M          KW       KuwaIT  lowerlevel    G-04         A    IT   \n",
       "\n",
       "  Semester Relation ParentAnsweringSurvey ParentschoolSatisfaction  \\\n",
       "0        F   Father                   Yes                     Good   \n",
       "1        F   Father                   Yes                     Good   \n",
       "2        F   Father                    No                      Bad   \n",
       "3        F   Father                    No                      Bad   \n",
       "4        F   Father                    No                      Bad   \n",
       "\n",
       "  StudentAbsenceDays Class  \n",
       "0            Under-7     M  \n",
       "1            Under-7     M  \n",
       "2            Above-7     L  \n",
       "3            Above-7     L  \n",
       "4            Above-7     M  "
      ]
     },
     "execution_count": 22,
     "metadata": {},
     "output_type": "execute_result"
    }
   ],
   "source": [
    "Qualitative_Variable = Edu[Edu.select_dtypes(include=['object']).columns.tolist()]\n",
    "Qualitative_Variable.head()"
   ]
  },
  {
   "cell_type": "markdown",
   "metadata": {},
   "source": [
    "### Converting Qualitative Variable into Number"
   ]
  },
  {
   "cell_type": "code",
   "execution_count": 23,
   "metadata": {},
   "outputs": [
    {
     "data": {
      "text/html": [
       "<div>\n",
       "<style scoped>\n",
       "    .dataframe tbody tr th:only-of-type {\n",
       "        vertical-align: middle;\n",
       "    }\n",
       "\n",
       "    .dataframe tbody tr th {\n",
       "        vertical-align: top;\n",
       "    }\n",
       "\n",
       "    .dataframe thead th {\n",
       "        text-align: right;\n",
       "    }\n",
       "</style>\n",
       "<table border=\"1\" class=\"dataframe\">\n",
       "  <thead>\n",
       "    <tr style=\"text-align: right;\">\n",
       "      <th></th>\n",
       "      <th>gender</th>\n",
       "      <th>NationalITy</th>\n",
       "      <th>PlaceofBirth</th>\n",
       "      <th>StageID</th>\n",
       "      <th>GradeID</th>\n",
       "      <th>SectionID</th>\n",
       "      <th>Topic</th>\n",
       "      <th>Semester</th>\n",
       "      <th>Relation</th>\n",
       "      <th>ParentAnsweringSurvey</th>\n",
       "      <th>ParentschoolSatisfaction</th>\n",
       "      <th>StudentAbsenceDays</th>\n",
       "      <th>Class</th>\n",
       "    </tr>\n",
       "  </thead>\n",
       "  <tbody>\n",
       "    <tr>\n",
       "      <th>0</th>\n",
       "      <td>1</td>\n",
       "      <td>4</td>\n",
       "      <td>4</td>\n",
       "      <td>2</td>\n",
       "      <td>1</td>\n",
       "      <td>0</td>\n",
       "      <td>7</td>\n",
       "      <td>0</td>\n",
       "      <td>0</td>\n",
       "      <td>1</td>\n",
       "      <td>1</td>\n",
       "      <td>1</td>\n",
       "      <td>2</td>\n",
       "    </tr>\n",
       "    <tr>\n",
       "      <th>1</th>\n",
       "      <td>1</td>\n",
       "      <td>4</td>\n",
       "      <td>4</td>\n",
       "      <td>2</td>\n",
       "      <td>1</td>\n",
       "      <td>0</td>\n",
       "      <td>7</td>\n",
       "      <td>0</td>\n",
       "      <td>0</td>\n",
       "      <td>1</td>\n",
       "      <td>1</td>\n",
       "      <td>1</td>\n",
       "      <td>2</td>\n",
       "    </tr>\n",
       "    <tr>\n",
       "      <th>2</th>\n",
       "      <td>1</td>\n",
       "      <td>4</td>\n",
       "      <td>4</td>\n",
       "      <td>2</td>\n",
       "      <td>1</td>\n",
       "      <td>0</td>\n",
       "      <td>7</td>\n",
       "      <td>0</td>\n",
       "      <td>0</td>\n",
       "      <td>0</td>\n",
       "      <td>0</td>\n",
       "      <td>0</td>\n",
       "      <td>1</td>\n",
       "    </tr>\n",
       "    <tr>\n",
       "      <th>3</th>\n",
       "      <td>1</td>\n",
       "      <td>4</td>\n",
       "      <td>4</td>\n",
       "      <td>2</td>\n",
       "      <td>1</td>\n",
       "      <td>0</td>\n",
       "      <td>7</td>\n",
       "      <td>0</td>\n",
       "      <td>0</td>\n",
       "      <td>0</td>\n",
       "      <td>0</td>\n",
       "      <td>0</td>\n",
       "      <td>1</td>\n",
       "    </tr>\n",
       "    <tr>\n",
       "      <th>4</th>\n",
       "      <td>1</td>\n",
       "      <td>4</td>\n",
       "      <td>4</td>\n",
       "      <td>2</td>\n",
       "      <td>1</td>\n",
       "      <td>0</td>\n",
       "      <td>7</td>\n",
       "      <td>0</td>\n",
       "      <td>0</td>\n",
       "      <td>0</td>\n",
       "      <td>0</td>\n",
       "      <td>0</td>\n",
       "      <td>2</td>\n",
       "    </tr>\n",
       "  </tbody>\n",
       "</table>\n",
       "</div>"
      ],
      "text/plain": [
       "   gender  NationalITy  PlaceofBirth  StageID  GradeID  SectionID  Topic  \\\n",
       "0       1            4             4        2        1          0      7   \n",
       "1       1            4             4        2        1          0      7   \n",
       "2       1            4             4        2        1          0      7   \n",
       "3       1            4             4        2        1          0      7   \n",
       "4       1            4             4        2        1          0      7   \n",
       "\n",
       "   Semester  Relation  ParentAnsweringSurvey  ParentschoolSatisfaction  \\\n",
       "0         0         0                      1                         1   \n",
       "1         0         0                      1                         1   \n",
       "2         0         0                      0                         0   \n",
       "3         0         0                      0                         0   \n",
       "4         0         0                      0                         0   \n",
       "\n",
       "   StudentAbsenceDays  Class  \n",
       "0                   1      2  \n",
       "1                   1      2  \n",
       "2                   0      1  \n",
       "3                   0      1  \n",
       "4                   0      2  "
      ]
     },
     "execution_count": 23,
     "metadata": {},
     "output_type": "execute_result"
    }
   ],
   "source": [
    "from sklearn.preprocessing import LabelEncoder\n",
    "Qualitative_Variable=Qualitative_Variable.apply(LabelEncoder().fit_transform) # label in ascending order\n",
    "Qualitative_Variable.head()"
   ]
  },
  {
   "cell_type": "markdown",
   "metadata": {},
   "source": [
    "### Combining the Dataset"
   ]
  },
  {
   "cell_type": "code",
   "execution_count": 24,
   "metadata": {},
   "outputs": [
    {
     "data": {
      "text/html": [
       "<div>\n",
       "<style scoped>\n",
       "    .dataframe tbody tr th:only-of-type {\n",
       "        vertical-align: middle;\n",
       "    }\n",
       "\n",
       "    .dataframe tbody tr th {\n",
       "        vertical-align: top;\n",
       "    }\n",
       "\n",
       "    .dataframe thead th {\n",
       "        text-align: right;\n",
       "    }\n",
       "</style>\n",
       "<table border=\"1\" class=\"dataframe\">\n",
       "  <thead>\n",
       "    <tr style=\"text-align: right;\">\n",
       "      <th></th>\n",
       "      <th>gender</th>\n",
       "      <th>NationalITy</th>\n",
       "      <th>PlaceofBirth</th>\n",
       "      <th>StageID</th>\n",
       "      <th>GradeID</th>\n",
       "      <th>SectionID</th>\n",
       "      <th>Topic</th>\n",
       "      <th>Semester</th>\n",
       "      <th>Relation</th>\n",
       "      <th>ParentAnsweringSurvey</th>\n",
       "      <th>ParentschoolSatisfaction</th>\n",
       "      <th>StudentAbsenceDays</th>\n",
       "      <th>Class</th>\n",
       "      <th>raisedhands</th>\n",
       "      <th>VisITedResources</th>\n",
       "      <th>AnnouncementsView</th>\n",
       "      <th>Discussion</th>\n",
       "    </tr>\n",
       "  </thead>\n",
       "  <tbody>\n",
       "    <tr>\n",
       "      <th>0</th>\n",
       "      <td>1</td>\n",
       "      <td>4</td>\n",
       "      <td>4</td>\n",
       "      <td>2</td>\n",
       "      <td>1</td>\n",
       "      <td>0</td>\n",
       "      <td>7</td>\n",
       "      <td>0</td>\n",
       "      <td>0</td>\n",
       "      <td>1</td>\n",
       "      <td>1</td>\n",
       "      <td>1</td>\n",
       "      <td>2</td>\n",
       "      <td>15</td>\n",
       "      <td>16</td>\n",
       "      <td>2</td>\n",
       "      <td>20</td>\n",
       "    </tr>\n",
       "    <tr>\n",
       "      <th>1</th>\n",
       "      <td>1</td>\n",
       "      <td>4</td>\n",
       "      <td>4</td>\n",
       "      <td>2</td>\n",
       "      <td>1</td>\n",
       "      <td>0</td>\n",
       "      <td>7</td>\n",
       "      <td>0</td>\n",
       "      <td>0</td>\n",
       "      <td>1</td>\n",
       "      <td>1</td>\n",
       "      <td>1</td>\n",
       "      <td>2</td>\n",
       "      <td>20</td>\n",
       "      <td>20</td>\n",
       "      <td>3</td>\n",
       "      <td>25</td>\n",
       "    </tr>\n",
       "    <tr>\n",
       "      <th>2</th>\n",
       "      <td>1</td>\n",
       "      <td>4</td>\n",
       "      <td>4</td>\n",
       "      <td>2</td>\n",
       "      <td>1</td>\n",
       "      <td>0</td>\n",
       "      <td>7</td>\n",
       "      <td>0</td>\n",
       "      <td>0</td>\n",
       "      <td>0</td>\n",
       "      <td>0</td>\n",
       "      <td>0</td>\n",
       "      <td>1</td>\n",
       "      <td>10</td>\n",
       "      <td>7</td>\n",
       "      <td>0</td>\n",
       "      <td>30</td>\n",
       "    </tr>\n",
       "    <tr>\n",
       "      <th>3</th>\n",
       "      <td>1</td>\n",
       "      <td>4</td>\n",
       "      <td>4</td>\n",
       "      <td>2</td>\n",
       "      <td>1</td>\n",
       "      <td>0</td>\n",
       "      <td>7</td>\n",
       "      <td>0</td>\n",
       "      <td>0</td>\n",
       "      <td>0</td>\n",
       "      <td>0</td>\n",
       "      <td>0</td>\n",
       "      <td>1</td>\n",
       "      <td>30</td>\n",
       "      <td>25</td>\n",
       "      <td>5</td>\n",
       "      <td>35</td>\n",
       "    </tr>\n",
       "    <tr>\n",
       "      <th>4</th>\n",
       "      <td>1</td>\n",
       "      <td>4</td>\n",
       "      <td>4</td>\n",
       "      <td>2</td>\n",
       "      <td>1</td>\n",
       "      <td>0</td>\n",
       "      <td>7</td>\n",
       "      <td>0</td>\n",
       "      <td>0</td>\n",
       "      <td>0</td>\n",
       "      <td>0</td>\n",
       "      <td>0</td>\n",
       "      <td>2</td>\n",
       "      <td>40</td>\n",
       "      <td>50</td>\n",
       "      <td>12</td>\n",
       "      <td>50</td>\n",
       "    </tr>\n",
       "  </tbody>\n",
       "</table>\n",
       "</div>"
      ],
      "text/plain": [
       "   gender  NationalITy  PlaceofBirth  StageID  GradeID  SectionID  Topic  \\\n",
       "0       1            4             4        2        1          0      7   \n",
       "1       1            4             4        2        1          0      7   \n",
       "2       1            4             4        2        1          0      7   \n",
       "3       1            4             4        2        1          0      7   \n",
       "4       1            4             4        2        1          0      7   \n",
       "\n",
       "   Semester  Relation  ParentAnsweringSurvey  ParentschoolSatisfaction  \\\n",
       "0         0         0                      1                         1   \n",
       "1         0         0                      1                         1   \n",
       "2         0         0                      0                         0   \n",
       "3         0         0                      0                         0   \n",
       "4         0         0                      0                         0   \n",
       "\n",
       "   StudentAbsenceDays  Class  raisedhands  VisITedResources  \\\n",
       "0                   1      2           15                16   \n",
       "1                   1      2           20                20   \n",
       "2                   0      1           10                 7   \n",
       "3                   0      1           30                25   \n",
       "4                   0      2           40                50   \n",
       "\n",
       "   AnnouncementsView  Discussion  \n",
       "0                  2          20  \n",
       "1                  3          25  \n",
       "2                  0          30  \n",
       "3                  5          35  \n",
       "4                 12          50  "
      ]
     },
     "execution_count": 24,
     "metadata": {},
     "output_type": "execute_result"
    }
   ],
   "source": [
    "Final_combined = pd.concat([Qualitative_Variable, Quantitative_Variable],axis=1)\n",
    "Final_combined.head()"
   ]
  },
  {
   "cell_type": "markdown",
   "metadata": {},
   "source": [
    "## Data Partition"
   ]
  },
  {
   "cell_type": "code",
   "execution_count": 25,
   "metadata": {},
   "outputs": [],
   "source": [
    "from sklearn.model_selection import train_test_split\n",
    "\n",
    "# define our input variable (X) & output variable\n",
    "X = Final_combined.drop('Class', axis = 1)\n",
    "Y = Final_combined[['Class']]\n",
    "# Split X and y into X_\n",
    "X_train, X_test, y_train, y_test = train_test_split(X, Y, test_size=0.30, random_state=15)"
   ]
  },
  {
   "cell_type": "markdown",
   "metadata": {},
   "source": [
    "## Model Building"
   ]
  },
  {
   "cell_type": "markdown",
   "metadata": {},
   "source": [
    "## Hypothesis\n",
    "\n",
    "* H0 :- There is no log linear relationship between Class and all independent Variable\n",
    "\n",
    "Vs \n",
    "\n",
    "* H1 :- There is log linear relationship between Class and all independent Variable\n",
    "\n",
    "Alpha = 0.05 (5%)"
   ]
  },
  {
   "cell_type": "markdown",
   "metadata": {},
   "source": [
    "## Method : Logistic Regression"
   ]
  },
  {
   "cell_type": "code",
   "execution_count": 26,
   "metadata": {},
   "outputs": [],
   "source": [
    "from sklearn.linear_model import LogisticRegression\n",
    "from sklearn import metrics\n",
    "logreg = LogisticRegression(solver=\"liblinear\")\n",
    "output=logreg.fit(X_train, y_train)"
   ]
  },
  {
   "cell_type": "code",
   "execution_count": 27,
   "metadata": {},
   "outputs": [
    {
     "data": {
      "text/plain": [
       "array([-1.66294024,  0.23663517,  0.20242868])"
      ]
     },
     "execution_count": 27,
     "metadata": {},
     "output_type": "execute_result"
    }
   ],
   "source": [
    "output.intercept_ # B0"
   ]
  },
  {
   "cell_type": "code",
   "execution_count": 28,
   "metadata": {},
   "outputs": [
    {
     "data": {
      "text/plain": [
       "array([[-6.50994425e-01, -1.24322900e-01,  1.55183471e-01,\n",
       "        -1.75801239e+00, -5.61132864e-01,  8.60068585e-02,\n",
       "        -8.17399462e-02,  1.57690704e-01,  8.25217484e-01,\n",
       "         7.33098347e-01,  4.93283482e-01,  2.04867543e+00,\n",
       "         3.21652243e-02,  6.68495346e-03, -3.98753895e-03,\n",
       "         1.17417710e-02],\n",
       "       [ 4.41974465e-01,  2.54909153e-01, -2.24232912e-01,\n",
       "         1.15080293e+00,  2.95220227e-01, -1.64012460e-03,\n",
       "         3.48309458e-02,  6.75259985e-01,  1.68623006e-01,\n",
       "        -1.06060494e+00, -1.60112860e-01, -2.94793852e+00,\n",
       "        -2.63304398e-02, -3.03611483e-02, -3.10654179e-02,\n",
       "        -1.12534257e-03],\n",
       "       [ 1.51405028e-01,  1.51372280e-02, -8.21378578e-02,\n",
       "        -3.75709259e-01, -2.36309804e-02,  1.60054322e-04,\n",
       "         2.89310159e-02, -1.73946484e-01, -7.40952242e-01,\n",
       "         1.47482303e-01, -3.38918909e-01,  5.33914233e-01,\n",
       "        -1.55680323e-02,  1.77174532e-02,  1.15769053e-02,\n",
       "        -8.58176581e-03]])"
      ]
     },
     "execution_count": 28,
     "metadata": {},
     "output_type": "execute_result"
    }
   ],
   "source": [
    "output.coef_ #B1"
   ]
  },
  {
   "cell_type": "code",
   "execution_count": 29,
   "metadata": {},
   "outputs": [
    {
     "data": {
      "text/plain": [
       "16"
      ]
     },
     "execution_count": 29,
     "metadata": {},
     "output_type": "execute_result"
    }
   ],
   "source": [
    "output.n_features_in_"
   ]
  },
  {
   "cell_type": "markdown",
   "metadata": {},
   "source": [
    "####  We Reject Ho\n",
    "* There is log linear relationship between There is log linear relationship between Class\n",
    "  and all independent Variable"
   ]
  },
  {
   "cell_type": "markdown",
   "metadata": {},
   "source": [
    "## Predictions on Train Dataset"
   ]
  },
  {
   "cell_type": "code",
   "execution_count": 30,
   "metadata": {},
   "outputs": [
    {
     "data": {
      "text/html": [
       "<div>\n",
       "<style scoped>\n",
       "    .dataframe tbody tr th:only-of-type {\n",
       "        vertical-align: middle;\n",
       "    }\n",
       "\n",
       "    .dataframe tbody tr th {\n",
       "        vertical-align: top;\n",
       "    }\n",
       "\n",
       "    .dataframe thead th {\n",
       "        text-align: right;\n",
       "    }\n",
       "</style>\n",
       "<table border=\"1\" class=\"dataframe\">\n",
       "  <thead>\n",
       "    <tr style=\"text-align: right;\">\n",
       "      <th></th>\n",
       "      <th>gender</th>\n",
       "      <th>NationalITy</th>\n",
       "      <th>PlaceofBirth</th>\n",
       "      <th>StageID</th>\n",
       "      <th>GradeID</th>\n",
       "      <th>SectionID</th>\n",
       "      <th>Topic</th>\n",
       "      <th>Semester</th>\n",
       "      <th>Relation</th>\n",
       "      <th>ParentAnsweringSurvey</th>\n",
       "      <th>ParentschoolSatisfaction</th>\n",
       "      <th>StudentAbsenceDays</th>\n",
       "      <th>raisedhands</th>\n",
       "      <th>VisITedResources</th>\n",
       "      <th>AnnouncementsView</th>\n",
       "      <th>Discussion</th>\n",
       "      <th>Class</th>\n",
       "    </tr>\n",
       "  </thead>\n",
       "  <tbody>\n",
       "    <tr>\n",
       "      <th>241</th>\n",
       "      <td>1</td>\n",
       "      <td>0</td>\n",
       "      <td>0</td>\n",
       "      <td>1</td>\n",
       "      <td>4</td>\n",
       "      <td>1</td>\n",
       "      <td>10</td>\n",
       "      <td>1</td>\n",
       "      <td>0</td>\n",
       "      <td>1</td>\n",
       "      <td>1</td>\n",
       "      <td>1</td>\n",
       "      <td>72</td>\n",
       "      <td>80</td>\n",
       "      <td>58</td>\n",
       "      <td>86</td>\n",
       "      <td>2</td>\n",
       "    </tr>\n",
       "    <tr>\n",
       "      <th>336</th>\n",
       "      <td>0</td>\n",
       "      <td>7</td>\n",
       "      <td>3</td>\n",
       "      <td>2</td>\n",
       "      <td>0</td>\n",
       "      <td>0</td>\n",
       "      <td>4</td>\n",
       "      <td>0</td>\n",
       "      <td>1</td>\n",
       "      <td>0</td>\n",
       "      <td>1</td>\n",
       "      <td>1</td>\n",
       "      <td>70</td>\n",
       "      <td>90</td>\n",
       "      <td>20</td>\n",
       "      <td>21</td>\n",
       "      <td>2</td>\n",
       "    </tr>\n",
       "    <tr>\n",
       "      <th>12</th>\n",
       "      <td>1</td>\n",
       "      <td>4</td>\n",
       "      <td>4</td>\n",
       "      <td>2</td>\n",
       "      <td>1</td>\n",
       "      <td>0</td>\n",
       "      <td>7</td>\n",
       "      <td>0</td>\n",
       "      <td>0</td>\n",
       "      <td>0</td>\n",
       "      <td>0</td>\n",
       "      <td>0</td>\n",
       "      <td>5</td>\n",
       "      <td>1</td>\n",
       "      <td>0</td>\n",
       "      <td>11</td>\n",
       "      <td>1</td>\n",
       "    </tr>\n",
       "    <tr>\n",
       "      <th>292</th>\n",
       "      <td>0</td>\n",
       "      <td>7</td>\n",
       "      <td>7</td>\n",
       "      <td>2</td>\n",
       "      <td>1</td>\n",
       "      <td>0</td>\n",
       "      <td>10</td>\n",
       "      <td>0</td>\n",
       "      <td>1</td>\n",
       "      <td>1</td>\n",
       "      <td>1</td>\n",
       "      <td>1</td>\n",
       "      <td>90</td>\n",
       "      <td>86</td>\n",
       "      <td>82</td>\n",
       "      <td>74</td>\n",
       "      <td>0</td>\n",
       "    </tr>\n",
       "    <tr>\n",
       "      <th>127</th>\n",
       "      <td>1</td>\n",
       "      <td>4</td>\n",
       "      <td>4</td>\n",
       "      <td>2</td>\n",
       "      <td>0</td>\n",
       "      <td>1</td>\n",
       "      <td>7</td>\n",
       "      <td>0</td>\n",
       "      <td>0</td>\n",
       "      <td>0</td>\n",
       "      <td>0</td>\n",
       "      <td>0</td>\n",
       "      <td>55</td>\n",
       "      <td>33</td>\n",
       "      <td>6</td>\n",
       "      <td>9</td>\n",
       "      <td>1</td>\n",
       "    </tr>\n",
       "  </tbody>\n",
       "</table>\n",
       "</div>"
      ],
      "text/plain": [
       "     gender  NationalITy  PlaceofBirth  StageID  GradeID  SectionID  Topic  \\\n",
       "241       1            0             0        1        4          1     10   \n",
       "336       0            7             3        2        0          0      4   \n",
       "12        1            4             4        2        1          0      7   \n",
       "292       0            7             7        2        1          0     10   \n",
       "127       1            4             4        2        0          1      7   \n",
       "\n",
       "     Semester  Relation  ParentAnsweringSurvey  ParentschoolSatisfaction  \\\n",
       "241         1         0                      1                         1   \n",
       "336         0         1                      0                         1   \n",
       "12          0         0                      0                         0   \n",
       "292         0         1                      1                         1   \n",
       "127         0         0                      0                         0   \n",
       "\n",
       "     StudentAbsenceDays  raisedhands  VisITedResources  AnnouncementsView  \\\n",
       "241                   1           72                80                 58   \n",
       "336                   1           70                90                 20   \n",
       "12                    0            5                 1                  0   \n",
       "292                   1           90                86                 82   \n",
       "127                   0           55                33                  6   \n",
       "\n",
       "     Discussion  Class  \n",
       "241          86      2  \n",
       "336          21      2  \n",
       "12           11      1  \n",
       "292          74      0  \n",
       "127           9      1  "
      ]
     },
     "execution_count": 30,
     "metadata": {},
     "output_type": "execute_result"
    }
   ],
   "source": [
    "train=pd.concat([X_train,y_train],axis=1)\n",
    "train.head()"
   ]
  },
  {
   "cell_type": "code",
   "execution_count": 31,
   "metadata": {},
   "outputs": [
    {
     "data": {
      "text/html": [
       "<div>\n",
       "<style scoped>\n",
       "    .dataframe tbody tr th:only-of-type {\n",
       "        vertical-align: middle;\n",
       "    }\n",
       "\n",
       "    .dataframe tbody tr th {\n",
       "        vertical-align: top;\n",
       "    }\n",
       "\n",
       "    .dataframe thead th {\n",
       "        text-align: right;\n",
       "    }\n",
       "</style>\n",
       "<table border=\"1\" class=\"dataframe\">\n",
       "  <thead>\n",
       "    <tr style=\"text-align: right;\">\n",
       "      <th></th>\n",
       "      <th>gender</th>\n",
       "      <th>NationalITy</th>\n",
       "      <th>PlaceofBirth</th>\n",
       "      <th>StageID</th>\n",
       "      <th>GradeID</th>\n",
       "      <th>SectionID</th>\n",
       "      <th>Topic</th>\n",
       "      <th>Semester</th>\n",
       "      <th>Relation</th>\n",
       "      <th>ParentAnsweringSurvey</th>\n",
       "      <th>ParentschoolSatisfaction</th>\n",
       "      <th>StudentAbsenceDays</th>\n",
       "      <th>raisedhands</th>\n",
       "      <th>VisITedResources</th>\n",
       "      <th>AnnouncementsView</th>\n",
       "      <th>Discussion</th>\n",
       "      <th>Class</th>\n",
       "      <th>Predicted</th>\n",
       "    </tr>\n",
       "  </thead>\n",
       "  <tbody>\n",
       "    <tr>\n",
       "      <th>241</th>\n",
       "      <td>1</td>\n",
       "      <td>0</td>\n",
       "      <td>0</td>\n",
       "      <td>1</td>\n",
       "      <td>4</td>\n",
       "      <td>1</td>\n",
       "      <td>10</td>\n",
       "      <td>1</td>\n",
       "      <td>0</td>\n",
       "      <td>1</td>\n",
       "      <td>1</td>\n",
       "      <td>1</td>\n",
       "      <td>72</td>\n",
       "      <td>80</td>\n",
       "      <td>58</td>\n",
       "      <td>86</td>\n",
       "      <td>2</td>\n",
       "      <td>2</td>\n",
       "    </tr>\n",
       "    <tr>\n",
       "      <th>336</th>\n",
       "      <td>0</td>\n",
       "      <td>7</td>\n",
       "      <td>3</td>\n",
       "      <td>2</td>\n",
       "      <td>0</td>\n",
       "      <td>0</td>\n",
       "      <td>4</td>\n",
       "      <td>0</td>\n",
       "      <td>1</td>\n",
       "      <td>0</td>\n",
       "      <td>1</td>\n",
       "      <td>1</td>\n",
       "      <td>70</td>\n",
       "      <td>90</td>\n",
       "      <td>20</td>\n",
       "      <td>21</td>\n",
       "      <td>2</td>\n",
       "      <td>0</td>\n",
       "    </tr>\n",
       "    <tr>\n",
       "      <th>12</th>\n",
       "      <td>1</td>\n",
       "      <td>4</td>\n",
       "      <td>4</td>\n",
       "      <td>2</td>\n",
       "      <td>1</td>\n",
       "      <td>0</td>\n",
       "      <td>7</td>\n",
       "      <td>0</td>\n",
       "      <td>0</td>\n",
       "      <td>0</td>\n",
       "      <td>0</td>\n",
       "      <td>0</td>\n",
       "      <td>5</td>\n",
       "      <td>1</td>\n",
       "      <td>0</td>\n",
       "      <td>11</td>\n",
       "      <td>1</td>\n",
       "      <td>1</td>\n",
       "    </tr>\n",
       "    <tr>\n",
       "      <th>292</th>\n",
       "      <td>0</td>\n",
       "      <td>7</td>\n",
       "      <td>7</td>\n",
       "      <td>2</td>\n",
       "      <td>1</td>\n",
       "      <td>0</td>\n",
       "      <td>10</td>\n",
       "      <td>0</td>\n",
       "      <td>1</td>\n",
       "      <td>1</td>\n",
       "      <td>1</td>\n",
       "      <td>1</td>\n",
       "      <td>90</td>\n",
       "      <td>86</td>\n",
       "      <td>82</td>\n",
       "      <td>74</td>\n",
       "      <td>0</td>\n",
       "      <td>0</td>\n",
       "    </tr>\n",
       "    <tr>\n",
       "      <th>127</th>\n",
       "      <td>1</td>\n",
       "      <td>4</td>\n",
       "      <td>4</td>\n",
       "      <td>2</td>\n",
       "      <td>0</td>\n",
       "      <td>1</td>\n",
       "      <td>7</td>\n",
       "      <td>0</td>\n",
       "      <td>0</td>\n",
       "      <td>0</td>\n",
       "      <td>0</td>\n",
       "      <td>0</td>\n",
       "      <td>55</td>\n",
       "      <td>33</td>\n",
       "      <td>6</td>\n",
       "      <td>9</td>\n",
       "      <td>1</td>\n",
       "      <td>1</td>\n",
       "    </tr>\n",
       "  </tbody>\n",
       "</table>\n",
       "</div>"
      ],
      "text/plain": [
       "     gender  NationalITy  PlaceofBirth  StageID  GradeID  SectionID  Topic  \\\n",
       "241       1            0             0        1        4          1     10   \n",
       "336       0            7             3        2        0          0      4   \n",
       "12        1            4             4        2        1          0      7   \n",
       "292       0            7             7        2        1          0     10   \n",
       "127       1            4             4        2        0          1      7   \n",
       "\n",
       "     Semester  Relation  ParentAnsweringSurvey  ParentschoolSatisfaction  \\\n",
       "241         1         0                      1                         1   \n",
       "336         0         1                      0                         1   \n",
       "12          0         0                      0                         0   \n",
       "292         0         1                      1                         1   \n",
       "127         0         0                      0                         0   \n",
       "\n",
       "     StudentAbsenceDays  raisedhands  VisITedResources  AnnouncementsView  \\\n",
       "241                   1           72                80                 58   \n",
       "336                   1           70                90                 20   \n",
       "12                    0            5                 1                  0   \n",
       "292                   1           90                86                 82   \n",
       "127                   0           55                33                  6   \n",
       "\n",
       "     Discussion  Class  Predicted  \n",
       "241          86      2          2  \n",
       "336          21      2          0  \n",
       "12           11      1          1  \n",
       "292          74      0          0  \n",
       "127           9      1          1  "
      ]
     },
     "execution_count": 31,
     "metadata": {},
     "output_type": "execute_result"
    }
   ],
   "source": [
    "train['Predicted']=output.predict(X_train)\n",
    "train.head()"
   ]
  },
  {
   "cell_type": "markdown",
   "metadata": {},
   "source": [
    "## Model Performance Metrics"
   ]
  },
  {
   "cell_type": "code",
   "execution_count": 32,
   "metadata": {},
   "outputs": [
    {
     "data": {
      "text/plain": [
       "array([[ 75,   0,  27],\n",
       "       [  0,  73,  13],\n",
       "       [ 30,  11, 107]], dtype=int64)"
      ]
     },
     "execution_count": 32,
     "metadata": {},
     "output_type": "execute_result"
    }
   ],
   "source": [
    "from sklearn.metrics import confusion_matrix\n",
    "matrix = confusion_matrix(train['Predicted'], train['Class'])\n",
    "matrix"
   ]
  },
  {
   "cell_type": "code",
   "execution_count": 33,
   "metadata": {},
   "outputs": [
    {
     "name": "stdout",
     "output_type": "stream",
     "text": [
      "              precision    recall  f1-score   support\n",
      "\n",
      "           0       0.74      0.71      0.72       105\n",
      "           1       0.85      0.87      0.86        84\n",
      "           2       0.72      0.73      0.73       147\n",
      "\n",
      "    accuracy                           0.76       336\n",
      "   macro avg       0.77      0.77      0.77       336\n",
      "weighted avg       0.76      0.76      0.76       336\n",
      "\n"
     ]
    }
   ],
   "source": [
    "from sklearn.metrics import classification_report\n",
    "print(classification_report(train['Class'],train['Predicted']))"
   ]
  },
  {
   "cell_type": "markdown",
   "metadata": {},
   "source": [
    "* According to the model accuracy is 76% on Train data,So model is Good fit\n",
    "* Accuracy of Bad Grade Capture by Model is 87% ( Sensitivity )\n",
    "* Accuracy of Good Grade Capture by Model is 73% ( specificity)"
   ]
  },
  {
   "cell_type": "markdown",
   "metadata": {},
   "source": [
    "## Prediction on Test Dataset"
   ]
  },
  {
   "cell_type": "code",
   "execution_count": 34,
   "metadata": {},
   "outputs": [
    {
     "data": {
      "text/html": [
       "<div>\n",
       "<style scoped>\n",
       "    .dataframe tbody tr th:only-of-type {\n",
       "        vertical-align: middle;\n",
       "    }\n",
       "\n",
       "    .dataframe tbody tr th {\n",
       "        vertical-align: top;\n",
       "    }\n",
       "\n",
       "    .dataframe thead th {\n",
       "        text-align: right;\n",
       "    }\n",
       "</style>\n",
       "<table border=\"1\" class=\"dataframe\">\n",
       "  <thead>\n",
       "    <tr style=\"text-align: right;\">\n",
       "      <th></th>\n",
       "      <th>gender</th>\n",
       "      <th>NationalITy</th>\n",
       "      <th>PlaceofBirth</th>\n",
       "      <th>StageID</th>\n",
       "      <th>GradeID</th>\n",
       "      <th>SectionID</th>\n",
       "      <th>Topic</th>\n",
       "      <th>Semester</th>\n",
       "      <th>Relation</th>\n",
       "      <th>ParentAnsweringSurvey</th>\n",
       "      <th>ParentschoolSatisfaction</th>\n",
       "      <th>StudentAbsenceDays</th>\n",
       "      <th>raisedhands</th>\n",
       "      <th>VisITedResources</th>\n",
       "      <th>AnnouncementsView</th>\n",
       "      <th>Discussion</th>\n",
       "      <th>Class</th>\n",
       "    </tr>\n",
       "  </thead>\n",
       "  <tbody>\n",
       "    <tr>\n",
       "      <th>377</th>\n",
       "      <td>1</td>\n",
       "      <td>3</td>\n",
       "      <td>3</td>\n",
       "      <td>2</td>\n",
       "      <td>0</td>\n",
       "      <td>1</td>\n",
       "      <td>0</td>\n",
       "      <td>1</td>\n",
       "      <td>1</td>\n",
       "      <td>1</td>\n",
       "      <td>0</td>\n",
       "      <td>0</td>\n",
       "      <td>32</td>\n",
       "      <td>82</td>\n",
       "      <td>59</td>\n",
       "      <td>63</td>\n",
       "      <td>2</td>\n",
       "    </tr>\n",
       "    <tr>\n",
       "      <th>278</th>\n",
       "      <td>1</td>\n",
       "      <td>7</td>\n",
       "      <td>3</td>\n",
       "      <td>1</td>\n",
       "      <td>3</td>\n",
       "      <td>0</td>\n",
       "      <td>3</td>\n",
       "      <td>0</td>\n",
       "      <td>1</td>\n",
       "      <td>0</td>\n",
       "      <td>1</td>\n",
       "      <td>1</td>\n",
       "      <td>82</td>\n",
       "      <td>31</td>\n",
       "      <td>52</td>\n",
       "      <td>25</td>\n",
       "      <td>2</td>\n",
       "    </tr>\n",
       "    <tr>\n",
       "      <th>228</th>\n",
       "      <td>1</td>\n",
       "      <td>4</td>\n",
       "      <td>4</td>\n",
       "      <td>0</td>\n",
       "      <td>8</td>\n",
       "      <td>1</td>\n",
       "      <td>8</td>\n",
       "      <td>1</td>\n",
       "      <td>1</td>\n",
       "      <td>1</td>\n",
       "      <td>1</td>\n",
       "      <td>0</td>\n",
       "      <td>73</td>\n",
       "      <td>84</td>\n",
       "      <td>77</td>\n",
       "      <td>81</td>\n",
       "      <td>0</td>\n",
       "    </tr>\n",
       "    <tr>\n",
       "      <th>383</th>\n",
       "      <td>1</td>\n",
       "      <td>2</td>\n",
       "      <td>2</td>\n",
       "      <td>2</td>\n",
       "      <td>0</td>\n",
       "      <td>1</td>\n",
       "      <td>0</td>\n",
       "      <td>1</td>\n",
       "      <td>1</td>\n",
       "      <td>1</td>\n",
       "      <td>1</td>\n",
       "      <td>1</td>\n",
       "      <td>70</td>\n",
       "      <td>83</td>\n",
       "      <td>29</td>\n",
       "      <td>33</td>\n",
       "      <td>0</td>\n",
       "    </tr>\n",
       "    <tr>\n",
       "      <th>354</th>\n",
       "      <td>1</td>\n",
       "      <td>3</td>\n",
       "      <td>3</td>\n",
       "      <td>2</td>\n",
       "      <td>0</td>\n",
       "      <td>1</td>\n",
       "      <td>4</td>\n",
       "      <td>0</td>\n",
       "      <td>1</td>\n",
       "      <td>1</td>\n",
       "      <td>1</td>\n",
       "      <td>1</td>\n",
       "      <td>30</td>\n",
       "      <td>98</td>\n",
       "      <td>42</td>\n",
       "      <td>21</td>\n",
       "      <td>0</td>\n",
       "    </tr>\n",
       "  </tbody>\n",
       "</table>\n",
       "</div>"
      ],
      "text/plain": [
       "     gender  NationalITy  PlaceofBirth  StageID  GradeID  SectionID  Topic  \\\n",
       "377       1            3             3        2        0          1      0   \n",
       "278       1            7             3        1        3          0      3   \n",
       "228       1            4             4        0        8          1      8   \n",
       "383       1            2             2        2        0          1      0   \n",
       "354       1            3             3        2        0          1      4   \n",
       "\n",
       "     Semester  Relation  ParentAnsweringSurvey  ParentschoolSatisfaction  \\\n",
       "377         1         1                      1                         0   \n",
       "278         0         1                      0                         1   \n",
       "228         1         1                      1                         1   \n",
       "383         1         1                      1                         1   \n",
       "354         0         1                      1                         1   \n",
       "\n",
       "     StudentAbsenceDays  raisedhands  VisITedResources  AnnouncementsView  \\\n",
       "377                   0           32                82                 59   \n",
       "278                   1           82                31                 52   \n",
       "228                   0           73                84                 77   \n",
       "383                   1           70                83                 29   \n",
       "354                   1           30                98                 42   \n",
       "\n",
       "     Discussion  Class  \n",
       "377          63      2  \n",
       "278          25      2  \n",
       "228          81      0  \n",
       "383          33      0  \n",
       "354          21      0  "
      ]
     },
     "execution_count": 34,
     "metadata": {},
     "output_type": "execute_result"
    }
   ],
   "source": [
    "test=pd.concat([X_test,y_test],axis=1)\n",
    "test.head()"
   ]
  },
  {
   "cell_type": "code",
   "execution_count": 35,
   "metadata": {},
   "outputs": [
    {
     "data": {
      "text/html": [
       "<div>\n",
       "<style scoped>\n",
       "    .dataframe tbody tr th:only-of-type {\n",
       "        vertical-align: middle;\n",
       "    }\n",
       "\n",
       "    .dataframe tbody tr th {\n",
       "        vertical-align: top;\n",
       "    }\n",
       "\n",
       "    .dataframe thead th {\n",
       "        text-align: right;\n",
       "    }\n",
       "</style>\n",
       "<table border=\"1\" class=\"dataframe\">\n",
       "  <thead>\n",
       "    <tr style=\"text-align: right;\">\n",
       "      <th></th>\n",
       "      <th>gender</th>\n",
       "      <th>NationalITy</th>\n",
       "      <th>PlaceofBirth</th>\n",
       "      <th>StageID</th>\n",
       "      <th>GradeID</th>\n",
       "      <th>SectionID</th>\n",
       "      <th>Topic</th>\n",
       "      <th>Semester</th>\n",
       "      <th>Relation</th>\n",
       "      <th>ParentAnsweringSurvey</th>\n",
       "      <th>ParentschoolSatisfaction</th>\n",
       "      <th>StudentAbsenceDays</th>\n",
       "      <th>raisedhands</th>\n",
       "      <th>VisITedResources</th>\n",
       "      <th>AnnouncementsView</th>\n",
       "      <th>Discussion</th>\n",
       "      <th>Class</th>\n",
       "      <th>Predicted</th>\n",
       "    </tr>\n",
       "  </thead>\n",
       "  <tbody>\n",
       "    <tr>\n",
       "      <th>377</th>\n",
       "      <td>1</td>\n",
       "      <td>3</td>\n",
       "      <td>3</td>\n",
       "      <td>2</td>\n",
       "      <td>0</td>\n",
       "      <td>1</td>\n",
       "      <td>0</td>\n",
       "      <td>1</td>\n",
       "      <td>1</td>\n",
       "      <td>1</td>\n",
       "      <td>0</td>\n",
       "      <td>0</td>\n",
       "      <td>32</td>\n",
       "      <td>82</td>\n",
       "      <td>59</td>\n",
       "      <td>63</td>\n",
       "      <td>2</td>\n",
       "      <td>2</td>\n",
       "    </tr>\n",
       "    <tr>\n",
       "      <th>278</th>\n",
       "      <td>1</td>\n",
       "      <td>7</td>\n",
       "      <td>3</td>\n",
       "      <td>1</td>\n",
       "      <td>3</td>\n",
       "      <td>0</td>\n",
       "      <td>3</td>\n",
       "      <td>0</td>\n",
       "      <td>1</td>\n",
       "      <td>0</td>\n",
       "      <td>1</td>\n",
       "      <td>1</td>\n",
       "      <td>82</td>\n",
       "      <td>31</td>\n",
       "      <td>52</td>\n",
       "      <td>25</td>\n",
       "      <td>2</td>\n",
       "      <td>0</td>\n",
       "    </tr>\n",
       "    <tr>\n",
       "      <th>228</th>\n",
       "      <td>1</td>\n",
       "      <td>4</td>\n",
       "      <td>4</td>\n",
       "      <td>0</td>\n",
       "      <td>8</td>\n",
       "      <td>1</td>\n",
       "      <td>8</td>\n",
       "      <td>1</td>\n",
       "      <td>1</td>\n",
       "      <td>1</td>\n",
       "      <td>1</td>\n",
       "      <td>0</td>\n",
       "      <td>73</td>\n",
       "      <td>84</td>\n",
       "      <td>77</td>\n",
       "      <td>81</td>\n",
       "      <td>0</td>\n",
       "      <td>2</td>\n",
       "    </tr>\n",
       "    <tr>\n",
       "      <th>383</th>\n",
       "      <td>1</td>\n",
       "      <td>2</td>\n",
       "      <td>2</td>\n",
       "      <td>2</td>\n",
       "      <td>0</td>\n",
       "      <td>1</td>\n",
       "      <td>0</td>\n",
       "      <td>1</td>\n",
       "      <td>1</td>\n",
       "      <td>1</td>\n",
       "      <td>1</td>\n",
       "      <td>1</td>\n",
       "      <td>70</td>\n",
       "      <td>83</td>\n",
       "      <td>29</td>\n",
       "      <td>33</td>\n",
       "      <td>0</td>\n",
       "      <td>0</td>\n",
       "    </tr>\n",
       "    <tr>\n",
       "      <th>354</th>\n",
       "      <td>1</td>\n",
       "      <td>3</td>\n",
       "      <td>3</td>\n",
       "      <td>2</td>\n",
       "      <td>0</td>\n",
       "      <td>1</td>\n",
       "      <td>4</td>\n",
       "      <td>0</td>\n",
       "      <td>1</td>\n",
       "      <td>1</td>\n",
       "      <td>1</td>\n",
       "      <td>1</td>\n",
       "      <td>30</td>\n",
       "      <td>98</td>\n",
       "      <td>42</td>\n",
       "      <td>21</td>\n",
       "      <td>0</td>\n",
       "      <td>2</td>\n",
       "    </tr>\n",
       "  </tbody>\n",
       "</table>\n",
       "</div>"
      ],
      "text/plain": [
       "     gender  NationalITy  PlaceofBirth  StageID  GradeID  SectionID  Topic  \\\n",
       "377       1            3             3        2        0          1      0   \n",
       "278       1            7             3        1        3          0      3   \n",
       "228       1            4             4        0        8          1      8   \n",
       "383       1            2             2        2        0          1      0   \n",
       "354       1            3             3        2        0          1      4   \n",
       "\n",
       "     Semester  Relation  ParentAnsweringSurvey  ParentschoolSatisfaction  \\\n",
       "377         1         1                      1                         0   \n",
       "278         0         1                      0                         1   \n",
       "228         1         1                      1                         1   \n",
       "383         1         1                      1                         1   \n",
       "354         0         1                      1                         1   \n",
       "\n",
       "     StudentAbsenceDays  raisedhands  VisITedResources  AnnouncementsView  \\\n",
       "377                   0           32                82                 59   \n",
       "278                   1           82                31                 52   \n",
       "228                   0           73                84                 77   \n",
       "383                   1           70                83                 29   \n",
       "354                   1           30                98                 42   \n",
       "\n",
       "     Discussion  Class  Predicted  \n",
       "377          63      2          2  \n",
       "278          25      2          0  \n",
       "228          81      0          2  \n",
       "383          33      0          0  \n",
       "354          21      0          2  "
      ]
     },
     "execution_count": 35,
     "metadata": {},
     "output_type": "execute_result"
    }
   ],
   "source": [
    "test['Predicted']=output.predict(X_test)\n",
    "test.head()"
   ]
  },
  {
   "cell_type": "markdown",
   "metadata": {},
   "source": [
    "## Model Performance Metrics on Test data"
   ]
  },
  {
   "cell_type": "code",
   "execution_count": 36,
   "metadata": {},
   "outputs": [
    {
     "name": "stdout",
     "output_type": "stream",
     "text": [
      "[[26  0 17]\n",
      " [ 0 38  8]\n",
      " [11  5 39]]\n"
     ]
    }
   ],
   "source": [
    "from sklearn.metrics import confusion_matrix\n",
    "matrix = confusion_matrix(test['Predicted'],test['Class'])\n",
    "print(matrix)"
   ]
  },
  {
   "cell_type": "code",
   "execution_count": 37,
   "metadata": {},
   "outputs": [
    {
     "name": "stdout",
     "output_type": "stream",
     "text": [
      "              precision    recall  f1-score   support\n",
      "\n",
      "           0       0.60      0.70      0.65        37\n",
      "           1       0.83      0.88      0.85        43\n",
      "           2       0.71      0.61      0.66        64\n",
      "\n",
      "    accuracy                           0.72       144\n",
      "   macro avg       0.71      0.73      0.72       144\n",
      "weighted avg       0.72      0.72      0.71       144\n",
      "\n"
     ]
    }
   ],
   "source": [
    "from sklearn.metrics import classification_report\n",
    "print(classification_report(test['Class'],test['Predicted']))"
   ]
  },
  {
   "cell_type": "markdown",
   "metadata": {},
   "source": [
    "* According to the model accuracy is 72% on Test data,So model is Good fit\n",
    "* Accuracy of Bad Grade Capture by Model is 88% ( Sensitivity )\n",
    "* Accuracy of Good Grade Capture by Model is 61% ( Specificity)"
   ]
  },
  {
   "cell_type": "code",
   "execution_count": 38,
   "metadata": {},
   "outputs": [
    {
     "data": {
      "text/plain": [
       "(array([-1.66294024,  0.23663517,  0.20242868]),\n",
       " array([[-6.50994425e-01, -1.24322900e-01,  1.55183471e-01,\n",
       "         -1.75801239e+00, -5.61132864e-01,  8.60068585e-02,\n",
       "         -8.17399462e-02,  1.57690704e-01,  8.25217484e-01,\n",
       "          7.33098347e-01,  4.93283482e-01,  2.04867543e+00,\n",
       "          3.21652243e-02,  6.68495346e-03, -3.98753895e-03,\n",
       "          1.17417710e-02],\n",
       "        [ 4.41974465e-01,  2.54909153e-01, -2.24232912e-01,\n",
       "          1.15080293e+00,  2.95220227e-01, -1.64012460e-03,\n",
       "          3.48309458e-02,  6.75259985e-01,  1.68623006e-01,\n",
       "         -1.06060494e+00, -1.60112860e-01, -2.94793852e+00,\n",
       "         -2.63304398e-02, -3.03611483e-02, -3.10654179e-02,\n",
       "         -1.12534257e-03],\n",
       "        [ 1.51405028e-01,  1.51372280e-02, -8.21378578e-02,\n",
       "         -3.75709259e-01, -2.36309804e-02,  1.60054322e-04,\n",
       "          2.89310159e-02, -1.73946484e-01, -7.40952242e-01,\n",
       "          1.47482303e-01, -3.38918909e-01,  5.33914233e-01,\n",
       "         -1.55680323e-02,  1.77174532e-02,  1.15769053e-02,\n",
       "         -8.58176581e-03]]))"
      ]
     },
     "execution_count": 38,
     "metadata": {},
     "output_type": "execute_result"
    }
   ],
   "source": [
    "output.intercept_,output.coef_"
   ]
  },
  {
   "cell_type": "markdown",
   "metadata": {},
   "source": [
    "## Odds Ratio"
   ]
  },
  {
   "cell_type": "code",
   "execution_count": null,
   "metadata": {},
   "outputs": [],
   "source": []
  },
  {
   "cell_type": "code",
   "execution_count": 39,
   "metadata": {},
   "outputs": [
    {
     "ename": "NameError",
     "evalue": "name 'model' is not defined",
     "output_type": "error",
     "traceback": [
      "\u001b[1;31m---------------------------------------------------------------------------\u001b[0m",
      "\u001b[1;31mNameError\u001b[0m                                 Traceback (most recent call last)",
      "\u001b[1;32m<ipython-input-39-e9d895724bb7>\u001b[0m in \u001b[0;36m<module>\u001b[1;34m\u001b[0m\n\u001b[1;32m----> 1\u001b[1;33m \u001b[0mModel_Odds\u001b[0m\u001b[1;33m=\u001b[0m\u001b[0mpd\u001b[0m\u001b[1;33m.\u001b[0m\u001b[0mDataFrame\u001b[0m\u001b[1;33m(\u001b[0m\u001b[0mnp\u001b[0m\u001b[1;33m.\u001b[0m\u001b[0mexp\u001b[0m\u001b[1;33m(\u001b[0m\u001b[0mmodel\u001b[0m\u001b[1;33m.\u001b[0m\u001b[0mparams\u001b[0m\u001b[1;33m)\u001b[0m\u001b[1;33m,\u001b[0m\u001b[0mcolumns\u001b[0m\u001b[1;33m=\u001b[0m\u001b[1;33m[\u001b[0m\u001b[1;34m\"Odds_Ratio\"\u001b[0m\u001b[1;33m]\u001b[0m\u001b[1;33m)\u001b[0m\u001b[1;33m\u001b[0m\u001b[1;33m\u001b[0m\u001b[0m\n\u001b[0m\u001b[0;32m      2\u001b[0m \u001b[0mModel_Odds\u001b[0m\u001b[1;33m\u001b[0m\u001b[1;33m\u001b[0m\u001b[0m\n",
      "\u001b[1;31mNameError\u001b[0m: name 'model' is not defined"
     ]
    }
   ],
   "source": [
    "Model_Odds=pd.DataFrame(np.exp(model.params),columns=[\"Odds_Ratio\"])\n",
    "Model_Odds"
   ]
  }
 ],
 "metadata": {
  "kernelspec": {
   "display_name": "Python 3",
   "language": "python",
   "name": "python3"
  },
  "language_info": {
   "codemirror_mode": {
    "name": "ipython",
    "version": 3
   },
   "file_extension": ".py",
   "mimetype": "text/x-python",
   "name": "python",
   "nbconvert_exporter": "python",
   "pygments_lexer": "ipython3",
   "version": "3.8.5"
  }
 },
 "nbformat": 4,
 "nbformat_minor": 4
}
